{
 "cells": [
  {
   "cell_type": "markdown",
   "id": "0",
   "metadata": {},
   "source": [
    "# Filtrado en el dominio de la frecuencia - Filtrado Pasa-bajas\n",
    "\n",
    "<div class=\"alert alert-block alert-success\">\n",
    "<b>Resumen:</b> Este notebook implementa un filtro pasabajas en el dominio de la frecuencia utilizando la Transformada de Fourier. El filtro permite preservar las bajas frecuencias de una imagen, eliminando las altas frecuencias que suelen corresponder a bordes y contornos.\n",
    "</div>\n",
    "\n",
    "***"
   ]
  },
  {
   "cell_type": "markdown",
   "id": "1",
   "metadata": {},
   "source": [
    "Importación de librerias necesarias"
   ]
  },
  {
   "cell_type": "code",
   "execution_count": null,
   "id": "2",
   "metadata": {},
   "outputs": [],
   "source": [
    "import cv2\n",
    "import numpy as np\n",
    "import matplotlib.pyplot as plt"
   ]
  },
  {
   "cell_type": "markdown",
   "id": "3",
   "metadata": {},
   "source": [
    "## 2. Definición de Funciones Auxiliares\n",
    "### 2.1. Creación de una máscara Gaussiana\n",
    "Esta función crea una máscara Gaussiana que se utilizará para filtrar las frecuencias en el espectro de Fourier"
   ]
  },
  {
   "cell_type": "code",
   "execution_count": null,
   "id": "4",
   "metadata": {},
   "outputs": [],
   "source": [
    "def create_lpf_mask(dft_shift, sigma):\n",
    "    \"\"\"\n",
    "    Genera una máscara de filtro pasa bajas gaussiana con regularización.\n",
    "\n",
    "    Parámetros:\n",
    "    -----------\n",
    "    dft_shift : ndarray\n",
    "        Transformada de Fourier desplazada (2D).\n",
    "    \n",
    "    sigma : float\n",
    "        Desviación estándar del filtro gaussiano.\n",
    "\n",
    "    Retorna:\n",
    "    --------\n",
    "    H : ndarray\n",
    "        Máscara de filtro pasa bajas de las mismas dimensiones que dft_shift.\n",
    "    \"\"\"\n",
    "    \n",
    "    # tamaño de la mascara del filtro\n",
    "    rows, cols = dft_shift.shape[:2]\n",
    "\n",
    "    # Crear el filtro gaussiano\n",
    "    x = np.linspace(-cols//2, cols//2, cols)\n",
    "    y = np.linspace(-rows//2, rows//2, rows)\n",
    "    X, Y = np.meshgrid(x, y)\n",
    "    D = np.sqrt(X**2 + Y**2)\n",
    "\n",
    "    # Filtro pasa bajas usando el filtro gaussiano\n",
    "    mask = np.exp(-(D**2 / (2 * (sigma ** 2))))\n",
    "\n",
    "    return mask.astype(np.float32)"
   ]
  },
  {
   "cell_type": "markdown",
   "id": "5",
   "metadata": {},
   "source": [
    "### 2.2. Reconstrucción de la imagen filtrada\n",
    "Esta función reconstruye la imagen filtrada a partir del espectro de Fourier filtrado."
   ]
  },
  {
   "cell_type": "code",
   "execution_count": null,
   "id": "6",
   "metadata": {},
   "outputs": [],
   "source": [
    "def reconstruct_image(dft_shift_filtered):\n",
    "    \"\"\"\n",
    "    Reconstruye la imagen filtrada a partir del espectro de Fourier filtrado.\n",
    "\n",
    "    Args:\n",
    "        dft_shift_filtered (np.ndarray): Espectro de Fourier filtrado.\n",
    "\n",
    "    Returns:\n",
    "        np.ndarray: Imagen filtrada en escala de grises.\n",
    "    \"\"\"\n",
    "    # Desplazar el espectro de vuelta\n",
    "    dft_inverse_shift = np.fft.ifftshift(dft_shift_filtered)\n",
    "    \n",
    "    # Aplicar la transformada inversa de Fourier\n",
    "    img_back = cv2.idft(dft_inverse_shift)\n",
    "  \n",
    "    # Calcula la magnitud\n",
    "    img_back = cv2.magnitude(img_back[:,:,0],img_back[:,:,1])\n",
    "     \n",
    "    # Normalizar para visualización\n",
    "    img_back = cv2.normalize(img_back, None, 0, 255, cv2.NORM_MINMAX).astype(np.uint8)\n",
    "    \n",
    "    return img_back"
   ]
  },
  {
   "cell_type": "markdown",
   "id": "7",
   "metadata": {},
   "source": [
    "## 3. Carga y verificación de la Imagen\n",
    "\n",
    "Cargamos la imagen en escala de grises y verificamos que sea correcta."
   ]
  },
  {
   "cell_type": "code",
   "execution_count": null,
   "id": "8",
   "metadata": {},
   "outputs": [],
   "source": [
    "# Se utiliza cv2.IMREAD_GRAYSCALE para simplificar el análisis de frecuencia\n",
    "im_1 = cv2.imread('./images/lena_gray.tif', cv2.IMREAD_GRAYSCALE)\n",
    "\n",
    "# Verificación de que la imagen se haya cargado correctamente\n",
    "if im_1 is None:\n",
    "    raise FileNotFoundError(\"La imagen no se encontró en la ruta especificada.\")"
   ]
  },
  {
   "cell_type": "markdown",
   "id": "9",
   "metadata": {},
   "source": [
    "## 4. Transformada de Fourier\n",
    "\n",
    "Convertimos la imagen al dominio de la frecuencia utilizando la Transformada Discreta de Fourier (DFT) y centramos el espectro."
   ]
  },
  {
   "cell_type": "code",
   "execution_count": null,
   "id": "10",
   "metadata": {},
   "outputs": [],
   "source": [
    "# Convertir la imagen a float y usando DFT\n",
    "dft = cv2.dft(np.float32(im_1), flags=cv2.DFT_COMPLEX_OUTPUT)\n",
    "\n",
    "# Desplazar el espectro de Fourier para centrar las bajas frecuencias\n",
    "dft_shift = np.fft.fftshift(dft)\n",
    "print(f\"Transformada de Fourier aplicada y desplazada (size={dft_shift.shape}).\")"
   ]
  },
  {
   "cell_type": "markdown",
   "id": "11",
   "metadata": {},
   "source": [
    "## 5. Aplicación del Filtro Pasabajas\n",
    "\n",
    "Creamos y aplicamos la máscara circular para filtrar las altas frecuencias."
   ]
  },
  {
   "cell_type": "code",
   "execution_count": null,
   "id": "12",
   "metadata": {},
   "outputs": [],
   "source": [
    "# Crear máscara circular basada en el tamaño de dft_shift\n",
    "sigma = 60\n",
    "mask = create_lpf_mask(dft_shift, sigma)\n",
    "print(\"Máscara creada basada en dft_shift.\")\n",
    "\n",
    "# Aplicar filtro pasabajas\n",
    "# Expandir las dimensiones de la máscara para que coincida con el espectro de Fourier\n",
    "dft_shift_filtered = dft_shift * mask[:,:,np.newaxis]\n",
    "print(\"Filtro pasabajas aplicado al espectro de Fourier.\")"
   ]
  },
  {
   "cell_type": "markdown",
   "id": "13",
   "metadata": {},
   "source": [
    "## 6. Reconstrucción de la imagen filtrada\n",
    "\n",
    "Utilizamos la función definida anteriormente para reconstruir la imagen filtrada a partir del espectro de Fourier filtrado."
   ]
  },
  {
   "cell_type": "code",
   "execution_count": null,
   "id": "14",
   "metadata": {},
   "outputs": [],
   "source": [
    "# Reconstrucción la imagen filtrada\n",
    "im_filtered = reconstruct_image(dft_shift_filtered)"
   ]
  },
  {
   "cell_type": "markdown",
   "id": "15",
   "metadata": {},
   "source": [
    "## 7. Visualización de la imagen original y filtrada\n",
    "\n",
    "Comparamos la imagen original con la imagen filtrada para observar el efecto del filtro pasabajas."
   ]
  },
  {
   "cell_type": "code",
   "execution_count": null,
   "id": "16",
   "metadata": {},
   "outputs": [],
   "source": [
    "# Visualizar la imagen filtrada\n",
    "plt.figure(figsize=(8,8))\n",
    "plt.subplot(121),plt.imshow(im_1, cmap = 'gray')\n",
    "plt.title('Imagen original'), plt.xticks([]), plt.yticks([])\n",
    "plt.subplot(122),plt.imshow(im_filtered, cmap = 'gray')\n",
    "plt.title('Imagen filtrada pasabajas'), plt.xticks([]), plt.yticks([])\n",
    "plt.show()"
   ]
  },
  {
   "cell_type": "markdown",
   "id": "17",
   "metadata": {},
   "source": [
    "### 7.1 Visualización de la máscara"
   ]
  },
  {
   "cell_type": "code",
   "execution_count": null,
   "id": "18",
   "metadata": {},
   "outputs": [],
   "source": [
    "plt.figure(figsize=(2,2))\n",
    "plt.imshow(mask, cmap='gray')\n",
    "plt.title('Máscara')\n",
    "plt.axis('off')\n",
    "plt.show()"
   ]
  },
  {
   "cell_type": "markdown",
   "id": "19",
   "metadata": {},
   "source": [
    "## 8. Análisis adicional: comparación de detalles\n",
    "\n",
    "Para apreciar mejor el efecto del filtro pasabajas, podemos observar la diferencia entre la imagen original y la filtrada."
   ]
  },
  {
   "cell_type": "code",
   "execution_count": null,
   "id": "20",
   "metadata": {},
   "outputs": [],
   "source": [
    "# Calcular la diferencia entre la imagen original y la filtrada\n",
    "difference = cv2.absdiff(im_1, im_filtered)\n",
    "\n",
    "plt.figure(figsize=(4,4))\n",
    "plt.imshow(difference, cmap='gray')\n",
    "plt.title('Diferencia entre original y filtrada')\n",
    "plt.axis('off')\n",
    "plt.show()"
   ]
  }
 ],
 "metadata": {
  "kernelspec": {
   "display_name": "cv2-kernel",
   "language": "python",
   "name": "cv2-kernel"
  },
  "language_info": {
   "codemirror_mode": {
    "name": "ipython",
    "version": 3
   },
   "file_extension": ".py",
   "mimetype": "text/x-python",
   "name": "python",
   "nbconvert_exporter": "python",
   "pygments_lexer": "ipython3",
   "version": "3.8.18"
  }
 },
 "nbformat": 4,
 "nbformat_minor": 5
}
