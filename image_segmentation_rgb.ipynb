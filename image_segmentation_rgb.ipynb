{
 "cells": [
  {
   "cell_type": "markdown",
   "metadata": {},
   "source": [
    "# Actividad en clase\n"
   ]
  },
  {
   "cell_type": "code",
   "execution_count": null,
   "metadata": {},
   "outputs": [],
   "source": [
    "import cv2\n",
    "import numpy as np\n",
    "import math\n",
    "from matplotlib import pyplot as plt\n"
   ]
  },
  {
   "cell_type": "code",
   "execution_count": null,
   "metadata": {},
   "outputs": [],
   "source": [
    "im_bgr = cv2.imread('./images/peppers.png')\n",
    "im_rgb = cv2.cvtColor(im_bgr, cv2.COLOR_BGR2RGB)\n",
    "\n",
    "\n",
    "def show_image(image, title='Image', axis='off', cmap=None):\n",
    "  plt.imshow(image, cmap=cmap)\n",
    "  plt.title(title)\n",
    "  plt.axis(axis)\n",
    "  plt.show()\n",
    "\n",
    "\n",
    "\n",
    "show_image(im_rgb, 'Original Image', 'on')\n",
    "\n",
    "\n",
    "\n",
    "\n"
   ]
  },
  {
   "cell_type": "markdown",
   "metadata": {},
   "source": [
    "Desarrolle un algoritmo de visión por computadora que identifique y separe objetos en una imagen según su color.\n",
    "\n",
    "Entrada:\n",
    "\n",
    "Una imagen en formato RGB.\n",
    "Salida:\n",
    "\n",
    "Una imagen indexada, donde cada píxel recibe una etiqueta según su color:\n",
    "\n",
    "- 1 para los objetos blancos.\n",
    "- 2 para los objetos rojos. \n",
    "- 0 para el fondo.\n",
    "\n"
   ]
  },
  {
   "cell_type": "code",
   "execution_count": null,
   "metadata": {},
   "outputs": [],
   "source": [
    "\n",
    "\n",
    "def segment_image(image_path):\n",
    "    # Cargar la imagen\n",
    "    image = cv2.imread(image_path)\n",
    "    if image is None:\n",
    "        raise ValueError(\"Imagen no encontrada o no se puede cargar.\")\n",
    "\n",
    "    # Convertir de BGR a HSV\n",
    "    hsv = cv2.cvtColor(image, cv2.COLOR_BGR2HSV)\n",
    "\n",
    "    # Adjusted range for detecting white objects (reducing shadow effects)\n",
    "    lower_white = np.array([0, 0, 100])   # Lower V to include shaded white areas\n",
    "    upper_white = np.array([180, 80, 255])  # Increased S to include slightly saturated whites\n",
    "    mask_white = cv2.inRange(hsv, lower_white, upper_white)\n",
    "\n",
    "    # Adjusted range for detecting red objects\n",
    "    lower_red1 = np.array([0, 100, 50])   # Lower S and V to include darker reds\n",
    "    upper_red1 = np.array([10, 255, 255])\n",
    "    lower_red2 = np.array([170, 100, 50])\n",
    "    upper_red2 = np.array([180, 255, 255])\n",
    "\n",
    "    mask_red1 = cv2.inRange(hsv, lower_red1, upper_red1)\n",
    "    mask_red2 = cv2.inRange(hsv, lower_red2, upper_red2)\n",
    "    mask_red = mask_red1 | mask_red2  # Combinar ambas máscaras\n",
    "\n",
    "    # Crear la imagen indexada (0 = fondo, 1 = blanco, 2 = rojo)\n",
    "    indexed_image = np.zeros_like(mask_white, dtype=np.uint8)\n",
    "    indexed_image[mask_white > 0] = 1  # Etiquetar objetos blancos como 1\n",
    "    indexed_image[mask_red > 0] = 2    # Etiquetar objetos rojos como 2\n",
    "\n",
    "    return indexed_image\n",
    "\n",
    "# Ejemplo de uso\n",
    "image_path = './images/peppers.png' # Cambia esto por la ruta de tu imagen\n",
    "segmented = segment_image(image_path)\n",
    "\n",
    "\n",
    "show_image(im_rgb, 'Original Image')\n",
    "show_image(segmented, 'Segmented Image', cmap='jet')\n",
    "\n",
    "cv2.imwrite('seg.png', segmented * 127)  # Guardar la imagen segmentada"
   ]
  },
  {
   "cell_type": "code",
   "execution_count": null,
   "metadata": {},
   "outputs": [],
   "source": []
  }
 ],
 "metadata": {
  "kernelspec": {
   "display_name": "cv2-kernel",
   "language": "python",
   "name": "cv2-kernel"
  }
 },
 "nbformat": 4,
 "nbformat_minor": 2
}
