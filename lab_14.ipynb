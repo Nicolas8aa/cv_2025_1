{
 "cells": [
  {
   "cell_type": "markdown",
   "id": "0",
   "metadata": {},
   "source": [
    "# Filtros lineales espaciales - caso pasabajas\n",
    "\n",
    "<div class=\"alert alert-block alert-success\">\n",
    "<b>Resumen:</b>  En este notebook exploraremos los filtros pasabajas lineales en el dominio espacial, aplicándolos a imágenes y observando su efecto, especialmente en presencia de ruido Salt & Pepper.\n",
    "</div>\n",
    "\n",
    "***"
   ]
  },
  {
   "cell_type": "code",
   "execution_count": null,
   "id": "1",
   "metadata": {},
   "outputs": [],
   "source": [
    "# Importar las bibliotecas necesarias\n",
    "import cv2\n",
    "import numpy as np\n",
    "import matplotlib.pyplot as plt"
   ]
  },
  {
   "cell_type": "markdown",
   "id": "2",
   "metadata": {},
   "source": [
    "# 1. Lectura de la imagen de prueba"
   ]
  },
  {
   "cell_type": "code",
   "execution_count": null,
   "id": "3",
   "metadata": {},
   "outputs": [],
   "source": [
    "# Leer la imagen en escala de grises\n",
    "imagen_gray_1 = cv2.imread('test_pattern_blurring_orig.tif', cv2.IMREAD_GRAYSCALE)\n",
    "\n",
    "# Verificar si la imagen se ha cargado correctamente\n",
    "if imagen_gray_1 is None:\n",
    "    print(\"Error: La imagen no se pudo cargar. Verifica la ruta y el nombre del archivo.\")\n",
    "else:\n",
    "    # Mostrar la imagen original\n",
    "    plt.figure(figsize=(4,4))\n",
    "    plt.imshow(imagen_gray_1, cmap='gray')\n",
    "    plt.title('Imagen Original')\n",
    "    plt.axis('off')\n",
    "    plt.show()"
   ]
  },
  {
   "cell_type": "markdown",
   "id": "4",
   "metadata": {},
   "source": [
    "## 2. Filtro Pasabajas con un Box Kernel\n",
    "\n",
    "### 2.1. Kernels "
   ]
  },
  {
   "cell_type": "code",
   "execution_count": null,
   "id": "5",
   "metadata": {},
   "outputs": [],
   "source": [
    "# Crear kernels de tipo box (promedio) con diferentes tamaños\n",
    "w_1_a = np.ones((3, 3), dtype=np.float32) / 9    # Kernel 3x3\n",
    "w_1_b = np.ones((11, 11), dtype=np.float32) / 121  # Kernel 11x11\n",
    "w_1_c = np.ones((21, 21), dtype=np.float32) / 441  # Kernel 21x21"
   ]
  },
  {
   "cell_type": "markdown",
   "id": "6",
   "metadata": {},
   "source": [
    "Visualización kernels"
   ]
  },
  {
   "cell_type": "code",
   "execution_count": null,
   "id": "7",
   "metadata": {},
   "outputs": [],
   "source": [
    "# Visualizar el kernel Gaussian 21x21\n",
    "plt.figure(figsize=(3,3))\n",
    "plt.imshow(w_1_c, cmap='gray')\n",
    "plt.title('Gaussian Kernel 21x21')\n",
    "plt.colorbar()\n",
    "plt.show()"
   ]
  },
  {
   "cell_type": "markdown",
   "id": "8",
   "metadata": {},
   "source": [
    "### 2.2. Filtrado"
   ]
  },
  {
   "cell_type": "code",
   "execution_count": null,
   "id": "9",
   "metadata": {},
   "outputs": [],
   "source": [
    "# Aplicar los filtros a la imagen\n",
    "g_1_a = cv2.filter2D(imagen_gray_1, -1, w_1_a, borderType=cv2.BORDER_REPLICATE)\n",
    "g_1_b = cv2.filter2D(imagen_gray_1, -1, w_1_b, borderType=cv2.BORDER_REPLICATE)\n",
    "g_1_c = cv2.filter2D(imagen_gray_1, -1, w_1_c, borderType=cv2.BORDER_REPLICATE)"
   ]
  },
  {
   "cell_type": "markdown",
   "id": "10",
   "metadata": {},
   "source": [
    "### 2.3. Resultado"
   ]
  },
  {
   "cell_type": "code",
   "execution_count": null,
   "id": "11",
   "metadata": {},
   "outputs": [],
   "source": [
    "# Mostrar las imágenes filtradas\n",
    "fig, axs = plt.subplots(1, 3, figsize=(18,6))\n",
    "\n",
    "axs[0].imshow(g_1_a, cmap='gray')\n",
    "axs[0].set_title('Filtro Box 3x3')\n",
    "axs[0].axis('off')\n",
    "\n",
    "axs[1].imshow(g_1_b, cmap='gray')\n",
    "axs[1].set_title('Filtro Box 11x11')\n",
    "axs[1].axis('off')\n",
    "\n",
    "axs[2].imshow(g_1_c, cmap='gray')\n",
    "axs[2].set_title('Filtro Box 21x21')\n",
    "axs[2].axis('off')\n",
    "\n",
    "plt.show()"
   ]
  },
  {
   "cell_type": "markdown",
   "id": "12",
   "metadata": {},
   "source": [
    "## 3. Filtro Pasabajas con Gaussian Kernel\n",
    "\n",
    "### 3.1. Kernels"
   ]
  },
  {
   "cell_type": "code",
   "execution_count": null,
   "id": "13",
   "metadata": {},
   "outputs": [],
   "source": [
    "# Crear kernels Gaussianos con diferentes tamaños y sigma\n",
    "w_2_a = cv2.getGaussianKernel(3, 1) * cv2.getGaussianKernel(3, 1).T    # 3x3, sigma=1\n",
    "w_2_b = cv2.getGaussianKernel(11, 2) * cv2.getGaussianKernel(11, 2).T  # 11x11, sigma=2\n",
    "w_2_c = cv2.getGaussianKernel(21, 3) * cv2.getGaussianKernel(21, 3).T  # 21x21, sigma=3"
   ]
  },
  {
   "cell_type": "markdown",
   "id": "14",
   "metadata": {},
   "source": [
    "Visualización kernels"
   ]
  },
  {
   "cell_type": "code",
   "execution_count": null,
   "id": "15",
   "metadata": {},
   "outputs": [],
   "source": [
    "# Visualizar el kernel Gaussian 21x21\n",
    "plt.figure(figsize=(3,3))\n",
    "plt.imshow(w_2_c, cmap='gray')\n",
    "plt.title('Gaussian Kernel 21x21')\n",
    "plt.colorbar()\n",
    "plt.show()"
   ]
  },
  {
   "cell_type": "markdown",
   "id": "16",
   "metadata": {},
   "source": [
    "### 3.2. Filtrado"
   ]
  },
  {
   "cell_type": "code",
   "execution_count": null,
   "id": "17",
   "metadata": {},
   "outputs": [],
   "source": [
    "# Aplicar los filtros Gaussianos a la imagen\n",
    "g_2_a = cv2.filter2D(imagen_gray_1, -1, w_2_a, borderType=cv2.BORDER_REPLICATE)\n",
    "g_2_b = cv2.filter2D(imagen_gray_1, -1, w_2_b, borderType=cv2.BORDER_REPLICATE)\n",
    "g_2_c = cv2.filter2D(imagen_gray_1, -1, w_2_c, borderType=cv2.BORDER_REPLICATE)"
   ]
  },
  {
   "cell_type": "markdown",
   "id": "18",
   "metadata": {},
   "source": [
    "### 2.3. Resultado"
   ]
  },
  {
   "cell_type": "code",
   "execution_count": null,
   "id": "19",
   "metadata": {},
   "outputs": [],
   "source": [
    "# Mostrar las imágenes filtradas\n",
    "fig, axs = plt.subplots(1, 3, figsize=(18,6))\n",
    "\n",
    "axs[0].imshow(g_2_a, cmap='gray')\n",
    "axs[0].set_title('Filtro Gaussiano 3x3')\n",
    "axs[0].axis('off')\n",
    "\n",
    "axs[1].imshow(g_2_b, cmap='gray')\n",
    "axs[1].set_title('Filtro Gaussiano 11x11')\n",
    "axs[1].axis('off')\n",
    "\n",
    "axs[2].imshow(g_2_c, cmap='gray')\n",
    "axs[2].set_title('Filtro Gaussiano 21x21')\n",
    "axs[2].axis('off')\n",
    "\n",
    "plt.show()"
   ]
  },
  {
   "cell_type": "markdown",
   "id": "20",
   "metadata": {},
   "source": [
    "## 3. Efecto del ruido Salt & Pepper a la Imagen\n",
    "\n",
    "### 3.1. Función para añadir ruido Salt & Pepper"
   ]
  },
  {
   "cell_type": "code",
   "execution_count": null,
   "id": "21",
   "metadata": {},
   "outputs": [],
   "source": [
    "def add_salt_and_pepper_noise(image, prob):\n",
    "    \"\"\"\n",
    "    Añade ruido \"salt & pepper\" a una imagen.\n",
    "    \n",
    "    Parámetros:\n",
    "    - image: Imagen en escala de grises (numpy.ndarray).\n",
    "    - prob: Probabilidad de que un píxel sea reemplazado por ruido.\n",
    "    \n",
    "    Retorna:\n",
    "    - Imagen con ruido \"salt & pepper\" añadida.\n",
    "    \"\"\"\n",
    "    # Crear una copia de la imagen para no modificar la original\n",
    "    noisy_image = image.copy()\n",
    "    \n",
    "    # Generar una matriz de números aleatorios\n",
    "    random_matrix = np.random.rand(*image.shape)\n",
    "    \n",
    "    # Determinar dónde poner el 'pepper' (0)\n",
    "    noisy_image[random_matrix < (prob / 2)] = 0\n",
    "    \n",
    "    # Determinar dónde poner el 'salt' (255)\n",
    "    noisy_image[random_matrix > 1 - (prob / 2)] = 255\n",
    "    \n",
    "    return noisy_image"
   ]
  },
  {
   "cell_type": "markdown",
   "id": "22",
   "metadata": {},
   "source": [
    "### 3.2. Generación de imágenes con ruido de baja y alta densidad"
   ]
  },
  {
   "cell_type": "code",
   "execution_count": null,
   "id": "23",
   "metadata": {},
   "outputs": [],
   "source": [
    "# Ruido de baja densidad\n",
    "prob_low = 0.0025\n",
    "n_sp_low = add_salt_and_pepper_noise(imagen_gray_1, prob_low)\n",
    "\n",
    "# Ruido de alta densidad\n",
    "prob_high = 0.1\n",
    "n_sp_high = add_salt_and_pepper_noise(imagen_gray_1, prob_high)"
   ]
  },
  {
   "cell_type": "markdown",
   "id": "24",
   "metadata": {},
   "source": [
    "### 3.3. Visualización"
   ]
  },
  {
   "cell_type": "code",
   "execution_count": null,
   "id": "25",
   "metadata": {},
   "outputs": [],
   "source": [
    "# Mostrar las imágenes con ruido\n",
    "fig, axs = plt.subplots(1, 2, figsize=(12,6))\n",
    "\n",
    "axs[0].imshow(n_sp_low, cmap='gray')\n",
    "axs[0].set_title('Ruido Salt & Pepper Bajo')\n",
    "axs[0].axis('off')\n",
    "\n",
    "axs[1].imshow(n_sp_high, cmap='gray')\n",
    "axs[1].set_title('Ruido Salt & Pepper Alto')\n",
    "axs[1].axis('off')"
   ]
  },
  {
   "cell_type": "markdown",
   "id": "26",
   "metadata": {},
   "source": [
    "## 4. Actividad\n",
    "\n",
    "Aplique las anteriores estrategia de filtrado a imagenes contaminadas por ruido Salt & Pepper\n",
    "\n",
    "---"
   ]
  },
  {
   "cell_type": "code",
   "execution_count": null,
   "id": "27",
   "metadata": {},
   "outputs": [],
   "source": [
    "# aquí su código"
   ]
  },
  {
   "cell_type": "markdown",
   "id": "28",
   "metadata": {},
   "source": [
    "---\n",
    "\n",
    "## 5. Conclusiones\n",
    "\n",
    "- <b>Efectividad de los filtros:</b> Los filtros pasabajas suavizan la imagen y reducen el ruido de alta frecuencia. Sin embargo, su efectividad varía dependiendo del tipo y densidad del ruido.\n",
    "\n",
    "- <b>Ruido Salt & Pepper:</b> Este tipo de ruido es impulsivo y afecta píxeles individuales de manera extrema (negro a blanco o viceversa). Los filtros lineales como los de tipo box o Gaussianos no son muy efectivos para eliminar este tipo de ruido, especialmente en altas densidades, ya que tienden a difuminar el ruido en lugar de eliminarlo. Se recomienda filtros no lineales como por ejemplo el mediana.\n",
    "\n",
    "- <b>Tamaño del kernel:</b> Un kernel más grande aumenta el efecto de suavizado, pero también puede causar una pérdida de detalles importantes en la imagen."
   ]
  }
 ],
 "metadata": {
  "kernelspec": {
   "display_name": "cv2-kernel",
   "language": "python",
   "name": "cv2-kernel"
  },
  "language_info": {
   "codemirror_mode": {
    "name": "ipython",
    "version": 3
   },
   "file_extension": ".py",
   "mimetype": "text/x-python",
   "name": "python",
   "nbconvert_exporter": "python",
   "pygments_lexer": "ipython3",
   "version": "3.8.18"
  }
 },
 "nbformat": 4,
 "nbformat_minor": 5
}
