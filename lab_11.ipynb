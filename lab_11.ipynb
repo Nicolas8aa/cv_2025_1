{
 "cells": [
  {
   "cell_type": "markdown",
   "id": "0",
   "metadata": {},
   "source": [
    "# Práctica 11. Transformaciones de intensidad (pixelwise)\n",
    "\n",
    "<div class=\"alert alert-block alert-success\">\n",
    "<b>Resumen:</b> En esta práctica se estudiarán una serie de operaciones de procesamiento de imágenes utilizando Python, enfocándose en la manipulación y análisis de imágenes en escala de grises. Las tareas incluirán la carga y visualización de imágenes, el cálculo de imágenes negativas, la aplicación de transformaciones logarítmicas y corrección gamma, así como la normalización de los resultados para una visualización adecuada. Estas técnicas permitirán resaltar detalles específicos y ajustar la luminancia de las imágenes de manera no lineal, facilitando un análisis más profundo de sus características.\n",
    "</div>\n",
    "\n",
    "***"
   ]
  },
  {
   "cell_type": "code",
   "execution_count": null,
   "id": "1",
   "metadata": {},
   "outputs": [],
   "source": [
    "# Preámbulo\n",
    "import cv2\n",
    "import numpy as np\n",
    "import matplotlib.pyplot as plt"
   ]
  },
  {
   "cell_type": "markdown",
   "id": "2",
   "metadata": {},
   "source": [
    "***\n",
    "\n",
    "### Lectura de imágenes\n",
    "\n",
    "Se procede a leer las imágenes en escala de grises y a visualizarlas. Además, se calcula el rango de intensidades para cada imagen."
   ]
  },
  {
   "cell_type": "code",
   "execution_count": null,
   "id": "3",
   "metadata": {},
   "outputs": [],
   "source": [
    "# Lectura de las imágenes en escala de grises\n",
    "im_gray_1 = cv2.imread('./images/cameraman.tif')\n",
    "im_gray_2 = cv2.imread('./images/circuit.tif')\n",
    "\n",
    "# Visualización de las imágenes\n",
    "fig, axes = plt.subplots(1, 2, figsize=(7, 3))\n",
    "plt.subplot(1, 2, 1)\n",
    "plt.imshow(im_gray_1, cmap='gray')\n",
    "plt.title('Cameraman')\n",
    "plt.axis('off')\n",
    "\n",
    "plt.subplot(1, 2, 2)\n",
    "plt.imshow(im_gray_2, cmap='gray')\n",
    "plt.title('Circuit')\n",
    "plt.axis('off')\n",
    "\n",
    "plt.show()"
   ]
  },
  {
   "cell_type": "markdown",
   "id": "4",
   "metadata": {},
   "source": [
    "Rango de intensidades"
   ]
  },
  {
   "cell_type": "code",
   "execution_count": null,
   "id": "5",
   "metadata": {},
   "outputs": [],
   "source": [
    "# Cálculo del rango de intensidades\n",
    "def intensity_range(im_gray):\n",
    "    l_max = im_gray.max()\n",
    "    l_min = im_gray.min()\n",
    "\n",
    "    print(f\"Imagen: min = {l_min}, max = {l_max}\")"
   ]
  },
  {
   "cell_type": "code",
   "execution_count": null,
   "id": "6",
   "metadata": {},
   "outputs": [],
   "source": [
    "# intensidades máximas y mínimas\n",
    "intensity_range(im_gray_1)\n",
    "intensity_range(im_gray_2)"
   ]
  },
  {
   "cell_type": "markdown",
   "id": "7",
   "metadata": {},
   "source": [
    "## 1. Negativo de una imagen\n",
    "\n",
    "Se calcula el negativo de las imágenes y se visualizan los resultados obtenidos."
   ]
  },
  {
   "cell_type": "code",
   "execution_count": null,
   "id": "8",
   "metadata": {},
   "outputs": [],
   "source": [
    "# Cálculo del negativo de las imágenes\n",
    "im_neg_1 = im_gray_1.max() - im_gray_1\n",
    "im_neg_2 = im_gray_2.max() - im_gray_2"
   ]
  },
  {
   "cell_type": "code",
   "execution_count": null,
   "id": "9",
   "metadata": {},
   "outputs": [],
   "source": [
    "# Visualización de las imágenes en negativo\n",
    "fig, axes = plt.subplots(1, 2, figsize=(7, 3))\n",
    "plt.subplot(1, 2, 1)\n",
    "plt.imshow(im_neg_1, cmap='gray')\n",
    "plt.title('Cameraman')\n",
    "plt.axis('off')\n",
    "\n",
    "plt.subplot(1, 2, 2)\n",
    "plt.imshow(im_neg_2, cmap='gray')\n",
    "plt.title('Circuit')\n",
    "plt.axis('off')\n",
    "\n",
    "plt.show()"
   ]
  },
  {
   "cell_type": "code",
   "execution_count": null,
   "id": "10",
   "metadata": {},
   "outputs": [],
   "source": [
    "# intensidades máximas y mínimas\n",
    "intensity_range(im_neg_1)\n",
    "intensity_range(im_neg_2)"
   ]
  },
  {
   "cell_type": "markdown",
   "id": "11",
   "metadata": {},
   "source": [
    "## 2. Logaritmo de una imagen\n",
    "\n",
    "Se aplica una transformación logarítmica en base diez a las imágenes y se visualizan los resultados normalizados. Este proceso permite resaltar detalles en regiones de baja intensidad."
   ]
  },
  {
   "cell_type": "code",
   "execution_count": null,
   "id": "12",
   "metadata": {},
   "outputs": [],
   "source": [
    "# Aplicación del logaritmo en base diez\n",
    "# Conversión de las imágenes a tipo float para evitar problemas con el logaritmo\n",
    "im_gray_1_float = im_gray_1.astype(np.float64)\n",
    "im_gray_2_float = im_gray_2.astype(np.float64)\n",
    "\n",
    "# Añadido de una pequeña constante para evitar log(0)\n",
    "epsilon = 1e-6\n",
    "\n",
    "im_log_1 = 0.85 * np.log10(im_gray_1_float + epsilon)\n",
    "im_log_2 = 0.5 * np.log10(im_gray_2_float + epsilon)\n",
    "\n",
    "# Normalización de las imágenes logarítmicas\n",
    "im_log_1_norm = (im_log_1 - im_log_1.min()) / (im_log_1.max() - im_log_1.min())\n",
    "im_log_2_norm = (im_log_2 - im_log_2.min()) / (im_log_2.max() - im_log_2.min())"
   ]
  },
  {
   "cell_type": "code",
   "execution_count": null,
   "id": "13",
   "metadata": {},
   "outputs": [],
   "source": [
    "# Visualización de las imágenes en negativo\n",
    "fig, axes = plt.subplots(1, 2, figsize=(7, 3))\n",
    "plt.subplot(1, 2, 1)\n",
    "plt.imshow(im_log_1_norm, cmap='gray')\n",
    "plt.title('Cameraman')\n",
    "plt.axis('off')\n",
    "\n",
    "plt.subplot(1, 2, 2)\n",
    "plt.imshow(im_log_2_norm, cmap='gray')\n",
    "plt.title('Circuit')\n",
    "plt.axis('off')\n",
    "\n",
    "plt.show()"
   ]
  },
  {
   "cell_type": "markdown",
   "id": "14",
   "metadata": {},
   "source": [
    "## 3. Transformación Gamma (o corrección Gamma)\n",
    "\n",
    "Se realiza una corrección gamma a las imágenes, lo que permite ajustar la luminancia de manera no lineal. Los resultados obtenidos son visualizados de forma normalizada."
   ]
  },
  {
   "cell_type": "code",
   "execution_count": null,
   "id": "15",
   "metadata": {},
   "outputs": [],
   "source": [
    "# Aplicación de la transformación gamma\n",
    "im_gamma_1 = 1.0 * (im_gray_1_float ** 1.5)\n",
    "im_gamma_2 = 1.0 * (im_gray_1_float ** 0.2)\n",
    "\n",
    "# Normalización de las imágenes gamma\n",
    "im_gamma_1_norm = (im_gamma_1 - im_gamma_1.min()) / (im_gamma_1.max() - im_gamma_1.min())\n",
    "im_gamma_2_norm = (im_gamma_2 - im_gamma_2.min()) / (im_gamma_2.max() - im_gamma_2.min())"
   ]
  },
  {
   "cell_type": "code",
   "execution_count": null,
   "id": "16",
   "metadata": {},
   "outputs": [],
   "source": [
    "# Visualización de las imágenes en negativo\n",
    "fig, axes = plt.subplots(1, 2, figsize=(7, 3))\n",
    "plt.subplot(1, 2, 1)\n",
    "plt.imshow(im_gamma_1_norm, cmap='gray')\n",
    "plt.title('Cameraman')\n",
    "plt.axis('off')\n",
    "\n",
    "plt.subplot(1, 2, 2)\n",
    "plt.imshow(im_gamma_2_norm, cmap='gray')\n",
    "plt.title('Cameraman')\n",
    "plt.axis('off')\n",
    "\n",
    "plt.show()"
   ]
  },
  {
   "cell_type": "markdown",
   "id": "17",
   "metadata": {},
   "source": [
    "***\n",
    "\n",
    "## Actividad\n",
    "\n",
    "<b>Objetivos</b>\n",
    "\n",
    "- Comprender las transformaciones estudiadas (negativos, transformaciones logarítmicas y corrección gamma).\n",
    "- Aplicar estas transformaciones a una imagen específica (`tire.tif`) utilizando Python.\n",
    "- Analizar los efectos de cada transformación sobre las características visuales de la imagen."
   ]
  },
  {
   "cell_type": "code",
   "execution_count": null,
   "id": "18",
   "metadata": {},
   "outputs": [],
   "source": [
    "# aquí su código\n",
    "\n",
    "tire_img = cv2.imread('./images/tire.tif', cv2.IMREAD_GRAYSCALE)\n",
    "\n",
    "# Apply the log transformation\n",
    "tire_img_float = tire_img.astype(np.float64)\n",
    "tire_img_log = 0.4 * np.log10(tire_img_float + epsilon)\n",
    "\n",
    "# Normalization\n",
    "tire_img_log_norm = (tire_img_log - tire_img_log.min()) / (tire_img_log.max() - tire_img_log.min())\n",
    "\n",
    "\n",
    "# Apply the gamma transformation\n",
    "tire_img_gamma = 1.0 * (tire_img_float ** 0.5)\n",
    "\n",
    "# Normalization\n",
    "tire_img_gamma_norm = (tire_img_gamma - tire_img_gamma.min()) / (tire_img_gamma.max() - tire_img_gamma.min())\n",
    "\n",
    "\n",
    "\n",
    "# Visualización de la imagen\n",
    "plt.figure( figsize=(15, 5))\n",
    "plt.subplot(1, 3, 1)\n",
    "plt.imshow(tire_img, cmap='gray')\n",
    "plt.title('Tire')\n",
    "plt.axis('off')\n",
    "\n",
    "# Visualización de la imagen\n",
    "plt.subplot(1, 3, 2)\n",
    "plt.imshow(tire_img_log_norm, cmap='gray')\n",
    "plt.title('Tire (log)')\n",
    "plt.axis('off')\n",
    "\n",
    "# Visualización de la imagen\n",
    "plt.subplot(1, 3, 3)\n",
    "plt.imshow(tire_img_gamma_norm, cmap='gray')\n",
    "plt.title('Tire (gamma)')\n",
    "plt.axis('off')\n",
    "plt.show()\n",
    "\n"
   ]
  },
  {
   "cell_type": "markdown",
   "id": "19",
   "metadata": {},
   "source": [
    "<div style=\"text-align: center; margin: 20px 0;\">\n",
    "  <hr style=\"border: none; height: 2px; background: linear-gradient(to right, #bbb, #333, #bbb); width: 50%; margin: 0 auto;\" />\n",
    "</div>"
   ]
  }
 ],
 "metadata": {
  "kernelspec": {
   "display_name": "venv",
   "language": "python",
   "name": "python3"
  },
  "language_info": {
   "codemirror_mode": {
    "name": "ipython",
    "version": 3
   },
   "file_extension": ".py",
   "mimetype": "text/x-python",
   "name": "python",
   "nbconvert_exporter": "python",
   "pygments_lexer": "ipython3",
   "version": "3.12.1"
  }
 },
 "nbformat": 4,
 "nbformat_minor": 5
}
