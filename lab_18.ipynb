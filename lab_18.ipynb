{
 "cells": [
  {
   "cell_type": "markdown",
   "id": "0",
   "metadata": {},
   "source": [
    "# Filtrado en el dominio de la frecuencia - parte 2\n",
    "\n",
    "<div class=\"alert alert-block alert-success\">\n",
    "<b>Resumen:</b> Este notebook demuestra cómo filtrar imágenes en el dominio de la frecuencia utilizando la Transformada de Fourier. Se carga el espectro de amplitud y fase de una imagen, se reconstruye la imagen original y se analiza la importancia de la fase en la reconstrucción.\n",
    "</div>\n",
    "\n",
    "***"
   ]
  },
  {
   "cell_type": "markdown",
   "id": "1",
   "metadata": {},
   "source": [
    "Importación de librerias necesarias"
   ]
  },
  {
   "cell_type": "code",
   "execution_count": null,
   "id": "2",
   "metadata": {},
   "outputs": [],
   "source": [
    "import cv2\n",
    "import numpy as np\n",
    "import matplotlib.pyplot as plt"
   ]
  },
  {
   "cell_type": "markdown",
   "id": "3",
   "metadata": {},
   "source": [
    "## 1. Carga del espectro de amplitud y fase\n",
    "\n",
    "Cargamos los espectros de amplitud y fase previamente calculados y almacenados en archivos `.npy`."
   ]
  },
  {
   "cell_type": "code",
   "execution_count": null,
   "id": "4",
   "metadata": {},
   "outputs": [],
   "source": [
    "# Cargar archivos .npy\n",
    "magnitude_spectrum = np.load('magnitude_spectrum.npy')\n",
    "phase_spectrum = np.load('phase_spectrum.npy')\n",
    "\n",
    "print(\"Todos los datos han sido leidos exitosamente.\")"
   ]
  },
  {
   "cell_type": "markdown",
   "id": "5",
   "metadata": {},
   "source": [
    "---\n",
    "\n",
    "## 2. Reconstrucción de la imagen original\n",
    "\n",
    "Es posible reconstruir la imagen original utilizando tanto la magnitud como la fase del espectro de Fourier. A continuación, se muestra cómo realizar esta reconstrucción."
   ]
  },
  {
   "cell_type": "code",
   "execution_count": null,
   "id": "6",
   "metadata": {},
   "outputs": [],
   "source": [
    "# Crear el espectro complejo usando la magnitud y la fase\n",
    "F_reconstruida = magnitude_spectrum * np.exp(1j * phase_spectrum)\n",
    "\n",
    "# Desplazar el espectro de vuelta a su posición original\n",
    "F_reconstruida_shift = np.fft.ifftshift(F_reconstruida)\n",
    "\n",
    "# Aplicar la Transformada Inversa de Fourier para reconstruir la imagen\n",
    "imagen_reconstruida = np.fft.ifft2(F_reconstruida_shift)\n",
    "\n",
    "# Obtener la magnitud de la imagen reconstruida\n",
    "imagen_reconstruida = np.abs(imagen_reconstruida)\n",
    "\n",
    "# Normalizar la imagen reconstruida para visualizarla correctamente\n",
    "imagen_reconstruida_norm = cv2.normalize(imagen_reconstruida, None, 0, 255, cv2.NORM_MINMAX).astype(np.uint8)"
   ]
  },
  {
   "cell_type": "code",
   "execution_count": null,
   "id": "7",
   "metadata": {},
   "outputs": [],
   "source": [
    "# Visualizar la imagen reconstruida\n",
    "plt.figure(figsize=(4,4))\n",
    "plt.imshow(imagen_reconstruida_norm, cmap='gray')\n",
    "plt.title('Imagen reconstruida a partir de magnitud y fase')\n",
    "plt.axis('off')\n",
    "plt.show()"
   ]
  },
  {
   "cell_type": "markdown",
   "id": "8",
   "metadata": {},
   "source": [
    "## 3. Importancia de la Fase en la Reconstrucción\n",
    "\n",
    "Para demostrar la importancia de la fase en la reconstrucción de la imagen, intentemos reconstruir la imagen utilizando solo la magnitud y estableciendo la fase a cero."
   ]
  },
  {
   "cell_type": "code",
   "execution_count": null,
   "id": "9",
   "metadata": {},
   "outputs": [],
   "source": [
    "# Reconstrucción utilizando solo la magnitud (fase = 0)\n",
    "F_fase_cero = np.zeros_like(phase_spectrum)  # Establecer la fase a cero\n",
    "F_reconstruida_magnitud = magnitude_spectrum * np.exp(1j * F_fase_cero)\n",
    "\n",
    "# Desplazar el espectro de vuelta\n",
    "F_reconstruida_magnitud_shift = np.fft.ifftshift(F_reconstruida_magnitud)\n",
    "\n",
    "# Transformada inversa para obtener la imagen\n",
    "imagen_reconstruida_magnitud = np.fft.ifft2(F_reconstruida_magnitud_shift)\n",
    "imagen_reconstruida_magnitud = np.abs(imagen_reconstruida_magnitud)\n",
    "\n",
    "# Normalizar para visualización\n",
    "imagen_reconstruida_magnitud_norm = cv2.normalize(imagen_reconstruida_magnitud, None, 0, 255, cv2.NORM_MINMAX).astype(np.uint8)"
   ]
  },
  {
   "cell_type": "code",
   "execution_count": null,
   "id": "10",
   "metadata": {},
   "outputs": [],
   "source": [
    "# Visualizar la imagen reconstruida con fase cero\n",
    "plt.figure(figsize=(4,4))\n",
    "plt.imshow(imagen_reconstruida_magnitud_norm, cmap='gray')\n",
    "plt.title('Reconstrucción con solo magnitud (fase = 0)')\n",
    "plt.axis('off')\n",
    "plt.show()"
   ]
  },
  {
   "cell_type": "markdown",
   "id": "11",
   "metadata": {},
   "source": [
    "---\n",
    "\n",
    "<b>Observación</b>: La imagen reconstruida utilizando solo la magnitud sin la fase resulta en una imagen borrosa que no refleja la estructura original de la imagen. Esto resalta la importancia de la fase en la reconstrucción precisa de la imagen."
   ]
  },
  {
   "cell_type": "markdown",
   "id": "12",
   "metadata": {},
   "source": [
    "<b>Consideraciones Finales</b>\n",
    "\n",
    "- <b>Transformada de Fourier en imágenes:</b> La Transformada de Fourier permite descomponer una imagen en sus componentes de frecuencia, facilitando su análisis y procesamiento en el dominio de la frecuencia.\n",
    "\n",
    "- <b>Importancia de la Fase:</b> Este notebook ilustra claramente que, aunque la magnitud del espectro es esencial, la fase juega un papel determinante en la preservación de la estructura espacial de la imagen. Sin la fase, la reconstrucción pierde detalles y la imagen resultante no refleja la original.\n",
    "\n",
    "- <b>Aplicaciones en el dominio de la Frecuencia:</b>\n",
    "    - Filtrado de Ruido: Eliminación de frecuencias no deseadas que contribuyen al ruido.\n",
    "    - Compresión de Imágenes: Reducción de la cantidad de datos necesarios para representar una imagen.\n",
    "    - Reconocimiento de Patrones: Identificación de características específicas dentro de una imagen."
   ]
  }
 ],
 "metadata": {
  "kernelspec": {
   "display_name": "cv2-kernel",
   "language": "python",
   "name": "cv2-kernel"
  },
  "language_info": {
   "codemirror_mode": {
    "name": "ipython",
    "version": 3
   },
   "file_extension": ".py",
   "mimetype": "text/x-python",
   "name": "python",
   "nbconvert_exporter": "python",
   "pygments_lexer": "ipython3",
   "version": "3.8.18"
  }
 },
 "nbformat": 4,
 "nbformat_minor": 5
}
