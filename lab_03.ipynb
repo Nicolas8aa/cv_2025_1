{
 "cells": [
  {
   "cell_type": "markdown",
   "id": "0",
   "metadata": {},
   "source": [
    "# Práctica 3. Operaciones sobre imágenes en escala de gris\n",
    "\n",
    "<div class=\"alert alert-block alert-success\">\n",
    "<b>Resumen:</b> Esta práctica presenta un código que realiza operaciones básicas sobre una imagen en escala de grises utilizando Python y OpenCV. Incluye la lectura y visualización de una imagen de prueba, la creación de una copia, la manipulación de píxeles para dibujar líneas horizontales y verticales, la modificación de subregiones específicas de la imagen, y su segmentación en función de umbrales unilaterales y bilaterales.\n",
    "</div>"
   ]
  },
  {
   "cell_type": "code",
   "execution_count": null,
   "id": "1",
   "metadata": {},
   "outputs": [],
   "source": [
    "import cv2\n",
    "import numpy as np\n",
    "import math\n",
    "from matplotlib import pyplot as plt"
   ]
  },
  {
   "cell_type": "markdown",
   "id": "2",
   "metadata": {},
   "source": [
    "## 1. Imágenes en escala de grises\n",
    "\n",
    "Lectura de la imagen"
   ]
  },
  {
   "cell_type": "code",
   "execution_count": null,
   "id": "3",
   "metadata": {},
   "outputs": [],
   "source": [
    "im_gray = cv2.imread('./images/cameraman.tif', cv2.IMREAD_UNCHANGED)"
   ]
  },
  {
   "cell_type": "markdown",
   "id": "4",
   "metadata": {},
   "source": [
    "Atributos de la imagen"
   ]
  },
  {
   "cell_type": "code",
   "execution_count": null,
   "id": "5",
   "metadata": {},
   "outputs": [],
   "source": [
    "print(f'Forma de la imagen: {im_gray.shape}')\n",
    "print(f'Tipo de datos: {im_gray.dtype}')"
   ]
  },
  {
   "cell_type": "markdown",
   "id": "6",
   "metadata": {},
   "source": [
    "Visualización de la imagen"
   ]
  },
  {
   "cell_type": "code",
   "execution_count": null,
   "id": "7",
   "metadata": {},
   "outputs": [],
   "source": [
    "plt.imshow(im_gray, cmap='hot')\n",
    "plt.title('Imagen Original')\n",
    "plt.axis('off')\n",
    "plt.show()"
   ]
  },
  {
   "cell_type": "markdown",
   "id": "8",
   "metadata": {},
   "source": [
    "## 2. Operaciones\n",
    "### 2.1 Copia de la imagen"
   ]
  },
  {
   "cell_type": "code",
   "execution_count": null,
   "id": "9",
   "metadata": {},
   "outputs": [],
   "source": [
    "im_gray_2 = im_gray.copy()"
   ]
  },
  {
   "cell_type": "markdown",
   "id": "10",
   "metadata": {},
   "source": [
    "### 2.2 Operador :\n",
    "#### 2.2.1 Dibujo de una línea horizontal\n",
    "\n",
    "Dado que la imagen es tipo UINT8 los valores de los píxeles varían entre [0, 255]"
   ]
  },
  {
   "cell_type": "code",
   "execution_count": null,
   "id": "11",
   "metadata": {},
   "outputs": [],
   "source": [
    "im_gray_2[100, :] = 0\n",
    "\n",
    "# Any line with 2 points\n",
    "\n",
    "[x1,y1] = [50,50]\n",
    "[x2,y2] = [55,100]\n",
    "\n",
    "\n",
    "m = (y2-y1)/(x2-x1)\n",
    "b = y1-m*x1\n",
    "\n",
    "x_dim = im_gray_2.shape[0]\n",
    "x_indexes = np.linspace(0, x_dim -1, num=x_dim, dtype=int)  # Alternative method\n",
    "\n",
    "\n",
    "y_dim = im_gray_2.shape[1]\n",
    "y_indexes = np.linspace(0, y_dim -1, num=y_dim, dtype=int)  # Alternative method\n",
    "\n",
    "x_points = x_indexes[ x1:x2]\n",
    "y_points =  [ int(x) for x in np.floor(x_points*m+b)]\n",
    "\n",
    "\n",
    "idx = 0\n",
    "for x in x_points:\n",
    "   im_gray_2[x,y_points[idx]] = 255\n",
    "   idx = idx + 1\n"
   ]
  },
  {
   "cell_type": "code",
   "execution_count": null,
   "id": "12",
   "metadata": {},
   "outputs": [],
   "source": [
    "plt.imshow(im_gray_2, cmap='gray')\n",
    "plt.title('Línea Horizontal')\n",
    "#plt.axis('off')\n",
    "plt.show()"
   ]
  },
  {
   "cell_type": "code",
   "execution_count": null,
   "id": "13",
   "metadata": {},
   "outputs": [],
   "source": [
    "#### 2.2.2 Dibujo de una línea vertical"
   ]
  },
  {
   "cell_type": "code",
   "execution_count": null,
   "id": "14",
   "metadata": {},
   "outputs": [],
   "source": [
    "im_gray_2[:, 100] = 0"
   ]
  },
  {
   "cell_type": "code",
   "execution_count": null,
   "id": "15",
   "metadata": {},
   "outputs": [],
   "source": [
    "plt.imshow(im_gray_2, cmap='gray')\n",
    "plt.title('Línea Vertical')\n",
    "plt.axis('off')\n",
    "plt.show()\n",
    "\n",
    "\n"
   ]
  },
  {
   "cell_type": "markdown",
   "id": "16",
   "metadata": {},
   "source": [
    "### 2.3 Operador a:b"
   ]
  },
  {
   "cell_type": "code",
   "execution_count": null,
   "id": "17",
   "metadata": {},
   "outputs": [],
   "source": [
    "im_gray_2[80:120, 10:150] = 200"
   ]
  },
  {
   "cell_type": "code",
   "execution_count": null,
   "id": "18",
   "metadata": {},
   "outputs": [],
   "source": [
    "plt.imshow(im_gray_2, cmap='gray')\n",
    "plt.title('Operador a:b')\n",
    "plt.axis('on')\n",
    "plt.show()"
   ]
  },
  {
   "cell_type": "markdown",
   "id": "19",
   "metadata": {},
   "source": [
    "### 2.4 Segmentación \n",
    "#### 2.4.1 Uni-lateral"
   ]
  },
  {
   "cell_type": "code",
   "execution_count": null,
   "id": "20",
   "metadata": {},
   "outputs": [],
   "source": [
    "im_bw_s1 = im_gray > 20"
   ]
  },
  {
   "cell_type": "code",
   "execution_count": null,
   "id": "21",
   "metadata": {},
   "outputs": [],
   "source": [
    "plt.imshow(im_bw_s1, cmap='gray')\n",
    "plt.title('Segmentación Uni-lateral (im_gray > 20)')\n",
    "plt.axis('off')\n",
    "plt.show()\n",
    "\n",
    "# propiedades de im_bw_s1\n",
    "print(f'\\nForma de la imagen: {im_bw_s1.shape}')\n",
    "print(f'Tipo de datos: {im_bw_s1.dtype}')"
   ]
  },
  {
   "cell_type": "code",
   "execution_count": null,
   "id": "22",
   "metadata": {},
   "outputs": [],
   "source": [
    "im_bw_s2 = np.logical_not(im_bw_s1)"
   ]
  },
  {
   "cell_type": "code",
   "execution_count": null,
   "id": "23",
   "metadata": {},
   "outputs": [],
   "source": [
    "plt.imshow(im_bw_s2, cmap='gray')\n",
    "plt.title('Segmentación Uni-lateral (invertida)')\n",
    "plt.axis('off')\n",
    "plt.show()"
   ]
  },
  {
   "cell_type": "markdown",
   "id": "24",
   "metadata": {},
   "source": [
    "#### 2.4.2 Bi-lateral"
   ]
  },
  {
   "cell_type": "code",
   "execution_count": null,
   "id": "25",
   "metadata": {},
   "outputs": [],
   "source": [
    "im_bw_s3 = (im_gray > 10) & (im_gray < 50)"
   ]
  },
  {
   "cell_type": "code",
   "execution_count": null,
   "id": "26",
   "metadata": {},
   "outputs": [],
   "source": [
    "plt.imshow(im_bw_s3, cmap='gray')\n",
    "plt.title('Segmentación Bi-lateral (10 < im_gray < 50)')\n",
    "plt.axis('off')\n",
    "plt.show()"
   ]
  },
  {
   "cell_type": "markdown",
   "id": "27",
   "metadata": {},
   "source": [
    "<div style=\"text-align: center; margin: 20px 0;\">\n",
    "  <hr style=\"border: none; height: 2px; background: linear-gradient(to right, #bbb, #333, #bbb); width: 50%; margin: 0 auto;\" />\n",
    "</div>"
   ]
  }
 ],
 "metadata": {
  "kernelspec": {
   "display_name": "cv2-kernel",
   "language": "python",
   "name": "cv2-kernel"
  },
  "language_info": {
   "codemirror_mode": {
    "name": "ipython",
    "version": 3
   },
   "file_extension": ".py",
   "mimetype": "text/x-python",
   "name": "python",
   "nbconvert_exporter": "python",
   "pygments_lexer": "ipython3",
   "version": "3.12.1"
  }
 },
 "nbformat": 4,
 "nbformat_minor": 5
}
