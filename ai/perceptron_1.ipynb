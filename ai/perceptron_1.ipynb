{
 "cells": [
  {
   "cell_type": "markdown",
   "id": "0",
   "metadata": {
    "id": "e2db50ce-dd5b-49f4-9ccc-cbcea8219f1d"
   },
   "source": [
    "# Perceptrón simple\n",
    "**Caso con única entrada y salida.**\n",
    "\n",
    "***"
   ]
  },
  {
   "cell_type": "markdown",
   "id": "1",
   "metadata": {
    "id": "8306021a-d23e-4a8d-b91d-fd13e057d271"
   },
   "source": [
    "<div class=\"alert alert-block alert-info\">\n",
    "<b>⚠️ Observación:</b> Con la finalidad de mantener el código limpio y fácil de entender esté notebook <b>no</b> implementa ningún tipo de verificación de los datos de entrada/salida, control de errores, o manejo de excepciones. Recuerde que en aplicaciones comerciales, dichos controles se <b>debe</b> implementar para garantizar la robustez, calidad y estabilidad del código.\n",
    "</div>"
   ]
  },
  {
   "cell_type": "markdown",
   "id": "2",
   "metadata": {
    "id": "b2869715-23b0-4dc0-956a-42878a7e0b30"
   },
   "source": [
    "## 1. Importar librerias\n",
    "\n",
    "Primero, importamos las librerías necesarias. Usaremos `numpy` para manejar operaciones matemáticas y arreglos. `matplotlib` para visualizar resultados."
   ]
  },
  {
   "cell_type": "code",
   "execution_count": null,
   "id": "3",
   "metadata": {
    "id": "d51445ad-9581-4efd-9e68-37c47e06d00e"
   },
   "outputs": [],
   "source": [
    "import numpy as np\n",
    "import matplotlib.pyplot as plt"
   ]
  },
  {
   "cell_type": "markdown",
   "id": "4",
   "metadata": {
    "id": "e3554950-c57d-494a-abbe-610b8ad4231a"
   },
   "source": [
    "## 2. Función de activación escalón\n",
    "\n",
    "La función de activación escalón convierte la salida del perceptrón en una salida binaria (0 o 1)."
   ]
  },
  {
   "cell_type": "code",
   "execution_count": null,
   "id": "5",
   "metadata": {
    "id": "015f6f2f-7bc7-46ab-84f6-71c2e2b801dc"
   },
   "outputs": [],
   "source": [
    "def step_activation(x):\n",
    "    return np.where(x >= 0, 1, 0)"
   ]
  },
  {
   "cell_type": "markdown",
   "id": "6",
   "metadata": {
    "id": "38b5f566-0ce0-4eee-88a3-fd34f5fe237e"
   },
   "source": [
    "## 3. Clase del Perceptrón\n",
    "\n",
    "Creamos una clase `Perceptron` que contendrá los métodos para entrenar y predecir."
   ]
  },
  {
   "cell_type": "code",
   "execution_count": null,
   "id": "7",
   "metadata": {
    "id": "99bee96f-cfe3-4bff-a9e0-79d10c76e4cb"
   },
   "outputs": [],
   "source": [
    "class Perceptron:\n",
    "    def __init__(self):\n",
    "        self.activation_func = step_activation\n",
    "        self.weights = None\n",
    "        self.bias = None\n",
    "\n",
    "    def set_parameters(self, w, b):\n",
    "        self.weights = w\n",
    "        self.bias = b\n",
    "\n",
    "    def predict(self, X):\n",
    "        linear_output = np.dot(X, self.weights) + self.bias\n",
    "        y_predicted = self.activation_func(linear_output)\n",
    "        return y_predicted"
   ]
  },
  {
   "cell_type": "markdown",
   "id": "8",
   "metadata": {
    "id": "0e2b1608-5138-4144-9f41-e750a0385260"
   },
   "source": [
    "## 4. Parámetros del perceptrón\n",
    "\n",
    "Parámetros internos del perceptrón, pesos (w) y bias (b)."
   ]
  },
  {
   "cell_type": "code",
   "execution_count": null,
   "id": "9",
   "metadata": {
    "id": "274ae4bd-efd7-4cd2-9c0e-7805d84bcbc3"
   },
   "outputs": [],
   "source": [
    "# Datos de entrenamiento\n",
    "w = np.array([\n",
    "    [1]\n",
    "])\n",
    "\n",
    "b = np.array([\n",
    "    [-2]\n",
    "])"
   ]
  },
  {
   "cell_type": "markdown",
   "id": "10",
   "metadata": {
    "id": "c467e8dd-7ceb-41d7-b43c-0764d9d17843"
   },
   "source": [
    "## 5. Inicialización del perceptrón\n",
    "\n",
    "Creamos una instancia del perceptrón y lo inicializamos con los datos proporcionados."
   ]
  },
  {
   "cell_type": "code",
   "execution_count": null,
   "id": "11",
   "metadata": {
    "id": "9cd46612-b12b-4ee2-83d3-4a50def003d8"
   },
   "outputs": [],
   "source": [
    "# Crear el perceptrón\n",
    "perceptron = Perceptron()\n",
    "\n",
    "# Entrenar el perceptrón\n",
    "perceptron.set_parameters(w, b)"
   ]
  },
  {
   "cell_type": "markdown",
   "id": "12",
   "metadata": {
    "id": "cd0e0610-7c4c-429d-be42-c6294e3f1836"
   },
   "source": [
    "## 6. Evaluación del modelo\n",
    "\n",
    "Probamos el perceptrón con algunos datos de prueba y visualizamos los resultados."
   ]
  },
  {
   "cell_type": "code",
   "execution_count": null,
   "id": "13",
   "metadata": {
    "id": "761cfb43-ef7e-427c-9d1c-800822ecbced"
   },
   "outputs": [],
   "source": [
    "# Datos de prueba\n",
    "X_test = np.array([[-2], [-1], [0], [1], [2]])\n",
    "\n",
    "# Realizar predicciones\n",
    "predictions = perceptron.predict(X_test)\n",
    "\n",
    "# Mostrar resultados\n",
    "for x,y in zip(X_test, predictions):\n",
    "    print(f\"Entrada: {x}, Predicción: {y}\")"
   ]
  },
  {
   "cell_type": "markdown",
   "id": "14",
   "metadata": {
    "id": "1ca6fc15-878c-40e3-824b-3b58431944a4"
   },
   "source": [
    "## 7. Visualización de predicciones\n",
    "\n",
    "Visualización de las predicciones de cada uno de los datos de prueba"
   ]
  },
  {
   "cell_type": "code",
   "execution_count": null,
   "id": "15",
   "metadata": {
    "id": "8e931f7f-9609-42b8-b867-e86877d9cf43"
   },
   "outputs": [],
   "source": [
    "# Crear figura y eje\n",
    "plt.figure(figsize=(8, 5))  # Tamaño de la figura\n",
    "\n",
    "# Dibujar el gráfico\n",
    "plt.plot(X_test, predictions, 'r.', label='Predicciones')\n",
    "\n",
    "# Mejorar el diseño\n",
    "plt.grid(True, which='both', linestyle='--', linewidth=0.5, alpha=0.7)\n",
    "\n",
    "# Añadir etiquetas y título\n",
    "plt.title('Perceptrón binario', fontsize=14, fontweight='bold')\n",
    "plt.xlabel('X_test', fontsize=12)\n",
    "plt.ylabel('Predicciones', fontsize=12)\n",
    "\n",
    "# Añadir leyenda\n",
    "plt.legend(loc='best')\n",
    "\n",
    "# Mostrar el gráfico\n",
    "plt.tight_layout()\n",
    "\n",
    "\n",
    "plt.show()"
   ]
  }
 ],
 "metadata": {
  "colab": {
   "provenance": []
  },
  "kernelspec": {
   "display_name": "venv",
   "language": "python",
   "name": "python3"
  },
  "language_info": {
   "codemirror_mode": {
    "name": "ipython",
    "version": 3
   },
   "file_extension": ".py",
   "mimetype": "text/x-python",
   "name": "python",
   "nbconvert_exporter": "python",
   "pygments_lexer": "ipython3",
   "version": "3.12.1"
  }
 },
 "nbformat": 4,
 "nbformat_minor": 5
}
