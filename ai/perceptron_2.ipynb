{
 "cells": [
  {
   "cell_type": "markdown",
   "id": "0",
   "metadata": {},
   "source": [
    "# Perceptrón simple \n",
    "**Caso con única entrada y salida.**\n",
    "\n",
    "***"
   ]
  },
  {
   "cell_type": "markdown",
   "id": "1",
   "metadata": {},
   "source": [
    "<div class=\"alert alert-block alert-info\">\n",
    "<b>⚠️ Observación:</b> Con la finalidad de mantener el código limpio y fácil de entender esté notebook <b>no</b> implementa ningún tipo de verificación de los datos de entrada/salida, control de errores, o manejo de excepciones. Recuerde que en aplicaciones comerciales, dichos controles se <b>debe</b> implementar para garantizar la robustez, calidad y estabilidad del código.\n",
    "</div>"
   ]
  },
  {
   "cell_type": "markdown",
   "id": "2",
   "metadata": {},
   "source": [
    "## 1. Importar librerias\n",
    "\n",
    "Primero, importamos las librerías necesarias. Usaremos `numpy` para manejar operaciones matemáticas y arreglos. `matplotlib` para visualizar resultados."
   ]
  },
  {
   "cell_type": "code",
   "execution_count": null,
   "id": "3",
   "metadata": {},
   "outputs": [],
   "source": [
    "import numpy as np\n",
    "import matplotlib.pyplot as plt"
   ]
  },
  {
   "cell_type": "markdown",
   "id": "4",
   "metadata": {},
   "source": [
    "## 2. Función de activación escalón\n",
    "\n",
    "La función de activación escalón convierte la salida del perceptrón en una salida binaria (0 o 1)."
   ]
  },
  {
   "cell_type": "code",
   "execution_count": null,
   "id": "5",
   "metadata": {},
   "outputs": [],
   "source": [
    "def step_activation(x):\n",
    "    return np.where(x >= 0, 1, 0)"
   ]
  },
  {
   "cell_type": "markdown",
   "id": "6",
   "metadata": {},
   "source": [
    "## 3. Clase del Perceptrón\n",
    "\n",
    "Creamos una clase `Perceptron` que contendrá los métodos para entrenar y predecir."
   ]
  },
  {
   "cell_type": "code",
   "execution_count": null,
   "id": "7",
   "metadata": {},
   "outputs": [],
   "source": [
    "class Perceptron:\n",
    "    def __init__(self, learning_rate=0.1, n_iters=100):\n",
    "        self.learning_rate = learning_rate\n",
    "        self.n_iters = n_iters\n",
    "        self.activation_func = step_activation\n",
    "        self.weights = None\n",
    "        self.bias = None\n",
    "\n",
    "    def set_parameters(self, w, b):\n",
    "        self.weights = w\n",
    "        self.bias = b\n",
    "\n",
    "    def print_parameters(self):\n",
    "        print(f\"weights: {self.weights}\")\n",
    "        print(f\"bias: {self.bias}\")\n",
    "\n",
    "    def fit(self, X, y):\n",
    "        # Inicializar pesos y bias\n",
    "        n_samples, n_features = X.shape\n",
    "        #self.weights = np.zeros(n_features)\n",
    "        self.weights = np.random.rand(n_features)\n",
    "        self.bias = 0\n",
    "\n",
    "        # Entrenamiento\n",
    "        for _ in range(self.n_iters):\n",
    "            for idx, x_i in enumerate(X):\n",
    "                linear_output = np.dot(x_i, self.weights) + self.bias\n",
    "                y_predicted = self.activation_func(linear_output)\n",
    "\n",
    "                # Actualizar pesos y bias\n",
    "                update = self.learning_rate * (y[idx] - y_predicted)\n",
    "                self.weights += update * x_i\n",
    "                self.bias += update\n",
    "\n",
    "    def predict(self, X):\n",
    "        linear_output = np.dot(X, self.weights) + self.bias\n",
    "        y_predicted = self.activation_func(linear_output)\n",
    "        return y_predicted"
   ]
  },
  {
   "cell_type": "markdown",
   "id": "8",
   "metadata": {},
   "source": [
    "### Reglas de actualización\n",
    "\n",
    "Matriz de pesos ($w$)\n",
    "- $w = w + \\Delta w$\n",
    "- $\\Delta w = \\alpha \\cdot ( y_i - \\hat{y_1} ) \\cdot x_i$\n",
    "\n",
    "Vector de bias ($b$)\n",
    "- $b = b + \\Delta b$\n",
    "- $\\Delta b = \\alpha \\cdot ( y_i - \\hat{y_1} ) $"
   ]
  },
  {
   "cell_type": "markdown",
   "id": "9",
   "metadata": {},
   "source": [
    "## 4. Datos de entrenamiento\n",
    "\n",
    "Definimos un conjunto de datos de ejemplo para entrenar el perceptrón. "
   ]
  },
  {
   "cell_type": "code",
   "execution_count": null,
   "id": "10",
   "metadata": {},
   "outputs": [],
   "source": [
    "# Datos de entrenamiento\n",
    "X = np.array([\n",
    "    [0],\n",
    "    [1],\n",
    "    [2],\n",
    "    [3]\n",
    "])\n",
    "\n",
    "# Etiquetas correspondientes (salida)\n",
    "# Por ejemplo, si la entrada es >=1, salida es 1\n",
    "y = np.array([0, 0, 1, 0])"
   ]
  },
  {
   "cell_type": "markdown",
   "id": "11",
   "metadata": {},
   "source": [
    "## 5. Entenamiento del perceptrón\n",
    "\n",
    "Creamos una instancia del perceptrón y lo entrenamos con los datos proporcionados."
   ]
  },
  {
   "cell_type": "code",
   "execution_count": null,
   "id": "12",
   "metadata": {},
   "outputs": [],
   "source": [
    "# Crear el perceptrón\n",
    "perceptron = Perceptron(learning_rate=0.1, n_iters=1000)\n",
    "\n",
    "# Entrenar el perceptrón\n",
    "perceptron.fit(X, y)"
   ]
  },
  {
   "cell_type": "markdown",
   "id": "13",
   "metadata": {},
   "source": [
    "## 6. Evaluación del modelo\n",
    "\n",
    "Probamos el perceptrón con algunos datos de prueba y visualizamos los resultados."
   ]
  },
  {
   "cell_type": "code",
   "execution_count": null,
   "id": "14",
   "metadata": {},
   "outputs": [],
   "source": [
    "# Datos de prueba\n",
    "X_test = np.array([[-2], [-1], [0], [1], [2]])\n",
    "\n",
    "# Realizar predicciones\n",
    "predictions = perceptron.predict(X_test)\n",
    "\n",
    "# Mostrar resultados\n",
    "for x, y_pred in zip(X_test, predictions):\n",
    "    print(f\"Entrada: {x[0]}, Predicción: {y_pred}\")"
   ]
  },
  {
   "cell_type": "markdown",
   "id": "15",
   "metadata": {},
   "source": [
    "## 7. Visualización de predicciones\n",
    "\n",
    "Visualización de las predicciones de cada uno de los datos de prueba"
   ]
  },
  {
   "cell_type": "code",
   "execution_count": null,
   "id": "16",
   "metadata": {},
   "outputs": [],
   "source": [
    "# Crear figura y eje\n",
    "plt.figure(figsize=(8, 5))  # Tamaño de la figura\n",
    "\n",
    "# Graficar los datos de entrenamiento\n",
    "plt.scatter(X[y==0], y[y==0], color='red', label='Clase 0')\n",
    "plt.scatter(X[y==1], y[y==1], color='blue', label='Clase 1')\n",
    "\n",
    "# Graficar la frontera de decisión\n",
    "x_values = np.array([min(X)-1, max(X)+1])\n",
    "y_values = -(perceptron.weights[0] * x_values + perceptron.bias) / perceptron.weights[0]\n",
    "plt.plot(x_values, y_values, label='Frontera de Decisión')\n",
    "\n",
    "# Mejorar el diseño\n",
    "plt.grid(True, which='both', linestyle='--', linewidth=0.5, alpha=0.7)\n",
    "\n",
    "# Añadir etiquetas y título\n",
    "plt.title('Perceptrón binario', fontsize=14, fontweight='bold')\n",
    "plt.xlabel('X_test', fontsize=12)\n",
    "plt.ylabel('Predicciones', fontsize=12)\n",
    "\n",
    "# Añadir leyenda\n",
    "plt.legend(loc='best')\n",
    "\n",
    "# Mostrar el gráfico\n",
    "plt.tight_layout()\n",
    "plt.show()"
   ]
  },
  {
   "cell_type": "code",
   "execution_count": null,
   "id": "17",
   "metadata": {},
   "outputs": [],
   "source": [
    "perceptron.print_parameters()"
   ]
  }
 ],
 "metadata": {
  "kernelspec": {
   "display_name": "venv",
   "language": "python",
   "name": "python3"
  },
  "language_info": {
   "codemirror_mode": {
    "name": "ipython",
    "version": 3
   },
   "file_extension": ".py",
   "mimetype": "text/x-python",
   "name": "python",
   "nbconvert_exporter": "python",
   "pygments_lexer": "ipython3",
   "version": "3.12.1"
  }
 },
 "nbformat": 4,
 "nbformat_minor": 5
}
