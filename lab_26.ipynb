{
 "cells": [
  {
   "cell_type": "markdown",
   "id": "0",
   "metadata": {},
   "source": [
    "# Propiedades de una región\n",
    "\n",
    "<div class=\"alert alert-block alert-success\">\n",
    "<b>Resumen:</b> Este notebook presenta como obtener las propiedades de una región. \n",
    "</div>\n",
    "\n",
    "***"
   ]
  },
  {
   "cell_type": "markdown",
   "id": "1",
   "metadata": {},
   "source": [
    "## Preámbulo\n",
    "\n",
    "Para instalar la libreria scikit-image\n",
    "- En el menu principal `Anaconda3 > Anaconda Powershell Prompt`.\n",
    "- Active el entorno de trabajo para visión por computadora( `conda activate cv2` ).\n",
    "- Instale la libreria skimage ( `pip install scikit-image` ).\n",
    "\n",
    "Para instalar la libreria pandas\n",
    "- En el menu principal `Anaconda3 > Anaconda Powershell Prompt`.\n",
    "- Active el entorno de trabajo para visión por computadora( `conda activate cv2` ).\n",
    "- Instale la libreria skimage ( `pip install pandas` )."
   ]
  },
  {
   "cell_type": "code",
   "execution_count": null,
   "id": "2",
   "metadata": {},
   "outputs": [],
   "source": [
    "# Importar las librerías necesarias\n",
    "import cv2\n",
    "import numpy as np\n",
    "import matplotlib.pyplot as plt\n",
    "import skimage as ski\n",
    "import pandas as pd"
   ]
  },
  {
   "cell_type": "markdown",
   "id": "3",
   "metadata": {},
   "source": [
    "## 1. Lectura y visualización de la imagen de prueba"
   ]
  },
  {
   "cell_type": "code",
   "execution_count": null,
   "id": "4",
   "metadata": {},
   "outputs": [],
   "source": [
    "im_1 = cv2.imread('./images/dark_blobs_on_light_background.tif', cv2.IMREAD_GRAYSCALE)"
   ]
  },
  {
   "cell_type": "code",
   "execution_count": null,
   "id": "5",
   "metadata": {},
   "outputs": [],
   "source": [
    "# Imagen 1\n",
    "plt.figure()\n",
    "plt.title(\"Imagen 1\")\n",
    "plt.imshow(im_1, cmap='gray')\n",
    "plt.show()"
   ]
  },
  {
   "cell_type": "markdown",
   "id": "6",
   "metadata": {},
   "source": [
    "## 2. Segmentación\n",
    "Definir un umbral para segmentar"
   ]
  },
  {
   "cell_type": "code",
   "execution_count": null,
   "id": "7",
   "metadata": {},
   "outputs": [],
   "source": [
    "bw_1 = im_1 < 100"
   ]
  },
  {
   "cell_type": "code",
   "execution_count": null,
   "id": "8",
   "metadata": {},
   "outputs": [],
   "source": [
    "plt.figure()\n",
    "plt.title(\"Segmentación de Imagen 1\")\n",
    "plt.imshow(bw_1, cmap='gray')\n",
    "plt.show()"
   ]
  },
  {
   "cell_type": "markdown",
   "id": "9",
   "metadata": {},
   "source": [
    "## 3. Etiquetado de componentes conectados"
   ]
  },
  {
   "cell_type": "code",
   "execution_count": null,
   "id": "10",
   "metadata": {},
   "outputs": [],
   "source": [
    "# 3.1 Etiquetas\n",
    "L, n = ski.measure.label(bw_1, connectivity=2, return_num=True)\n",
    "print(f\"Número de regiones: {n}\")"
   ]
  },
  {
   "cell_type": "markdown",
   "id": "11",
   "metadata": {},
   "source": [
    "Visualización de regiones"
   ]
  },
  {
   "cell_type": "code",
   "execution_count": null,
   "id": "12",
   "metadata": {},
   "outputs": [],
   "source": [
    "# Visualización de regiones usando un mapa de colores\n",
    "plt.figure()\n",
    "plt.title(\"Etiquetas de regiones\")\n",
    "plt.imshow(L, cmap='nipy_spectral')\n",
    "plt.colorbar()\n",
    "plt.show()"
   ]
  },
  {
   "cell_type": "markdown",
   "id": "13",
   "metadata": {},
   "source": [
    "### 3.1 Selección de una región"
   ]
  },
  {
   "cell_type": "code",
   "execution_count": null,
   "id": "14",
   "metadata": {},
   "outputs": [],
   "source": [
    "# Selección de regiones individuales por su etiqueta\n",
    "reg_1 = (L == 1)\n",
    "reg_20 = (L == 32)\n",
    "reg_56 = (L == 45)\n",
    "\n",
    "# Visualización de las regiones seleccionadas\n",
    "fig, ax = plt.subplots(1, 3, figsize=(15, 5))\n",
    "ax[0].imshow(reg_1, cmap='gray')\n",
    "ax[0].set_title(\"Región 1\")\n",
    "ax[1].imshow(reg_20, cmap='gray')\n",
    "ax[1].set_title(\"Región 32\")\n",
    "ax[2].imshow(reg_56, cmap='gray')\n",
    "ax[2].set_title(\"Región 45\")\n",
    "plt.show()"
   ]
  },
  {
   "cell_type": "markdown",
   "id": "15",
   "metadata": {},
   "source": [
    "## 4. Propiedades de una región\n",
    "### 4.1 Extracción de propiedades de las regiones"
   ]
  },
  {
   "cell_type": "code",
   "execution_count": null,
   "id": "16",
   "metadata": {},
   "outputs": [],
   "source": [
    "stats = ski.measure.regionprops_table(L, properties=['centroid', 'major_axis_length', 'minor_axis_length'])"
   ]
  },
  {
   "cell_type": "code",
   "execution_count": null,
   "id": "17",
   "metadata": {},
   "outputs": [],
   "source": [
    "print(stats)"
   ]
  },
  {
   "cell_type": "code",
   "execution_count": null,
   "id": "18",
   "metadata": {},
   "outputs": [],
   "source": [
    "# Convertir las propiedades a un DataFrame para facilitar la visualización\n",
    "stats_df = pd.DataFrame(stats)\n",
    "print(\"Propiedades de las regiones:\")\n",
    "print(stats_df)"
   ]
  },
  {
   "cell_type": "markdown",
   "id": "19",
   "metadata": {},
   "source": [
    "### 4.2 Otras propiedades"
   ]
  },
  {
   "cell_type": "code",
   "execution_count": null,
   "id": "20",
   "metadata": {},
   "outputs": [],
   "source": [
    "centers = np.column_stack((stats['centroid-0'], stats['centroid-1']))\n",
    "diameters = (np.array(stats['major_axis_length']) + np.array(stats['minor_axis_length'])) / 2\n",
    "radii = diameters / 2"
   ]
  },
  {
   "cell_type": "code",
   "execution_count": null,
   "id": "21",
   "metadata": {},
   "outputs": [],
   "source": [
    "# Visualización de los contornos y círculos\n",
    "plt.figure()\n",
    "plt.title(\"Contornos y círculos en la Imagen 1\")\n",
    "plt.imshow(im_1, cmap='gray')\n",
    "plt.axis('off')\n",
    "\n",
    "# Visualizar círculos en los centros de las regiones\n",
    "for center, radius in zip(centers, radii):\n",
    "    circle = plt.Circle((center[1], center[0]), radius, color='r', fill=False)\n",
    "    plt.gca().add_patch(circle)\n",
    "\n",
    "plt.show()"
   ]
  },
  {
   "cell_type": "markdown",
   "id": "22",
   "metadata": {},
   "source": [
    "## 5. Cálculo de contornos"
   ]
  },
  {
   "cell_type": "code",
   "execution_count": null,
   "id": "23",
   "metadata": {},
   "outputs": [],
   "source": [
    "# Encontrar contornos usando el algoritmo de límites\n",
    "B = ski.measure.find_contours(bw_1, level=0.5)"
   ]
  },
  {
   "cell_type": "code",
   "execution_count": null,
   "id": "24",
   "metadata": {},
   "outputs": [],
   "source": [
    "# Visualizar imagen y trazar los contornos\n",
    "plt.figure()\n",
    "plt.title(\"Contornos en la Imagen 1\")\n",
    "plt.imshow(im_1, cmap='gray')\n",
    "for boundary in B:\n",
    "    plt.plot(boundary[:, 1], boundary[:, 0], 'r', linewidth=2)\n",
    "plt.show()"
   ]
  },
  {
   "cell_type": "markdown",
   "id": "25",
   "metadata": {},
   "source": [
    "<b>Actividad</b>\n",
    "\n",
    "- Investiga otras propiedades en la libreria scikit-image.\n",
    "- Adecue el notebook a las 'rice_image_with_intensity_gradient.tif' y 'wood_dowels.tif'"
   ]
  }
 ],
 "metadata": {
  "kernelspec": {
   "display_name": "cv2-kernel",
   "language": "python",
   "name": "cv2-kernel"
  },
  "language_info": {
   "codemirror_mode": {
    "name": "ipython",
    "version": 3
   },
   "file_extension": ".py",
   "mimetype": "text/x-python",
   "name": "python",
   "nbconvert_exporter": "python",
   "pygments_lexer": "ipython3",
   "version": "3.8.18"
  }
 },
 "nbformat": 4,
 "nbformat_minor": 5
}
