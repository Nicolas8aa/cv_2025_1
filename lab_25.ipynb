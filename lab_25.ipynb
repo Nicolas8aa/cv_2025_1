{
 "cells": [
  {
   "cell_type": "markdown",
   "id": "0",
   "metadata": {},
   "source": [
    "# Procesamiento de imágenes a través de morfología matemática\n",
    "\n",
    "<div class=\"alert alert-block alert-success\">\n",
    "<b>Resumen:</b> Este notebook presenta algunas de las operaciones con morfología matemática. \n",
    "</div>\n",
    "\n",
    "***"
   ]
  },
  {
   "cell_type": "markdown",
   "id": "1",
   "metadata": {},
   "source": [
    "## Preámbulo"
   ]
  },
  {
   "cell_type": "code",
   "execution_count": null,
   "id": "2",
   "metadata": {},
   "outputs": [],
   "source": [
    "import cv2\n",
    "import numpy as np\n",
    "import matplotlib.pyplot as plt"
   ]
  },
  {
   "cell_type": "markdown",
   "id": "3",
   "metadata": {},
   "source": [
    "## 1. Hit-or-miss transform"
   ]
  },
  {
   "cell_type": "code",
   "execution_count": null,
   "id": "4",
   "metadata": {},
   "outputs": [],
   "source": [
    "# Definición de imagen binaria\n",
    "BW1 = cv2.imread('./images/squares.tif', cv2.IMREAD_GRAYSCALE)\n",
    "_, BW1 = cv2.threshold(BW1, 128, 255, cv2.THRESH_BINARY)"
   ]
  },
  {
   "cell_type": "code",
   "execution_count": null,
   "id": "5",
   "metadata": {},
   "outputs": [],
   "source": [
    "# Mostrar imagen original\n",
    "plt.imshow(BW1, cmap='gray')\n",
    "plt.title('Original Image')\n",
    "plt.axis('off')\n",
    "plt.show()"
   ]
  },
  {
   "cell_type": "code",
   "execution_count": null,
   "id": "6",
   "metadata": {},
   "outputs": [],
   "source": [
    "# Definir los elementos estructurantes para hit-or-miss\n",
    "B1 = np.array([[0, 0, 0], [0, 1, 1], [0, 1, 0]], dtype=np.uint8)  # hit\n",
    "B2 = np.array([[1, 1, 1], [1, 0, 0], [1, 0, 0]], dtype=np.uint8)  # miss"
   ]
  },
  {
   "cell_type": "code",
   "execution_count": null,
   "id": "7",
   "metadata": {},
   "outputs": [],
   "source": [
    "# Visualización de los resultados\n",
    "plt.figure(figsize=(6, 3))\n",
    "\n",
    "plt.subplot(1, 2, 1)\n",
    "plt.imshow(B1, cmap='gray')\n",
    "plt.title('B1 (Hit)')\n",
    "\n",
    "plt.subplot(1, 2, 2)\n",
    "plt.imshow(B2, cmap='gray')\n",
    "plt.title('B2 (Miss)')\n",
    "\n",
    "plt.tight_layout()\n",
    "plt.show()"
   ]
  },
  {
   "cell_type": "markdown",
   "id": "8",
   "metadata": {},
   "source": [
    "Operacion de Hit-or-miss transform"
   ]
  },
  {
   "cell_type": "code",
   "execution_count": null,
   "id": "9",
   "metadata": {},
   "outputs": [],
   "source": [
    "# Realizar la erosión de la imagen original con el elemento estructurante B1 (hit)\n",
    "hit = cv2.erode(BW1, B1)\n",
    "\n",
    "# Crear el complemento de la imagen binaria\n",
    "BW1_complement = cv2.bitwise_not(BW1)\n",
    "\n",
    "# Realizar la erosión en el complemento de la imagen con el elemento estructurante B2 (miss)\n",
    "miss = cv2.erode(BW1_complement, B2)\n",
    "\n",
    "# Realizar la operación de hit-or-miss\n",
    "hit_miss = cv2.bitwise_and(hit, miss)"
   ]
  },
  {
   "cell_type": "code",
   "execution_count": null,
   "id": "10",
   "metadata": {},
   "outputs": [],
   "source": [
    "# Visualización de los resultados\n",
    "plt.figure(figsize=(10, 5))\n",
    "\n",
    "plt.subplot(1, 2, 1)\n",
    "plt.imshow(BW1, cmap='gray')\n",
    "plt.title('Im original')\n",
    "\n",
    "plt.subplot(1, 2, 2)\n",
    "plt.imshow(hit_miss, cmap='gray')\n",
    "plt.title('Resultado')\n",
    "\n",
    "plt.tight_layout()\n",
    "plt.show()"
   ]
  },
  {
   "cell_type": "markdown",
   "id": "11",
   "metadata": {},
   "source": [
    "## 2. Función morphologyEx"
   ]
  },
  {
   "cell_type": "code",
   "execution_count": null,
   "id": "12",
   "metadata": {},
   "outputs": [],
   "source": [
    "# Imagen binaria\n",
    "BW2 = cv2.imread('./images/noisy_fingerprint.tif', cv2.IMREAD_GRAYSCALE)\n",
    "_, BW2 = cv2.threshold(BW2, 128, 255, cv2.THRESH_BINARY)"
   ]
  },
  {
   "cell_type": "code",
   "execution_count": null,
   "id": "13",
   "metadata": {},
   "outputs": [],
   "source": [
    "# Crear un elemento estructurante cuadrado\n",
    "se_1 = cv2.getStructuringElement(cv2.MORPH_RECT, (3, 3))"
   ]
  },
  {
   "cell_type": "code",
   "execution_count": null,
   "id": "14",
   "metadata": {},
   "outputs": [],
   "source": [
    "# Aplicar operaciones de apertura y cierre\n",
    "BW2_opening_1 = cv2.morphologyEx(BW2, cv2.MORPH_OPEN, se_1)\n",
    "BW2_closing_1 = cv2.morphologyEx(BW2_opening_1, cv2.MORPH_CLOSE, se_1)"
   ]
  },
  {
   "cell_type": "code",
   "execution_count": null,
   "id": "15",
   "metadata": {},
   "outputs": [],
   "source": [
    "# Visualización de los resultados\n",
    "plt.figure(figsize=(10, 5))\n",
    "\n",
    "plt.subplot(1, 3, 1)\n",
    "plt.imshow(BW2, cmap='gray')\n",
    "plt.title('Im. original')\n",
    "\n",
    "plt.subplot(1, 3, 2)\n",
    "plt.imshow(BW2_opening_1, cmap='gray')\n",
    "plt.title('Opening')\n",
    "\n",
    "plt.subplot(1, 3, 3)\n",
    "plt.imshow(BW2_closing_1, cmap='gray')\n",
    "plt.title('Closing')\n",
    "\n",
    "plt.tight_layout()\n",
    "plt.show()"
   ]
  },
  {
   "cell_type": "markdown",
   "id": "16",
   "metadata": {},
   "source": [
    "## 3. Operación de thinning"
   ]
  },
  {
   "cell_type": "code",
   "execution_count": null,
   "id": "17",
   "metadata": {},
   "outputs": [],
   "source": [
    "# Operador de thinning (solo esqueleto en OpenCV)\n",
    "BW2_thin_1 = cv2.ximgproc.thinning(BW2_closing_1, thinningType=cv2.ximgproc.THINNING_ZHANGSUEN)\n",
    "BW2_thin_2 = cv2.ximgproc.thinning(BW2_closing_1, thinningType=cv2.ximgproc.THINNING_GUOHALL)"
   ]
  },
  {
   "cell_type": "code",
   "execution_count": null,
   "id": "18",
   "metadata": {},
   "outputs": [],
   "source": [
    "# Visualización de los resultados\n",
    "plt.figure(figsize=(6, 5))\n",
    "\n",
    "plt.subplot(1, 2, 1)\n",
    "plt.imshow(BW2_thin_1, cmap='gray')\n",
    "plt.title('Thinning (Zhang-Suen)')\n",
    "\n",
    "plt.subplot(1, 2, 2)\n",
    "plt.imshow(BW2_thin_2, cmap='gray')\n",
    "plt.title('Thinning (Guo-Hall)')\n",
    "\n",
    "plt.tight_layout()\n",
    "plt.show()"
   ]
  },
  {
   "cell_type": "markdown",
   "id": "19",
   "metadata": {},
   "source": [
    "## 4. Skeletonization"
   ]
  },
  {
   "cell_type": "code",
   "execution_count": null,
   "id": "20",
   "metadata": {},
   "outputs": [],
   "source": [
    "# Cargar nueva imagen\n",
    "BW3 = cv2.imread('./images/region.tif', cv2.IMREAD_GRAYSCALE)\n",
    "_, BW3 = cv2.threshold(BW3, 128, 255, cv2.THRESH_BINARY)"
   ]
  },
  {
   "cell_type": "code",
   "execution_count": null,
   "id": "21",
   "metadata": {},
   "outputs": [],
   "source": [
    "# Operador de skeletonization\n",
    "BW3_skeleton = cv2.ximgproc.thinning(BW3)"
   ]
  },
  {
   "cell_type": "code",
   "execution_count": null,
   "id": "22",
   "metadata": {},
   "outputs": [],
   "source": [
    "# Visualización de los resultados\n",
    "plt.figure(figsize=(6, 5))\n",
    "\n",
    "plt.subplot(1, 2, 1)\n",
    "plt.imshow(BW3, cmap='gray')\n",
    "plt.title('Original Image')\n",
    "\n",
    "plt.subplot(1, 2, 2)\n",
    "plt.imshow(BW3_skeleton, cmap='gray')\n",
    "plt.title('Skeleton')\n",
    "\n",
    "plt.tight_layout()\n",
    "plt.show()"
   ]
  }
 ],
 "metadata": {
  "kernelspec": {
   "display_name": "venv",
   "language": "python",
   "name": "python3"
  },
  "language_info": {
   "codemirror_mode": {
    "name": "ipython",
    "version": 3
   },
   "file_extension": ".py",
   "mimetype": "text/x-python",
   "name": "python",
   "nbconvert_exporter": "python",
   "pygments_lexer": "ipython3",
   "version": "3.12.1"
  }
 },
 "nbformat": 4,
 "nbformat_minor": 5
}
