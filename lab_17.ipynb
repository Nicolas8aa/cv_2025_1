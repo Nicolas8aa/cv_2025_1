{
 "cells": [
  {
   "cell_type": "markdown",
   "id": "0",
   "metadata": {},
   "source": [
    "# Filtrado en el dominio de la frecuencia - parte 1\n",
    "\n",
    "<div class=\"alert alert-block alert-success\">\n",
    "<b>Resumen:</b> Este notebook explora el uso de la Transformada de Fourier para analizar y filtrar imágenes en el dominio de la frecuencia utilizando OpenCV y Python. Se crean imágenes sintéticas, se calcula y visualiza la transformada de Fourier (magnitud y fase) tanto en 2D como en 3D, y se discute el desempeño de diferentes métodos.\n",
    "</div>\n",
    "\n",
    "***"
   ]
  },
  {
   "cell_type": "markdown",
   "id": "1",
   "metadata": {},
   "source": [
    "## 1. Teoría de la Transformada de Fourier\n",
    "\n",
    "### 1.1. Introducción a la Transformada de Fourier\n",
    "La Transformada de Fourier es una herramienta matemática que descompone una señal (en este caso, una imagen) en sus componentes de frecuencia. En el contexto de imágenes, permite analizar cómo se distribuyen las diferentes frecuencias espaciales que componen la imagen.\n",
    "\n",
    "- <b>Dominio Espacial:</b> Representación de la imagen en términos de píxeles.\n",
    "- <b>Dominio de Frecuencia:</b> Representación de la imagen en términos de frecuencias espaciales, donde cada frecuencia indica patrones repetitivos como bordes y texturas.\n",
    "\n",
    "### 1.2. Magnitud y Fase\n",
    "\n",
    "- <b>Magnitud del Espectro:</b> Indica la amplitud de cada componente de frecuencia presente en la imagen. Las frecuencias bajas representan cambios suaves, mientras que las altas representan detalles finos y bordes.\n",
    "- <b>Fase del Espectro:</b> Contiene información sobre la posición y alineación de las frecuencias. Es importante para la reconstrucción precisa de la imagen original.\n",
    "\n",
    "---"
   ]
  },
  {
   "cell_type": "markdown",
   "id": "2",
   "metadata": {},
   "source": [
    "Importación de librerias necesarias"
   ]
  },
  {
   "cell_type": "code",
   "execution_count": null,
   "id": "3",
   "metadata": {},
   "outputs": [],
   "source": [
    "import cv2\n",
    "import numpy as np\n",
    "import matplotlib.pyplot as plt"
   ]
  },
  {
   "cell_type": "markdown",
   "id": "4",
   "metadata": {},
   "source": [
    "## 2. Creación y visualización de una imagen sintética de prueba\n",
    "\n",
    "Creamos una imagen sintética con un rectángulo blanco sobre un fondo negro para facilitar el análisis de la Transformada de Fourier."
   ]
  },
  {
   "cell_type": "code",
   "execution_count": null,
   "id": "5",
   "metadata": {},
   "outputs": [],
   "source": [
    "# Crear una imagen negra de 480x480 píxeles\n",
    "img_box = np.zeros((480, 480), dtype=np.float32)\n",
    "\n",
    "# Definir dimensiones del rectángulo\n",
    "ancho = 20  # Ancho del rectángulo\n",
    "alto = 50 # Alto del rectángulo\n",
    "\n",
    "# Calcular el centro de la imagen\n",
    "centro_y = img_box.shape[0] // 2\n",
    "centro_x = img_box.shape[1] // 2\n",
    "\n",
    "# Dibujar el rectángulo blanco en el centro\n",
    "img_box[centro_y-alto//2:centro_y+alto//2, centro_x-ancho//2:centro_x+ancho//2] = 255"
   ]
  },
  {
   "cell_type": "code",
   "execution_count": null,
   "id": "6",
   "metadata": {},
   "outputs": [],
   "source": [
    "# Visualización de la imagen sintética\n",
    "plt.figure(figsize=(4,4))\n",
    "plt.imshow(img_box, cmap='gray')\n",
    "plt.title('Imagen sintética')\n",
    "plt.axis('off')\n",
    "plt.show()"
   ]
  },
  {
   "cell_type": "markdown",
   "id": "7",
   "metadata": {},
   "source": [
    "## 3. Calculo de la transformada de Fourier (cv2.dft)\n",
    "\n",
    "Utilizamos la función `cv2.dft` de OpenCV para calcular la Transformada de Fourier de la imagen."
   ]
  },
  {
   "cell_type": "code",
   "execution_count": null,
   "id": "8",
   "metadata": {},
   "outputs": [],
   "source": [
    "# Aplicar la Transformada de Fourier utilizando OpenCV\n",
    "dft = cv2.dft(img_box, flags=cv2.DFT_COMPLEX_OUTPUT)\n",
    "\n",
    "# Desplazar el espectro de Fourier para centrar las bajas frecuencias\n",
    "dft_shift = np.fft.fftshift(dft)"
   ]
  },
  {
   "cell_type": "markdown",
   "id": "9",
   "metadata": {},
   "source": [
    "### 3.1. Magnitud de la DFT\n",
    "\n",
    "Calculamos la magnitud del espectro de Fourier para analizar las frecuencias presentes en la imagen."
   ]
  },
  {
   "cell_type": "code",
   "execution_count": null,
   "id": "10",
   "metadata": {},
   "outputs": [],
   "source": [
    "# Separar las partes real e imaginaria del espectro\n",
    "real_part = dft_shift[:, :, 0]\n",
    "imag_part = dft_shift[:, :, 1]\n",
    "\n",
    "# Calcular la magnitud del espectro\n",
    "magnitude_spectrum = cv2.magnitude(real_part, imag_part)"
   ]
  },
  {
   "cell_type": "markdown",
   "id": "11",
   "metadata": {},
   "source": [
    "Normalización logarítmica, evitando log(0) y un resultado mayor o igual a cero"
   ]
  },
  {
   "cell_type": "code",
   "execution_count": null,
   "id": "12",
   "metadata": {},
   "outputs": [],
   "source": [
    "# Normalizar la magnitud utilizando una escala logarítmica para mejorar la visualización\n",
    "magnitude_spectrum_log = 20*np.log10(magnitude_spectrum + 1)  # Añadir 1 para evitar log(0)\n",
    "\n",
    "# Normalizar la magnitud a un rango de 0 a 1\n",
    "magnitude_spectrum_norm = cv2.normalize(magnitude_spectrum_log, None, 0, 1.0, cv2.NORM_MINMAX)"
   ]
  },
  {
   "cell_type": "markdown",
   "id": "13",
   "metadata": {},
   "source": [
    "Visualizar la magnitud en 2d"
   ]
  },
  {
   "cell_type": "code",
   "execution_count": null,
   "id": "14",
   "metadata": {},
   "outputs": [],
   "source": [
    "plt.figure()\n",
    "plt.imshow(magnitude_spectrum_norm, cmap='gray')\n",
    "plt.title('Transformada de Fourier - Magnitud con OpenCV')\n",
    "plt.axis('off')\n",
    "plt.show()"
   ]
  },
  {
   "cell_type": "markdown",
   "id": "15",
   "metadata": {},
   "source": [
    "### 3.2. Visualización 3D del Espectro de Magnitud\n",
    "\n",
    "Función para graficar la superficie 3d a partir de una matriz de dos dimensiones"
   ]
  },
  {
   "cell_type": "code",
   "execution_count": null,
   "id": "16",
   "metadata": {},
   "outputs": [],
   "source": [
    "def plot3d( Z, title=\"Magnitud\", elevation=45, azimute=35 ):\n",
    "    \"\"\"\n",
    "    Función para graficar una superficie 3D a partir de una matriz 2D.\n",
    "    \n",
    "    Parámetros:\n",
    "    - Z: Matriz 2D de datos.\n",
    "    - title: Título del gráfico.\n",
    "    - elevation: Ángulo de elevación de la vista.\n",
    "    - azimute: Ángulo de azimut de la vista.\n",
    "    \"\"\"\n",
    "    \n",
    "    # Definir los valores de X e Y basados en el tamaño de la matriz Z\n",
    "    x = np.arange(Z.shape[1])  # Valores del eje X\n",
    "    y = np.arange(Z.shape[0])  # Valores del eje Y\n",
    "    \n",
    "    # Crear la rejilla de coordenadas\n",
    "    X, Y = np.meshgrid(x, y)\n",
    "    \n",
    "    # Crear la figura y un subplot 3D\n",
    "    fig = plt.figure()\n",
    "    ax = fig.add_subplot(111, projection='3d')\n",
    "    \n",
    "    # Crear la superficie a partir de la matriz Z\n",
    "    surf = ax.plot_surface(X, Y, Z, cmap='viridis')\n",
    "    \n",
    "    # Añadir una barra de color\n",
    "    fig.colorbar(surf)\n",
    "    \n",
    "    # Añadir etiquetas a los ejes\n",
    "    plt.title(f\"{title} de la Transformada de Fourier\")\n",
    "    plt.xlabel(\"Frecuencia en el Eje X\")\n",
    "    plt.ylabel(\"Frecuencia en el Eje Y\")\n",
    "    \n",
    "    # Ajustar manualmente la vista\n",
    "    ax.view_init(elev=elevation, azim=azimute)  # Cambia estos valores para rotar el gráfico\n",
    "    \n",
    "    # Mostrar la gráfica\n",
    "    plt.show()"
   ]
  },
  {
   "cell_type": "markdown",
   "id": "17",
   "metadata": {},
   "source": [
    "Visualización 3d del espectro de magnitud"
   ]
  },
  {
   "cell_type": "code",
   "execution_count": null,
   "id": "18",
   "metadata": {},
   "outputs": [],
   "source": [
    "plot3d(magnitude_spectrum_norm)"
   ]
  },
  {
   "cell_type": "markdown",
   "id": "19",
   "metadata": {},
   "source": [
    "### 3.3. Fase de la DFT\n",
    "\n",
    "La fase del espectro contiene información sobre la posición y estructura de los elementos en la imagen.\n",
    "\n",
    "$\\theta = $ `cv2.phase`( ... ) esta definida para $\\theta = [0, \\, 2\\pi]$"
   ]
  },
  {
   "cell_type": "code",
   "execution_count": null,
   "id": "20",
   "metadata": {},
   "outputs": [],
   "source": [
    "# Calcular la fase del espectro utilizando cv2.phase\n",
    "phase = cv2.phase(real_part, imag_part)\n",
    "\n",
    "# Normalizar la fase a un rango de 0 a 1 para visualización\n",
    "phase_norm = cv2.normalize(phase, None, 0, 1.0, cv2.NORM_MINMAX)"
   ]
  },
  {
   "cell_type": "markdown",
   "id": "21",
   "metadata": {},
   "source": [
    "Visualización de la fase en 2d"
   ]
  },
  {
   "cell_type": "code",
   "execution_count": null,
   "id": "22",
   "metadata": {},
   "outputs": [],
   "source": [
    "plt.figure()\n",
    "plt.imshow(phase_norm, cmap='gray')\n",
    "plt.title('Transformada de Fourier - Fase con OpenCV')\n",
    "plt.axis('off')\n",
    "plt.show()"
   ]
  },
  {
   "cell_type": "markdown",
   "id": "23",
   "metadata": {},
   "source": [
    "Visualización de la fase en 3d"
   ]
  },
  {
   "cell_type": "code",
   "execution_count": null,
   "id": "24",
   "metadata": {},
   "outputs": [],
   "source": [
    "plot3d(phase_norm, title=\"Fase\", elevation=65, azimute=10)"
   ]
  },
  {
   "cell_type": "markdown",
   "id": "25",
   "metadata": {},
   "source": [
    "### 3.4. Guardando el espectro de amplitud y fase en un archivo binario"
   ]
  },
  {
   "cell_type": "code",
   "execution_count": null,
   "id": "26",
   "metadata": {},
   "outputs": [],
   "source": [
    "# Guardar el espectro de magnitud\n",
    "np.save('magnitude_spectrum.npy', magnitude_spectrum)\n",
    "\n",
    "# Guardar la fase\n",
    "np.save('phase_spectrum.npy', phase)"
   ]
  },
  {
   "cell_type": "markdown",
   "id": "27",
   "metadata": {},
   "source": [
    "---\n",
    "\n",
    "## Recursos adicionales\n",
    "\n",
    "- https://docs.opencv.org/3.4/de/dbc/tutorial_py_fourier_transform.html"
   ]
  }
 ],
 "metadata": {
  "kernelspec": {
   "display_name": "cv2-kernel",
   "language": "python",
   "name": "cv2-kernel"
  },
  "language_info": {
   "codemirror_mode": {
    "name": "ipython",
    "version": 3
   },
   "file_extension": ".py",
   "mimetype": "text/x-python",
   "name": "python",
   "nbconvert_exporter": "python",
   "pygments_lexer": "ipython3",
   "version": "3.8.18"
  }
 },
 "nbformat": 4,
 "nbformat_minor": 5
}
