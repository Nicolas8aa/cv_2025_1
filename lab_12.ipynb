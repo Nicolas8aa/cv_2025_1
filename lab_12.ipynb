{
 "cells": [
  {
   "cell_type": "markdown",
   "id": "0",
   "metadata": {},
   "source": [
    "# Práctica 12. Métodos de normalización de píxeles\n",
    "\n",
    "<div class=\"alert alert-block alert-success\">\n",
    "<b>Resumen:</b>  Esta práctica presenta una introducción a la normalización de píxeles en el ámbito de la visión por computadora. Utilizando las librerías OpenCV, numpy y Matplotlib.\n",
    "</div>\n",
    "\n",
    "***"
   ]
  },
  {
   "cell_type": "code",
   "execution_count": null,
   "id": "1",
   "metadata": {},
   "outputs": [],
   "source": [
    "# Preámbulo\n",
    "import cv2\n",
    "import numpy as np\n",
    "import matplotlib.pyplot as plt"
   ]
  },
  {
   "cell_type": "markdown",
   "id": "2",
   "metadata": {},
   "source": [
    "***\n",
    "\n",
    "### Lectura de imágenes\n",
    "\n",
    "Se procede a leer las imágenes en escala de grises y a visualizarlas. Además, se calcula el rango de intensidades para cada imagen."
   ]
  },
  {
   "cell_type": "code",
   "execution_count": null,
   "id": "3",
   "metadata": {},
   "outputs": [],
   "source": [
    "# Lectura de las imágenes en escala de grises\n",
    "im_gray_1 = cv2.imread('./images/cameraman.tif')\n",
    "im_gray_2 = cv2.imread('./images/circuit.tif')"
   ]
  },
  {
   "cell_type": "code",
   "execution_count": null,
   "id": "4",
   "metadata": {},
   "outputs": [],
   "source": [
    "def visulization(im_1, im_2):\n",
    "    # Visualización de las imágenes\n",
    "    fig, axes = plt.subplots(1, 2, figsize=(7, 3))\n",
    "    plt.subplot(1, 2, 1)\n",
    "    plt.imshow(im_1, cmap='gray')\n",
    "    plt.title('Imagen 1')\n",
    "    plt.axis('off')\n",
    "\n",
    "    plt.subplot(1, 2, 2)\n",
    "    plt.imshow(im_2, cmap='gray')\n",
    "    plt.title('Imagen 2')\n",
    "    plt.axis('off')\n",
    "\n",
    "    plt.show()"
   ]
  },
  {
   "cell_type": "code",
   "execution_count": null,
   "id": "5",
   "metadata": {},
   "outputs": [],
   "source": [
    "visulization(im_gray_1, im_gray_2)"
   ]
  },
  {
   "cell_type": "markdown",
   "id": "6",
   "metadata": {},
   "source": [
    "Rango de intensidades"
   ]
  },
  {
   "cell_type": "code",
   "execution_count": null,
   "id": "7",
   "metadata": {},
   "outputs": [],
   "source": [
    "# Cálculo del rango de intensidades\n",
    "def intensity_range(im_gray):\n",
    "    l_max = im_gray.max()\n",
    "    l_min = im_gray.min()\n",
    "\n",
    "    print(f\"Imagen: min = {l_min}, max = {l_max}\")"
   ]
  },
  {
   "cell_type": "code",
   "execution_count": null,
   "id": "8",
   "metadata": {},
   "outputs": [],
   "source": [
    "# intensidades máximas y mínimas\n",
    "intensity_range(im_gray_1)\n",
    "intensity_range(im_gray_2)"
   ]
  },
  {
   "cell_type": "markdown",
   "id": "9",
   "metadata": {},
   "source": [
    "***\n",
    "\n",
    "### 1. Normalización min-max\n",
    "\n",
    "Escala los valores de los píxeles a un rango específico, generalmente [0, 1] o [-1, 1]."
   ]
  },
  {
   "cell_type": "markdown",
   "id": "10",
   "metadata": {},
   "source": [
    "$ X_{\\text{norm}} = \\dfrac{X - X_{\\text{min}}}{X_{\\text{max}} - X_{\\text{min}}} $"
   ]
  },
  {
   "cell_type": "code",
   "execution_count": null,
   "id": "11",
   "metadata": {},
   "outputs": [],
   "source": [
    "def min_max_normalization(image, new_min=0, new_max=1):\n",
    "    # Convertir a float para evitar desbordamientos\n",
    "    image_float = image.astype(np.float32)\n",
    "    norm_image = (image_float - image_float.min()) / (image_float.max() - image_float.min())\n",
    "    norm_image = norm_image * (new_max - new_min) + new_min\n",
    "    return norm_image"
   ]
  },
  {
   "cell_type": "code",
   "execution_count": null,
   "id": "12",
   "metadata": {},
   "outputs": [],
   "source": [
    "min_max_norm_1 = min_max_normalization(im_gray_1)\n",
    "min_max_norm_2 = min_max_normalization(im_gray_2)"
   ]
  },
  {
   "cell_type": "code",
   "execution_count": null,
   "id": "13",
   "metadata": {},
   "outputs": [],
   "source": [
    "# Mostrar la imagen original y normalizada\n",
    "visulization(im_gray_1, min_max_norm_1)\n",
    "visulization(im_gray_2, min_max_norm_2)"
   ]
  },
  {
   "cell_type": "markdown",
   "id": "14",
   "metadata": {},
   "source": [
    "***\n",
    "\n",
    "### 2. Estandarización (Normalización z-score)\n",
    "\n",
    "Ajusta los valores de los píxeles para que tengan una media de 0 y una desviación estándar de 1."
   ]
  },
  {
   "cell_type": "markdown",
   "id": "15",
   "metadata": {},
   "source": [
    "$X_{\\text{est}} = \\dfrac{X - \\mu}{\\sigma}$"
   ]
  },
  {
   "cell_type": "markdown",
   "id": "16",
   "metadata": {},
   "source": [
    "donde:\n",
    "- $\\mu$ es la media de los valores de los píxeles.\n",
    "- $\\sigma$ es la desviación estándar de los valores de los píxeles."
   ]
  },
  {
   "cell_type": "code",
   "execution_count": null,
   "id": "17",
   "metadata": {},
   "outputs": [],
   "source": [
    "def z_score_normalization(image):\n",
    "    image_float = image.astype(np.float32)\n",
    "    mean = np.mean(image_float)\n",
    "    std = np.std(image_float)\n",
    "    norm_image = (image_float - mean) / std\n",
    "    # Para visualizar, escalar de nuevo al rango [0,1]\n",
    "    norm_image = (norm_image - norm_image.min()) / (norm_image.max() - norm_image.min())\n",
    "    return norm_image"
   ]
  },
  {
   "cell_type": "code",
   "execution_count": null,
   "id": "18",
   "metadata": {},
   "outputs": [],
   "source": [
    "z_score_norm_1 = z_score_normalization(im_gray_1)\n",
    "z_score_norm_2 = z_score_normalization(im_gray_2)"
   ]
  },
  {
   "cell_type": "code",
   "execution_count": null,
   "id": "19",
   "metadata": {},
   "outputs": [],
   "source": [
    "# Mostrar la imagen original y normalizada\n",
    "visulization(im_gray_1, z_score_norm_1)\n",
    "visulization(im_gray_2, z_score_norm_2)"
   ]
  },
  {
   "cell_type": "markdown",
   "id": "20",
   "metadata": {},
   "source": [
    "***\n",
    "\n",
    "### 3. Normalización por media (Mean normalization)\n",
    "\n",
    "Resta la media de los píxeles a cada valor de píxel."
   ]
  },
  {
   "cell_type": "markdown",
   "id": "21",
   "metadata": {},
   "source": [
    "$X_{\\text{norm}} = X - \\mu$"
   ]
  },
  {
   "cell_type": "markdown",
   "id": "22",
   "metadata": {},
   "source": [
    "donde:\n",
    "- $\\mu$ es la media de los valores de los píxeles."
   ]
  },
  {
   "cell_type": "code",
   "execution_count": null,
   "id": "23",
   "metadata": {},
   "outputs": [],
   "source": [
    "def mean_normalization(image):\n",
    "    image_float = image.astype(np.float32)\n",
    "    mean = np.mean(image_float)\n",
    "    norm_image = image_float - mean\n",
    "    # Para visualizar, escalar de nuevo al rango [0,1]\n",
    "    norm_image = (norm_image - norm_image.min()) / (norm_image.max() - norm_image.min())\n",
    "    return norm_image"
   ]
  },
  {
   "cell_type": "code",
   "execution_count": null,
   "id": "24",
   "metadata": {},
   "outputs": [],
   "source": [
    "mean_norm_1 = mean_normalization(im_gray_1)\n",
    "mean_norm_2 = mean_normalization(im_gray_2)"
   ]
  },
  {
   "cell_type": "code",
   "execution_count": null,
   "id": "25",
   "metadata": {},
   "outputs": [],
   "source": [
    "# Mostrar la imagen original y normalizada\n",
    "visulization(im_gray_1, mean_norm_1)\n",
    "visulization(im_gray_2, mean_norm_2)"
   ]
  },
  {
   "cell_type": "markdown",
   "id": "26",
   "metadata": {},
   "source": [
    "***\n",
    "\n",
    "### 4. Normalización de unidad (Unit vector normalization)\n",
    "\n",
    "Escala los valores de los píxeles para que el vector de la imagen tenga una norma (longitud) de 1."
   ]
  },
  {
   "cell_type": "markdown",
   "id": "27",
   "metadata": {},
   "source": [
    "$X_{\\text{unit}} = \\dfrac{X}{\\|X\\|}$"
   ]
  },
  {
   "cell_type": "markdown",
   "id": "28",
   "metadata": {},
   "source": [
    "donde:\n",
    "- $\\|X\\|$ es la norma del vector de la imagen.\n",
    "- $\\|X\\| = \\sqrt{\\sum_{i,j} abs(a_{i,j})^2}$"
   ]
  },
  {
   "cell_type": "code",
   "execution_count": null,
   "id": "29",
   "metadata": {},
   "outputs": [],
   "source": [
    "def unit_vector_normalization(image):\n",
    "    image_float = image.astype(np.float32)\n",
    "    norm = np.linalg.norm(image_float)\n",
    "    if norm == 0:\n",
    "        return image_float\n",
    "    norm_image = image_float / norm\n",
    "    # Para visualizar, escalar al rango [0,1]\n",
    "    norm_image = (norm_image - norm_image.min()) / (norm_image.max() - norm_image.min())\n",
    "    return norm_image"
   ]
  },
  {
   "cell_type": "code",
   "execution_count": null,
   "id": "30",
   "metadata": {},
   "outputs": [],
   "source": [
    "unit_norm_1 = unit_vector_normalization(im_gray_1)\n",
    "unit_norm_2 = unit_vector_normalization(im_gray_2)"
   ]
  },
  {
   "cell_type": "code",
   "execution_count": null,
   "id": "31",
   "metadata": {},
   "outputs": [],
   "source": [
    "# Mostrar la imagen original y normalizada\n",
    "visulization(im_gray_1, unit_norm_1)\n",
    "visulization(im_gray_2, unit_norm_2)"
   ]
  },
  {
   "cell_type": "markdown",
   "id": "32",
   "metadata": {},
   "source": [
    "***\n",
    "\n",
    "### 5. División por 255\n",
    "\n",
    "Escala los valores de los píxeles de una imagen de 8 bits (0-255) al rango [0, 1]."
   ]
  },
  {
   "cell_type": "markdown",
   "id": "33",
   "metadata": {},
   "source": [
    "$X_{\\text{scaled}} = \\dfrac{X}{255}$"
   ]
  },
  {
   "cell_type": "code",
   "execution_count": null,
   "id": "34",
   "metadata": {},
   "outputs": [],
   "source": [
    "def division_by_255(image):\n",
    "    image_float = image.astype(np.float32)\n",
    "    norm_image = image_float / 255.0\n",
    "    return norm_image"
   ]
  },
  {
   "cell_type": "code",
   "execution_count": null,
   "id": "35",
   "metadata": {},
   "outputs": [],
   "source": [
    "div_255_1 = division_by_255(im_gray_1)\n",
    "div_255_2 = division_by_255(im_gray_2)"
   ]
  },
  {
   "cell_type": "code",
   "execution_count": null,
   "id": "36",
   "metadata": {},
   "outputs": [],
   "source": [
    "# Mostrar la imagen original y normalizada\n",
    "visulization(im_gray_1, div_255_1)\n",
    "visulization(im_gray_2, div_255_2)"
   ]
  },
  {
   "cell_type": "markdown",
   "id": "37",
   "metadata": {},
   "source": [
    "***\n",
    "\n",
    "### 6. Blanqueo (whitening)\n",
    "\n",
    "Transforma los datos para que tengan una matriz de covarianza identidad, eliminando la correlación entre píxeles."
   ]
  },
  {
   "cell_type": "markdown",
   "id": "38",
   "metadata": {},
   "source": [
    "$\\text{Whitened} = X \\cdot \\left( V \\cdot \\Lambda^{-\\dfrac{1}{2}} \\cdot V^T \\right)$"
   ]
  },
  {
   "cell_type": "markdown",
   "id": "39",
   "metadata": {},
   "source": [
    "Donde:\n",
    "\n",
    "- $X$ es la matriz de datos de entrada.\n",
    "- $V$ son los vectores propios de la matriz de covarianza (eigenvector).\n",
    "- $\\Lambda$ es la matriz diagonal de valores propios."
   ]
  },
  {
   "cell_type": "code",
   "execution_count": null,
   "id": "40",
   "metadata": {},
   "outputs": [],
   "source": [
    "def zca_whitening(image, epsilon=1e-5):\n",
    "    # Convertir la imagen a formato (H*W, C)\n",
    "    h, w, c = image.shape\n",
    "    flat_image = image.reshape(-1, c).astype(np.float32)\n",
    "    \n",
    "    # Calcular la matriz de covarianza\n",
    "    covariance = np.cov(flat_image, rowvar=False)\n",
    "    \n",
    "    # Descomposición en valores y vectores propios\n",
    "    eig_vals, eig_vecs = np.linalg.eigh(covariance)\n",
    "    \n",
    "    # Filtrar valores pequeños\n",
    "    eig_vals = np.maximum(eig_vals, epsilon)\n",
    "    \n",
    "    # Matriz de whitening\n",
    "    whitening_matrix = eig_vecs @ np.diag(1.0 / np.sqrt(eig_vals)) @ eig_vecs.T\n",
    "    \n",
    "    # Aplicar whitening\n",
    "    whitened = flat_image @ whitening_matrix\n",
    "    \n",
    "    # Revertir a la forma original\n",
    "    whitened_image = whitened.reshape(h, w, c)\n",
    "    \n",
    "    # Normalizar para visualizar\n",
    "    whitened_image = (whitened_image - whitened_image.min()) / (whitened_image.max() - whitened_image.min())\n",
    "    \n",
    "    return whitened_image"
   ]
  },
  {
   "cell_type": "code",
   "execution_count": null,
   "id": "41",
   "metadata": {},
   "outputs": [],
   "source": [
    "zca_white_1 = zca_whitening(im_gray_1)\n",
    "zca_white_2 = zca_whitening(im_gray_2)"
   ]
  },
  {
   "cell_type": "code",
   "execution_count": null,
   "id": "42",
   "metadata": {},
   "outputs": [],
   "source": [
    "# Mostrar la imagen original y normalizada\n",
    "visulization(im_gray_1, zca_white_1)\n",
    "visulization(im_gray_2, zca_white_2)"
   ]
  },
  {
   "cell_type": "markdown",
   "id": "43",
   "metadata": {},
   "source": [
    "***\n",
    "\n",
    "### 7. Normalización de contraste local (local contrast normalization)\n",
    "\n",
    "Normaliza cada píxel basándose en el contraste local alrededor de él."
   ]
  },
  {
   "cell_type": "markdown",
   "id": "44",
   "metadata": {},
   "source": [
    "$X_{\\text{norm}}(i,j) = \\dfrac{X(i,j) - \\mu_{\\text{local}}}{\\sigma_{\\text{local}} + \\epsilon}$"
   ]
  },
  {
   "cell_type": "markdown",
   "id": "45",
   "metadata": {},
   "source": [
    "Donde:\n",
    "\n",
    "- $\\mu_{\\text{local}}$ es la media local alrededor del píxel $(i,j)$.\n",
    "- $\\sigma_{\\text{local}}$ es la desviación estándar local alrededor del píxel $(i,j)$.\n",
    "- $\\epsilon$ es un pequeño valor para evitar divisiones por cero."
   ]
  },
  {
   "cell_type": "code",
   "execution_count": null,
   "id": "46",
   "metadata": {},
   "outputs": [],
   "source": [
    "def local_contrast_normalization(image, kernel_size=15, epsilon=1e-8):\n",
    "    image_float = image.astype(np.float32)\n",
    "    # Convertir a escala de grises para calcular local mean y std\n",
    "    gray = cv2.cvtColor(image_float, cv2.COLOR_RGB2GRAY)\n",
    "    \n",
    "    # Calcular media local\n",
    "    local_mean = cv2.blur(gray, (kernel_size, kernel_size))\n",
    "    \n",
    "    # Calcular media de cuadrados\n",
    "    local_mean_sq = cv2.blur(gray**2, (kernel_size, kernel_size))\n",
    "    \n",
    "    # Calcular varianza local\n",
    "    local_var = local_mean_sq - local_mean**2\n",
    "    local_std = np.sqrt(local_var + epsilon)\n",
    "    \n",
    "    # Expandir dimensiones para aplicar a los tres canales\n",
    "    local_mean = cv2.blur(image_float, (kernel_size, kernel_size))\n",
    "    local_std = cv2.blur(image_float**2, (kernel_size, kernel_size))\n",
    "    local_std = np.sqrt(local_std - (local_mean**2) + epsilon)\n",
    "    \n",
    "    # Normalizar\n",
    "    norm_image = (image_float - local_mean) / local_std\n",
    "    \n",
    "    # Normalizar para visualizar\n",
    "    norm_image = (norm_image - norm_image.min()) / (norm_image.max() - norm_image.min())\n",
    "    \n",
    "    return norm_image"
   ]
  },
  {
   "cell_type": "code",
   "execution_count": null,
   "id": "47",
   "metadata": {},
   "outputs": [],
   "source": [
    "local_contrast_norm_1 = local_contrast_normalization(im_gray_1)\n",
    "local_contrast_norm_2 = local_contrast_normalization(im_gray_2)"
   ]
  },
  {
   "cell_type": "code",
   "execution_count": null,
   "id": "48",
   "metadata": {},
   "outputs": [],
   "source": [
    "# Mostrar la imagen original y normalizada\n",
    "visulization(im_gray_1, local_contrast_norm_1)\n",
    "visulization(im_gray_2, local_contrast_norm_2)"
   ]
  },
  {
   "cell_type": "markdown",
   "id": "49",
   "metadata": {},
   "source": [
    "***\n",
    "\n",
    "### 8. Normalización robusta (Robust scaling)\n",
    "\n",
    "Escala los datos utilizando estadísticos robustos como la mediana y el rango intercuartílico (IQR)."
   ]
  },
  {
   "cell_type": "markdown",
   "id": "50",
   "metadata": {},
   "source": [
    "$X_{\\text{robust}} = \\dfrac{X - \\text{Mediana}}{\\text{IQR}}$"
   ]
  },
  {
   "cell_type": "markdown",
   "id": "51",
   "metadata": {},
   "source": [
    "donde:\n",
    "- Mediana es el valor central de los píxeles.\n",
    "- IQR es el rango intercuartílico $(Q3 - Q1)$."
   ]
  },
  {
   "cell_type": "code",
   "execution_count": null,
   "id": "52",
   "metadata": {},
   "outputs": [],
   "source": [
    "def robust_scaling(image):\n",
    "    image_float = image.astype(np.float32)\n",
    "    # Calcular mediana y percentiles\n",
    "    median = np.median(image_float, axis=(0,1), keepdims=True)\n",
    "    q75, q25 = np.percentile(image_float, [75 ,25], axis=(0,1), keepdims=True)\n",
    "    iqr = q75 - q25\n",
    "    # Evitar división por cero\n",
    "    iqr[iqr == 0] = 1\n",
    "    norm_image = (image_float - median) / iqr\n",
    "    # Normalizar para visualizar\n",
    "    norm_image = (norm_image - norm_image.min()) / (norm_image.max() - norm_image.min())\n",
    "    return norm_image"
   ]
  },
  {
   "cell_type": "code",
   "execution_count": null,
   "id": "53",
   "metadata": {},
   "outputs": [],
   "source": [
    "robust_norm_1 = robust_scaling(im_gray_1)\n",
    "robust_norm_2 = robust_scaling(im_gray_2)"
   ]
  },
  {
   "cell_type": "code",
   "execution_count": null,
   "id": "54",
   "metadata": {},
   "outputs": [],
   "source": [
    "# Mostrar la imagen original y normalizada\n",
    "visulization(im_gray_1, robust_norm_1)\n",
    "visulization(im_gray_2, robust_norm_2)"
   ]
  },
  {
   "cell_type": "markdown",
   "id": "55",
   "metadata": {},
   "source": [
    "***\n",
    "\n",
    "### 9. Transformación logarítmica\n",
    "\n",
    "Aplica una función logarítmica a los valores de los píxeles para reducir la variabilidad y comprimir el rango dinámico."
   ]
  },
  {
   "cell_type": "markdown",
   "id": "56",
   "metadata": {},
   "source": [
    "$X_{\\text{log}} = \\log(1 + X)$"
   ]
  },
  {
   "cell_type": "code",
   "execution_count": null,
   "id": "57",
   "metadata": {},
   "outputs": [],
   "source": [
    "def log_transformation(image):\n",
    "    image_float = image.astype(np.float32)\n",
    "    # Añadir 1 para evitar log(0)\n",
    "    log_image = np.log1p(image_float)\n",
    "    # Normalizar para visualizar\n",
    "    log_image = (log_image - log_image.min()) / (log_image.max() - log_image.min())\n",
    "    return log_image"
   ]
  },
  {
   "cell_type": "code",
   "execution_count": null,
   "id": "58",
   "metadata": {},
   "outputs": [],
   "source": [
    "log_norm_1 = log_transformation(im_gray_1)\n",
    "log_norm_2 = log_transformation(im_gray_2)"
   ]
  },
  {
   "cell_type": "code",
   "execution_count": null,
   "id": "59",
   "metadata": {},
   "outputs": [],
   "source": [
    "# Mostrar la imagen original y normalizada\n",
    "visulization(im_gray_1, log_norm_1)\n",
    "visulization(im_gray_2, log_norm_2)"
   ]
  },
  {
   "cell_type": "markdown",
   "id": "60",
   "metadata": {},
   "source": [
    "***\n",
    "\n",
    "### 10. Transformación de potencia (power transformation)\n",
    "\n",
    "Aplica funciones como la raíz cuadrada o cúbica para estabilizar la varianza y hacer que los datos se asemejen más a una distribución normal."
   ]
  },
  {
   "cell_type": "markdown",
   "id": "61",
   "metadata": {},
   "source": [
    "$X_{\\text{trans}} = X^{\\gamma}$"
   ]
  },
  {
   "cell_type": "markdown",
   "id": "62",
   "metadata": {},
   "source": [
    "donde:\n",
    "\n",
    "- Raíz Cuadrada: $\\gamma = 0.5$\n",
    "- Raíz Cúbica: $\\gamma = 1/3$"
   ]
  },
  {
   "cell_type": "code",
   "execution_count": null,
   "id": "63",
   "metadata": {},
   "outputs": [],
   "source": [
    "def power_transformation(image, power=0.5):\n",
    "    image_float = image.astype(np.float32)\n",
    "    # Aplicar la transformación de potencia\n",
    "    transformed = np.power(image_float, power)\n",
    "    # Normalizar para visualizar\n",
    "    transformed = (transformed - transformed.min()) / (transformed.max() - transformed.min())\n",
    "    return transformed"
   ]
  },
  {
   "cell_type": "code",
   "execution_count": null,
   "id": "64",
   "metadata": {},
   "outputs": [],
   "source": [
    "# Raíz Cuadrada\n",
    "sqrt_norm_1_05 = power_transformation(im_gray_1, power=0.5)\n",
    "\n",
    "# Raíz Cúbica\n",
    "cbrt_norm_1_3 = power_transformation(im_gray_1, power=1/3)"
   ]
  },
  {
   "cell_type": "code",
   "execution_count": null,
   "id": "65",
   "metadata": {},
   "outputs": [],
   "source": [
    "# Mostrar la imagen original y normalizada\n",
    "visulization(im_gray_1, sqrt_norm_1_05)\n",
    "visulization(im_gray_1, cbrt_norm_1_3)"
   ]
  },
  {
   "cell_type": "markdown",
   "id": "66",
   "metadata": {},
   "source": [
    "***\n",
    "\n",
    "Cada método tiene sus propias ventajas y se utiliza según las necesidades específicas del proyecto de visión por computadora. La normalización adecuada de los píxeles es fundamental para mejorar el rendimiento y la estabilidad de los modelos de aprendizaje automático."
   ]
  }
 ],
 "metadata": {
  "kernelspec": {
   "display_name": "venv",
   "language": "python",
   "name": "python3"
  },
  "language_info": {
   "codemirror_mode": {
    "name": "ipython",
    "version": 3
   },
   "file_extension": ".py",
   "mimetype": "text/x-python",
   "name": "python",
   "nbconvert_exporter": "python",
   "pygments_lexer": "ipython3",
   "version": "3.12.1"
  }
 },
 "nbformat": 4,
 "nbformat_minor": 5
}
