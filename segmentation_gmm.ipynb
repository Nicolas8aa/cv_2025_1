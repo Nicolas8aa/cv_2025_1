{
 "cells": [
  {
   "cell_type": "markdown",
   "id": "91eafd30-f7d8-4f0e-960b-866f07205e53",
   "metadata": {},
   "source": [
    "# Práctica. Segmentación de imagenes (caso binario)\n",
    "\n",
    "<div class=\"alert alert-block alert-success\">\n",
    "<b>Resumen:</b> Gaussian Mixture Model Explained.\n",
    "</div>"
   ]
  },
  {
   "cell_type": "markdown",
   "id": "ec8e0bc4-5885-4429-8e60-82996ac80894",
   "metadata": {},
   "source": [
    "***\n",
    "\n",
    "## Instalando librerias de Machine Learning \n",
    "\n",
    "Instrucciones para instalar <b>scikit-learn</b> en un entorno virtual de Anaconda llamado <b>cv2</b>, desde la consola:\n",
    "\n",
    "- Abrir la Consola de Anaconda.\n",
    "- Activar el Entorno Virtual cv2.\n",
    "    - conda activate cv2\n",
    "- Instalar scikit-learn:\n",
    "    - conda install scikit-learn\n",
    "- Confirmar la Instalación: Anaconda te mostrará una lista de paquetes que se instalarán o actualizarán. Escribe [y] y presiona Enter para confirmar.\n",
    "- Verificar la Instalación: Una vez completada la instalación, puedes verificar que scikit-learn se instaló correctamente ejecutando Python en la consola e importando la librería:\n",
    "    - python\n",
    "- En el intérprete de Python, escribe:\n",
    "    - import sklearn\n",
    "    - print(sklearn.`__version__`)\n",
    "- Esto debería mostrar la versión instalada de scikit-learn, confirmando que la instalación fue exitosa."
   ]
  },
  {
   "cell_type": "markdown",
   "id": "570dcbf0-2a21-4021-bf0b-a3558850f4b6",
   "metadata": {},
   "source": [
    "***"
   ]
  },
  {
   "cell_type": "code",
   "execution_count": null,
   "id": "8d309040-3b29-4ca8-a6f7-c3f80357c0ab",
   "metadata": {},
   "outputs": [],
   "source": [
    "import cv2\n",
    "import numpy as np\n",
    "from sklearn.mixture import GaussianMixture\n",
    "import matplotlib.pyplot as plt\n",
    "from scipy.stats import norm"
   ]
  },
  {
   "cell_type": "markdown",
   "id": "e4af02a0-a101-4f25-8d94-afcc8cf071ae",
   "metadata": {},
   "source": [
    "***"
   ]
  },
  {
   "cell_type": "markdown",
   "id": "bad3caab-e9d5-4238-88b1-5c15ff8e2663",
   "metadata": {},
   "source": [
    "## 1. Gaussian Mixture Model \n",
    "\n",
    "El <b>Modelo de Mezcla Gaussiana</b> (<b>GMM</b>, por sus siglas en inglés) es un enfoque estadístico que representa la distribución de datos como una combinación de múltiples distribuciones gaussianas (normales). Cada componente gaussiano en el modelo representa una subpoblación o cluster dentro de los datos.\n",
    "\n",
    "El objetivo principal del GMM es estimar los parámetros (medias, covarianzas y pesos) de estas distribuciones gaussianas que, al combinarse, modelan adecuadamente la distribución global de los datos.\n",
    "\n",
    "El algoritmo típico para ajustar un GMM a un conjunto de datos es el Algoritmo de Expectación-Maximización (EM), que funciona de la siguiente manera:\n",
    "\n",
    "- <b>Inicialización</b>: Se asignan valores iniciales a los parámetros de los componentes gaussianos:\n",
    "    - Medias: Valores centrales de cada componente.\n",
    "    - Covarianzas: Dispersión o forma de cada componente.\n",
    "    - Pesos: Importancia relativa de cada componente en la mezcla.\n",
    "- <b>Paso de Expectación</b> (E):\n",
    "    - Se calcula la probabilidad posterior de que cada dato pertenezca a cada componente gaussiano, dadas las estimaciones actuales de los parámetros.\n",
    "    - Esto implica calcular las responsabilidades, que indican qué tan probable es que un dato haya sido generado por un componente específico.\n",
    "- <b>Paso de Maximización</b> (M):\n",
    "    - Se actualizan los parámetros de los componentes gaussianos utilizando las responsabilidades calculadas en el paso E.\n",
    "    - Las nuevas estimaciones de medias, covarianzas y pesos se calculan para maximizar la verosimilitud de los datos dados los parámetros actuales.\n",
    "- <b>Convergencia</b>:\n",
    "    - Se repiten los pasos E y M iterativamente hasta que los cambios en los parámetros sean menores que un umbral predefinido o se alcance un número máximo de iteraciones.\n",
    "    - El criterio de convergencia suele basarse en la variación de la verosimilitud o en la estabilidad de los parámetros."
   ]
  },
  {
   "cell_type": "markdown",
   "id": "48b8599e-3841-425c-a766-d3c3e7c08aa7",
   "metadata": {},
   "source": [
    "<b>Ventajas del GMM:</b>\n",
    "\n",
    "- Flexibilidad: Puede modelar distribuciones de datos complejas y multimodales.\n",
    "- Probabilidades suaves (soft): Proporciona probabilidades de pertenencia, lo que permite una asignación de clusters no estricta.\n",
    "- Uso: Útil en diversas áreas como segmentación de imágenes, reconocimiento de patrones y agrupamiento."
   ]
  },
  {
   "cell_type": "markdown",
   "id": "87b59a58-8570-449e-8e41-c1f354a0a841",
   "metadata": {},
   "source": [
    "<b> Limitaciones del GMM:</b>\n",
    "\n",
    "- Sensibilidad a la inicialización: Los resultados pueden depender de los valores iniciales de los parámetros.\n",
    "- Óptimos locales: El algoritmo EM puede converger a soluciones subóptimas.\n",
    "- Selección del número de componentes: Determinar el número adecuado de gaussianas es dificil y suele requerir criterios adicionales como BIC o AIC.\n",
    "\n",
    "En resumen, el GMM es una herramienta potente para modelar datos que provienen de múltiples fuentes gaussianas, permitiendo una representación más precisa de la estructura subyacente de los datos y facilitando tareas de clasificación y análisis."
   ]
  },
  {
   "cell_type": "markdown",
   "id": "0a5fe6b7-56ca-46cc-a118-3960c2b67463",
   "metadata": {},
   "source": [
    "***"
   ]
  },
  {
   "cell_type": "markdown",
   "id": "91467e32-1e15-4b1d-b2e5-c8cf7c5351d6",
   "metadata": {},
   "source": [
    "## 2. Función para calcular GMM a partir de un histograma\n",
    "\n",
    "Calcula un GMM a partir de un histograma, regresando las media, desviación estándar y peso, de cada modelo.\n",
    "\n",
    "Parámetros:\n",
    "\n",
    "- histogram (numpy.ndarray): Histograma 1D de la imagen.\n",
    "- n_components (int): Número de componentes gaussianos a ajustar.\n",
    "\n",
    "Regresa:\n",
    "- means (numpy.ndarray): Medias de los componentes gaussianos.\n",
    "- std_devs (numpy.ndarray): Desviaciones estándar de los componentes gaussianos.\n",
    "- weights (numpy.ndarray): Pesos de los componentes gaussianos."
   ]
  },
  {
   "cell_type": "code",
   "execution_count": null,
   "id": "911d8c68-5bbd-455b-9cfd-bbac1d8f8a5e",
   "metadata": {},
   "outputs": [],
   "source": [
    "def gmm_from_histogram(histograma, n_componentes):\n",
    "    # Asegurarse de que el histograma es un arreglo 1D\n",
    "    histograma = histograma.flatten()\n",
    "    \n",
    "    # Crear un arreglo de valores de intensidad (0 a 255)\n",
    "    bins = np.arange(len(histograma))\n",
    "\n",
    "    # Expandir el histograma en datos repetidos según la cuenta de cada bin\n",
    "    datos = np.repeat(bins, histograma.astype(int))\n",
    "\n",
    "    # Reestructurar los datos para que sean compatibles con scikit-learn\n",
    "    datos = datos.reshape(-1, 1)\n",
    "\n",
    "    # Verificar si hay datos suficientes para ajustar el GMM\n",
    "    if len(datos) < n_componentes:\n",
    "        raise ValueError(\"No hay suficientes datos para el número de componentes especificado.\")\n",
    "\n",
    "    # Ajustar el Modelo de Mezcla Gaussiana\n",
    "    gmm = GaussianMixture(n_components=n_componentes, covariance_type='diag', random_state=0)\n",
    "    gmm.fit(datos)\n",
    "\n",
    "    # Obtener las medias y desviaciones estándar\n",
    "    means = gmm.means_.flatten()\n",
    "    std_devs  = np.sqrt(gmm.covariances_.flatten())\n",
    "    weights = gmm.weights_.flatten()\n",
    "\n",
    "    return means, std_devs, weights"
   ]
  },
  {
   "cell_type": "markdown",
   "id": "ea5b7a8e-6359-42b5-8309-99f2071d5762",
   "metadata": {},
   "source": [
    "***\n",
    "\n",
    "## 2. Calculo de histogramas y de sus respectivos modelos Gaussianos "
   ]
  },
  {
   "cell_type": "code",
   "execution_count": null,
   "id": "2073689b-a1cb-41b2-83e2-92d441f1f875",
   "metadata": {},
   "outputs": [],
   "source": [
    "# Leer la imagen en color\n",
    "imagen = cv2.imread('./images/coins.png')\n",
    "#imagen = cv2.GaussianBlur(imagen, (5, 5), 0) #comparar sin/con filtro\n",
    "\n",
    "# Verificar que la imagen fue cargada correctamente\n",
    "if imagen is None:\n",
    "    print(\"Error: No se pudo cargar la imagen.\")\n",
    "    exit()"
   ]
  },
  {
   "cell_type": "code",
   "execution_count": null,
   "id": "409dbb55-760e-4fde-b474-282badc4f2b6",
   "metadata": {},
   "outputs": [],
   "source": [
    "plt.figure(figsize=(6, 6))  # Tamaño en pulgadas (ancho, alto)\n",
    "plt.imshow(imagen, cmap='gray')\n",
    "plt.title(\"Imagen 1\")\n",
    "plt.axis('off')  # Elimina los ejes\n",
    "plt.show()"
   ]
  },
  {
   "cell_type": "markdown",
   "id": "53062511-c6e0-459a-81b0-4d4710bae8cb",
   "metadata": {},
   "source": [
    "### 2.1 Histrograma"
   ]
  },
  {
   "cell_type": "code",
   "execution_count": null,
   "id": "ccb91c55-f731-406c-bc27-25264a9f803c",
   "metadata": {},
   "outputs": [],
   "source": [
    "def calcular_histograma(imagen, canal):\n",
    "    \"\"\"\n",
    "    Calcula y grafica el histograma del canal especificado en la imagen.\n",
    "\n",
    "    Parámetros:\n",
    "    - imagen: ndarray, imagen cargada con cv2.imread().\n",
    "    - canal: str, uno de 'gray', 'b', 'g', 'r'.\n",
    "\n",
    "    Retorna:\n",
    "    - hist: ndarray, histograma del canal seleccionado.\n",
    "    \"\"\"\n",
    "    # Diccionario de índices para los canales\n",
    "    canales_dict = {'b': 0, 'g': 1, 'r': 2, 'gray': 0}\n",
    "\n",
    "    # Verificar número de canales en la imagen\n",
    "    num_canales = 1 if len(imagen.shape) == 2 else imagen.shape[2]\n",
    "\n",
    "    # Verificar validez del canal\n",
    "    if canal == 'gray' and num_canales > 1:\n",
    "        hist = cv2.calcHist([imagen], [0], None, [256], [0, 256])\n",
    "    elif canal in ('b', 'g', 'r') and num_canales == 3:\n",
    "        idx = canales_dict[canal]\n",
    "        hist = cv2.calcHist([imagen], [idx], None, [256], [0, 256])\n",
    "    else:\n",
    "        raise ValueError(\"Canal no válido para esta imagen.\")\n",
    "\n",
    "    return hist"
   ]
  },
  {
   "cell_type": "code",
   "execution_count": null,
   "id": "b3f43249-de6b-4f7c-8c52-7fd55fbffd03",
   "metadata": {},
   "outputs": [],
   "source": [
    "canal = 'gray'\n",
    "histograma = calcular_histograma(imagen, canal)"
   ]
  },
  {
   "cell_type": "code",
   "execution_count": null,
   "id": "9575e6ec-6da0-4221-ba4e-0a9e3cd6c492",
   "metadata": {},
   "outputs": [],
   "source": [
    "# Graficar\n",
    "plt.plot(histograma, color=canal)\n",
    "plt.title(f\"Histograma del canal '{canal}'\")\n",
    "plt.xlabel('Intensidad de píxeles')\n",
    "plt.ylabel('Número de píxeles')\n",
    "plt.xlim([0, 256])\n",
    "plt.show()"
   ]
  },
  {
   "cell_type": "markdown",
   "id": "cff92f4e-cf44-4b9f-a361-5db693cc6baa",
   "metadata": {},
   "source": [
    "## 2.2. GMM"
   ]
  },
  {
   "cell_type": "code",
   "execution_count": null,
   "id": "11f2479f-f140-49f5-917a-f8de89a5ea6a",
   "metadata": {},
   "outputs": [],
   "source": [
    "numero_distribuciones = 2\n",
    "\n",
    "means, std_devs, weights  = gmm_from_histogram(histograma, numero_distribuciones)\n",
    "\n",
    "print(means)\n",
    "print(std_devs)\n",
    "print(weights)"
   ]
  },
  {
   "cell_type": "markdown",
   "id": "74c12c89-7db6-4b74-91de-d2e3142b9a8a",
   "metadata": {},
   "source": [
    "***\n",
    "\n",
    "## 2.3. Función para visualizar de los modelos\n",
    "\n",
    "Grafica modelos gaussianos dados las medias, desviaciones estándar y pesos opcionales sobre un rango especificado.\n",
    "\n",
    "Parámetros:\n",
    "\n",
    "- means (array-like): Medias de los componentes gaussianos.\n",
    "- std_devs (array-like): Desviaciones estándar de los componentes gaussianos.\n",
    "- weights (array-like, opcional): Pesos de los componentes gaussianos. Si es None, asume pesos iguales.\n",
    "- x_range (tuple, opcional): El rango (mínimo, máximo) sobre el cual graficar las gaussianas.\n",
    "- num_points (int, opcional): Número de puntos en el eje x para graficar.\n",
    "\n",
    "Retorna:\n",
    "- None"
   ]
  },
  {
   "cell_type": "code",
   "execution_count": null,
   "id": "c020d99e-7821-41c4-88f3-809d5c8d257f",
   "metadata": {},
   "outputs": [],
   "source": [
    "def plot_gaussian_models(means, std_devs, weights=None, x_range=(0, 255), num_points=1000):\n",
    "    x = np.linspace(x_range[0], x_range[1], num_points)\n",
    "    total_pdf = np.zeros_like(x)\n",
    "\n",
    "    # If weights are not provided, assume equal weights\n",
    "    if weights is None:\n",
    "        weights = np.ones(len(means)) / len(means)\n",
    "\n",
    "    # Plot each Gaussian component\n",
    "    for mean, std_dev, weight in zip(means, std_devs, weights):\n",
    "        pdf = weight * norm.pdf(x, mean, std_dev)\n",
    "        plt.plot(x, pdf, label=f'Gaussian(mean={mean:.2f}, std={std_dev:.2f})')\n",
    "        total_pdf += pdf\n",
    "\n",
    "    # Plot the sum of the Gaussian components\n",
    "    plt.plot(x, total_pdf, label='Sum of Gaussians', color='black', linewidth=1)\n",
    "\n",
    "    plt.legend()\n",
    "    plt.xlabel('Intensity')\n",
    "    plt.ylabel('Probability Density')\n",
    "    plt.title('Gaussian Models')\n",
    "    plt.show()"
   ]
  },
  {
   "cell_type": "code",
   "execution_count": null,
   "id": "e0f54cfe-a521-4836-80d1-88e5ae9f4541",
   "metadata": {},
   "outputs": [],
   "source": [
    "# Plot the Gaussian models\n",
    "plot_gaussian_models(means, std_devs, weights, x_range=(0, 255))"
   ]
  },
  {
   "cell_type": "markdown",
   "id": "14258e21-bbfb-40a9-bfdf-d841cb58de59",
   "metadata": {},
   "source": [
    "## 2. Segmentación por GMM"
   ]
  },
  {
   "cell_type": "code",
   "execution_count": null,
   "id": "dbbf6d61-deeb-45ba-8730-4b1ba1f9000a",
   "metadata": {},
   "outputs": [],
   "source": [
    "def segmentar_gm(imagen, mu, sigma, multiplicador_sigma=1.0):\n",
    "    \"\"\"\n",
    "    Segmenta una imagen en escala de grises dejando en blanco los píxeles cuya\n",
    "    intensidad esté dentro del rango [mu - k*sigma, mu + k*sigma].\n",
    "\n",
    "    Parámetros:\n",
    "    - imagen: ndarray, imagen en escala de grises.\n",
    "    - mu: float, valor medio (media) de la intensidad.\n",
    "    - sigma: float, desviación estándar.\n",
    "    - multiplicador_sigma: float, número de desviaciones estándar a considerar (default=1.0).\n",
    "\n",
    "    Retorna:\n",
    "    - imagen_segmentada: ndarray, imagen binaria con píxeles blancos dentro del rango.\n",
    "    \"\"\"\n",
    "    if len(imagen.shape) != 2:\n",
    "        raise ValueError(\"La imagen debe estar en escala de grises (2D)\")\n",
    "\n",
    "    # Calcular límites\n",
    "    rango_inferior = mu - multiplicador_sigma * sigma\n",
    "    rango_superior = mu + multiplicador_sigma * sigma\n",
    "\n",
    "    # Crear máscara\n",
    "    mascara = cv2.inRange(imagen, int(rango_inferior), int(rango_superior))\n",
    "\n",
    "    # Crear imagen segmentada\n",
    "    imagen_segmentada = np.zeros_like(imagen)\n",
    "    imagen_segmentada[mascara > 0] = 255\n",
    "\n",
    "    return imagen_segmentada"
   ]
  },
  {
   "cell_type": "code",
   "execution_count": null,
   "id": "4c52d6cf-3a88-406c-8181-8b8b4b7608d7",
   "metadata": {},
   "outputs": [],
   "source": [
    "mask = segmentar_gm(imagen[:, :, 0], means[0], std_devs[0])"
   ]
  },
  {
   "cell_type": "code",
   "execution_count": null,
   "id": "578ed442-2824-4aad-b07b-1d85b9fe1c42",
   "metadata": {},
   "outputs": [],
   "source": [
    "plt.figure(figsize=(6, 6))  # Tamaño en pulgadas (ancho, alto)\n",
    "plt.imshow(mask, cmap='gray')\n",
    "plt.title(\"Imagen 1\")\n",
    "plt.axis('off')  # Elimina los ejes\n",
    "plt.show()"
   ]
  }
 ],
 "metadata": {
  "kernelspec": {
   "display_name": "cv2-kernel",
   "language": "python",
   "name": "cv2-kernel"
  },
  "language_info": {
   "codemirror_mode": {
    "name": "ipython",
    "version": 3
   },
   "file_extension": ".py",
   "mimetype": "text/x-python",
   "name": "python",
   "nbconvert_exporter": "python",
   "pygments_lexer": "ipython3",
   "version": "3.8.18"
  }
 },
 "nbformat": 4,
 "nbformat_minor": 5
}
