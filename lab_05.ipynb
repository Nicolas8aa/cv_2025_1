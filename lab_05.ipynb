{
 "cells": [
  {
   "cell_type": "markdown",
   "id": "0",
   "metadata": {},
   "source": [
    "# Práctica 5. Operaciones con máscaras binarias\n",
    "\n",
    "<div class=\"alert alert-block alert-success\">\n",
    "<b>Resumen:</b> Este notebook explora técnicas básicas de manipulación y procesamiento de imágenes utilizando Python y OpenCV. Inicia con la lectura de una imagen en escala de grises y procede a realizar una segmentación mediante umbrales, generando una máscara binaria. A través de esta máscara, se aplican operaciones como enmascaramiento lógico y aritmético, lo que permite modificar selectivamente la imagen en función de regiones específicas. Estas operaciones son fundamentales en el campo de la visión por computadora, donde la capacidad de aislar y destacar elementos de una imagen tiene aplicaciones críticas en reconocimiento de patrones, análisis de objetos y procesamiento automatizado de imágenes. El enfoque en la manipulación mediante máscaras resalta la importancia de las técnicas de segmentación en tareas como la detección de bordes, la identificación de objetos y el preprocesamiento para algoritmos de aprendizaje automático.\n",
    "</div>"
   ]
  },
  {
   "cell_type": "markdown",
   "id": "1",
   "metadata": {},
   "source": [
    "***\n",
    "Instrucciones utilizadas:\n",
    "\n",
    "- `cv2.imread()`: Lectura de imágenes en diferentes formatos.\n",
    "- `plt.imshow()`: Visualización de datos de imagen en una representación gráfica.\n",
    "- `plt.figure()`: Configuración avanzada de gráficos, permitiendo el control de la disposición visual.\n",
    "- `plt.subplot()`: Creación de diseños de gráficos múltiples, facilitando comparaciones visuales.\n",
    "- `np.uint8()`: Conversión de tipos de datos, esencial para operaciones eficientes en imágenes.\n",
    "- `im_gray.copy()`: Clonación de datos de imagen para preservación y manipulación simultánea.\n",
    "- `* (multiplicación)`: Operación fundamental en el ajuste de imágenes, utilizada aquí para aplicar máscaras.\n",
    "- `im_bw.astype()`: Conversión de booleanos a enteros para operaciones de enmascaramiento."
   ]
  },
  {
   "cell_type": "markdown",
   "id": "2",
   "metadata": {},
   "source": [
    "Temas relacionados:\n",
    "\n",
    "- <b>Procesamiento de imágenes en OpenCV:</b> Técnicas clave para la manipulación de imágenes en entornos de producción.\n",
    "- <b>Máscaras binarias:</b> Herramienta esencial en la segmentación y en la preparación de imágenes para análisis más profundos.\n",
    "- <b>Visualización de imágenes en Matplotlib:</b> Métodos para la presentación efectiva de datos visuales.\n",
    "- <b>Operaciones aritméticas en imágenes:</b> Fundamentos de la manipulación directa de datos visuales.\n",
    "- <b>Tipos de datos en imágenes:</b> Comprensión de las representaciones de datos y su impacto en el procesamiento y la eficiencia.\n",
    "***"
   ]
  },
  {
   "cell_type": "code",
   "execution_count": null,
   "id": "3",
   "metadata": {},
   "outputs": [],
   "source": [
    "import cv2\n",
    "import numpy as np\n",
    "import matplotlib.pyplot as plt"
   ]
  },
  {
   "cell_type": "markdown",
   "id": "4",
   "metadata": {},
   "source": [
    "## 1. Lectura de la imagen\n",
    "\n",
    "Lectura y visualización de la imagen de prueba"
   ]
  },
  {
   "cell_type": "code",
   "execution_count": null,
   "id": "5",
   "metadata": {},
   "outputs": [],
   "source": [
    "im_gray = cv2.imread('./images/coins.png', cv2.IMREAD_GRAYSCALE)\n",
    "\n",
    "# Mostrar imagen\n",
    "plt.figure(figsize=(3,3))\n",
    "plt.imshow(im_gray, cmap='gray')\n",
    "plt.title('Imagen en escala de gris')\n",
    "plt.axis('off')\n",
    "plt.show()"
   ]
  },
  {
   "cell_type": "markdown",
   "id": "6",
   "metadata": {},
   "source": [
    "## 2. Segmentación por umbral\n",
    "\n",
    "<b>Actividad:</b> identifique los mejores valores que segmentan las monedas."
   ]
  },
  {
   "cell_type": "code",
   "execution_count": null,
   "id": "7",
   "metadata": {},
   "outputs": [],
   "source": [
    "umbral_sup = 90\n",
    "umbral_inf = 30\n",
    "im_bw = (umbral_inf < im_gray) & (im_gray < umbral_sup)\n",
    "\n",
    "# máscara\n",
    "print(\"\\nAtributos de la máscara (im_bw): \", im_bw.shape, im_bw.dtype, \"\\n\")\n",
    "\n",
    "# Mostrar imagen\n",
    "plt.figure(figsize=(3,3))\n",
    "plt.imshow(im_bw, cmap='gray')\n",
    "plt.title('Imagen segmentada por umbral')\n",
    "plt.axis('off')\n",
    "plt.show()"
   ]
  },
  {
   "cell_type": "markdown",
   "id": "8",
   "metadata": {},
   "source": [
    "### 2.1 Visualización de las imágenes\n",
    "\n",
    "Visualización de las imágenes con un subplot"
   ]
  },
  {
   "cell_type": "code",
   "execution_count": null,
   "id": "9",
   "metadata": {},
   "outputs": [],
   "source": [
    "# plot 1\n",
    "plt.figure(figsize=(6,6))\n",
    "plt.subplot(1,2,1)\n",
    "plt.imshow(im_gray, cmap='gray')\n",
    "plt.title('Imagen Segmentada')\n",
    "plt.axis('off')\n",
    "\n",
    "# plot 2\n",
    "plt.subplot(1,2,2)\n",
    "plt.imshow(im_bw, cmap='gray')\n",
    "plt.title('Imagen Original')\n",
    "plt.axis('off')\n",
    "\n",
    "# muestra las dos imágenes\n",
    "plt.show()"
   ]
  },
  {
   "cell_type": "markdown",
   "id": "10",
   "metadata": {},
   "source": [
    "## 3. Operación de masking (máscaras binarias)\n",
    "### 3.1 Operaciones lógicas\n",
    "\n",
    "Operaciones lógicas sobre la máscara"
   ]
  },
  {
   "cell_type": "code",
   "execution_count": null,
   "id": "11",
   "metadata": {},
   "outputs": [],
   "source": [
    "# máscara inicial\n",
    "plt.figure(figsize=(6,6))\n",
    "plt.subplot(1,2,1)\n",
    "plt.imshow(im_bw, cmap='gray')\n",
    "plt.title('Máscara binaria')\n",
    "plt.axis('off')\n",
    "\n",
    "# máscara inicial negada\n",
    "plt.subplot(1,2,2)\n",
    "plt.imshow(~im_bw, cmap='gray')\n",
    "plt.title('Negación de la máscara')\n",
    "plt.axis('off')\n",
    "plt.show()"
   ]
  },
  {
   "cell_type": "markdown",
   "id": "12",
   "metadata": {},
   "source": [
    "### 3.2 Indexado mediante máscaras binarias\n",
    "\n",
    "Indexado mediante máscaras binarias"
   ]
  },
  {
   "cell_type": "code",
   "execution_count": null,
   "id": "13",
   "metadata": {},
   "outputs": [],
   "source": [
    "im_gray_mask_1 = im_gray.copy() # copia de la imagen original\n",
    "im_gray_mask_1[im_bw == 0] = 255\n",
    "\n",
    "# mostrar imagen\n",
    "plt.figure(figsize=(3,3))\n",
    "plt.imshow(im_gray_mask_1, cmap='gray')\n",
    "plt.title('Imagen indexada con una máscara binaria')\n",
    "plt.axis('off')\n",
    "plt.show()"
   ]
  },
  {
   "cell_type": "markdown",
   "id": "14",
   "metadata": {},
   "source": [
    "### 3.3 Operaciones aritméticas con máscaras\n",
    "\n",
    "El comando `im_gray_mask_2 = im_gray * im_bw.astype(np.uint8)` realiza una operación de enmascaramiento en la que se multiplica cada píxel de la imagen original en escala de grises (im_gray) por una máscara binaria (im_bw). La máscara se convierte de booleano a enteros (uint8), donde True es 1 y False es 0. Como resultado, los píxeles correspondientes a 1 en la máscara conservan su valor original, mientras que los píxeles donde la máscara es 0 se establecen a 0, creando así una imagen donde solo se muestran las regiones deseadas."
   ]
  },
  {
   "cell_type": "code",
   "execution_count": null,
   "id": "15",
   "metadata": {},
   "outputs": [],
   "source": [
    "# Operaciones aritméticas con máscaras\n",
    "im_gray_mask_2 = im_gray * im_bw.astype(np.uint8)\n",
    "\n",
    "plt.figure(figsize=(3,3))\n",
    "plt.imshow(im_gray_mask_2, cmap='gray')\n",
    "plt.title('Máscara aritmética')\n",
    "plt.axis('off')\n",
    "plt.show()"
   ]
  },
  {
   "cell_type": "markdown",
   "id": "16",
   "metadata": {},
   "source": [
    "### 3.4 Actividad"
   ]
  },
  {
   "cell_type": "markdown",
   "id": "17",
   "metadata": {},
   "source": [
    "Invierta las intensidades de la anterior imagen."
   ]
  },
  {
   "cell_type": "code",
   "execution_count": null,
   "id": "18",
   "metadata": {},
   "outputs": [],
   "source": [
    "# escriba aquí su código\n",
    "plt.figure(figsize=(3,3))\n",
    "plt.imshow(~im_gray_mask_2, cmap='gray')\n",
    "plt.title('Máscara aritmética')\n",
    "plt.axis('off')\n",
    "plt.show()"
   ]
  },
  {
   "cell_type": "markdown",
   "id": "19",
   "metadata": {},
   "source": [
    "### 3.5 Indexado mediante máscara binaria"
   ]
  },
  {
   "cell_type": "code",
   "execution_count": null,
   "id": "20",
   "metadata": {},
   "outputs": [],
   "source": [
    "im_gray_mask_3 = im_gray.copy() # copiamos la imagen original\n",
    "im_gray_mask_3[im_bw] = 255\n",
    "\n",
    "plt.figure(figsize=(3,3))\n",
    "plt.imshow(im_gray_mask_3, cmap='gray')\n",
    "plt.title('Imagen con máscara binaria modificada')\n",
    "plt.axis('off')\n",
    "plt.show()"
   ]
  },
  {
   "cell_type": "markdown",
   "id": "21",
   "metadata": {},
   "source": [
    "<div style=\"text-align: center; margin: 20px 0;\">\n",
    "  <hr style=\"border: none; height: 2px; background: linear-gradient(to right, #bbb, #333, #bbb); width: 50%; margin: 0 auto;\" />\n",
    "</div>"
   ]
  }
 ],
 "metadata": {
  "kernelspec": {
   "display_name": "venv",
   "language": "python",
   "name": "python3"
  },
  "language_info": {
   "codemirror_mode": {
    "name": "ipython",
    "version": 3
   },
   "file_extension": ".py",
   "mimetype": "text/x-python",
   "name": "python",
   "nbconvert_exporter": "python",
   "pygments_lexer": "ipython3",
   "version": "3.12.1"
  }
 },
 "nbformat": 4,
 "nbformat_minor": 5
}
