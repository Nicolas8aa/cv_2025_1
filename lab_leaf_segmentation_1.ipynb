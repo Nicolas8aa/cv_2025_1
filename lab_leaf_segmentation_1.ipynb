{
 "cells": [
  {
   "cell_type": "markdown",
   "id": "0",
   "metadata": {},
   "source": [
    "# Práctica. Segmentación de imagenes (caso binario)\n",
    "Grape leaf project\n",
    "\n",
    "<div class=\"alert alert-block alert-success\">\n",
    "<b>Resumen:</b> Ejercicio de segmentación.\n",
    "</div>"
   ]
  },
  {
   "cell_type": "markdown",
   "id": "1",
   "metadata": {},
   "source": [
    "---"
   ]
  },
  {
   "cell_type": "code",
   "execution_count": null,
   "id": "2",
   "metadata": {},
   "outputs": [],
   "source": [
    "import cv2\n",
    "import numpy as np\n",
    "import matplotlib.pyplot as plt"
   ]
  },
  {
   "cell_type": "markdown",
   "id": "3",
   "metadata": {},
   "source": [
    "## 1. Dataset\n",
    "\n",
    "Repositorio de imágenes"
   ]
  },
  {
   "cell_type": "code",
   "execution_count": null,
   "id": "4",
   "metadata": {},
   "outputs": [],
   "source": [
    "im_list = [\"./images/leaf_1.JPG\", \"./images/leaf_2.JPG\", \"./images/leaf_3.JPG\"]"
   ]
  },
  {
   "cell_type": "markdown",
   "id": "5",
   "metadata": {},
   "source": [
    "Temas a considerar:\n",
    "\n",
    "- Politica de nombrado de archivos.\n",
    "- Formatos de imagen.\n",
    "- Estructura y organización de los datos (imagenes, resultados, y etc)."
   ]
  },
  {
   "cell_type": "markdown",
   "id": "6",
   "metadata": {},
   "source": [
    "## 3. Diseño del algoritmo"
   ]
  },
  {
   "cell_type": "markdown",
   "id": "7",
   "metadata": {},
   "source": [
    "### 3.1. Visualización del dataset"
   ]
  },
  {
   "cell_type": "code",
   "execution_count": null,
   "id": "8",
   "metadata": {},
   "outputs": [],
   "source": [
    "plt.figure(figsize=(6,6))\n",
    "\n",
    "\n",
    "for i,im_name in enumerate(im_list, start=1):   \n",
    "    im_bgr = cv2.imread(im_name)\n",
    "    im_rgb = cv2.cvtColor(im_bgr, cv2.COLOR_BGR2RGB)\n",
    "\n",
    "    # párametros de los subplots\n",
    "    n_cols = 3\n",
    "    n_rows = im_list.__len__() // n_cols + 1\n",
    "\n",
    "    # plt.subplot(1,3,i) #hardcoded\n",
    "    plt.subplot(n_rows,n_cols,i)\n",
    "    plt.imshow(im_rgb)\n",
    "    plt.title(f\"Imagen {i}\")\n",
    "    plt.axis('off')"
   ]
  },
  {
   "cell_type": "markdown",
   "id": "9",
   "metadata": {},
   "source": [
    "### 3.2. Definir el objetivo\n",
    "¿Cuál es el objetivo del algoritmo?\n",
    "- Escriba aquí su objetivo"
   ]
  },
  {
   "cell_type": "markdown",
   "id": "10",
   "metadata": {},
   "source": [
    "### 3.3. Restricciones\n",
    "\n",
    "- [x] Problema binario (2 clases).\n",
    "- [ ] Problema ternario (3 clase).\n",
    "- [ ] Problema cuaternario (4 clases).\n",
    "- [ ] Problema n-ario (n clases)."
   ]
  },
  {
   "cell_type": "markdown",
   "id": "11",
   "metadata": {},
   "source": [
    "### 3.4. Base de conocimiento\n",
    "* Histogramas.\n",
    "* Segmentación por doble umbral.\n",
    "* Operaciones lógicas entre canales.\n",
    "* Espacio de color.\n",
    "\n",
    "### 3.5. Análisis del histograma de las imágenes"
   ]
  },
  {
   "cell_type": "code",
   "execution_count": null,
   "id": "12",
   "metadata": {},
   "outputs": [],
   "source": [
    "# Grafica de los histogramas de las imágenes\n",
    "colors = ('r', 'g', 'b')\n",
    "plt.figure(figsize=(6,6))\n",
    "f = 0\n",
    "for i, im_name in enumerate(im_list):\n",
    "    im_bgr = cv2.imread(im_name)\n",
    "    im_rgb = cv2.cvtColor(im_bgr, cv2.COLOR_BGR2RGB)  # <= actualice su código si utiliza otro espacio de color\n",
    "    for u, color in enumerate(colors):\n",
    "        f += 1\n",
    "        plt.subplot(3, 3, f)\n",
    "        hist = cv2.calcHist([im_rgb], [u], None, [256], [0, 256])\n",
    "\n",
    "\n",
    "        plt.plot(hist, color=color)\n",
    "        plt.title(f'Histograma - Canal {color.upper()} {f}')\n",
    "        plt.xlabel('Intensidad de los píxeles')\n",
    "        plt.ylabel('Frecuencia')\n",
    "plt.show()"
   ]
  },
  {
   "cell_type": "markdown",
   "id": "13",
   "metadata": {},
   "source": [
    "### 3.6. Deducción de la regla de fusíón de los canales"
   ]
  },
  {
   "cell_type": "markdown",
   "id": "14",
   "metadata": {},
   "source": [
    "Escriba su regla de fusión aquí"
   ]
  },
  {
   "cell_type": "markdown",
   "id": "15",
   "metadata": {},
   "source": [
    "### 3.7. Selección preliminar de umbral(es)"
   ]
  },
  {
   "cell_type": "markdown",
   "id": "16",
   "metadata": {},
   "source": [
    "* Canal 0 (red) = [  , ]\n",
    "* Canal 1 (green) = [  , ]\n",
    "* Canal 2 (blue) = [  , ]"
   ]
  },
  {
   "cell_type": "markdown",
   "id": "17",
   "metadata": {},
   "source": [
    "### 3.8. Implementación del algoritmo de segmentación"
   ]
  },
  {
   "cell_type": "code",
   "execution_count": null,
   "id": "18",
   "metadata": {},
   "outputs": [],
   "source": [
    "def bilateral_segmentation(im_rgb, lower_bound, upper_bound):\n",
    "    # Convertir a color HSV\n",
    "    im_hsv = cv2.cvtColor(im_rgb, cv2.COLOR_RGB2HSV)\n",
    "    \n",
    "    # Máscara a la imagenes originales\n",
    "    mask = cv2.inRange(im_hsv, np.array(lower_bound, dtype=np.uint8), np.array(upper_bound, dtype=np.uint8))\n",
    "\n",
    "     # Create a binary mask where the leaf is white and the background is black\n",
    "    binary_mask = np.zeros_like(mask)\n",
    "    binary_mask[mask > 0] = 255\n",
    "\n",
    "    return binary_mask\n",
    "\n",
    "    \n",
    "\n",
    "    # Umbrales para segmentar las hojas\n",
    "lower_bound = [35, 25, 35]   # Verde bajo\n",
    "upper_bound = [90, 255, 255] # Verde alto\n",
    "\n",
    "plt.figure(figsize=(10, 8))\n",
    "for i, im_name in enumerate(im_list, start=1):\n",
    "    im_bgr = cv2.imread(im_name)\n",
    "    im_rgb = cv2.cvtColor(im_bgr, cv2.COLOR_BGR2RGB)\n",
    "    \n",
    "    segmented = bilateral_segmentation(im_rgb, lower_bound, upper_bound)\n",
    "\n",
    "    plt.subplot(1, 3, i)\n",
    "    plt.imshow(segmented, cmap='gray') \n",
    "    plt.title(f\"Segmentación Hoja {i}\")\n",
    "    plt.axis(\"off\")\n",
    "\n",
    "plt.show()"
   ]
  },
  {
   "cell_type": "markdown",
   "id": "19",
   "metadata": {},
   "source": [
    "### 4. Evaluación del algoritmo\n",
    "\n",
    "Se debería realizar contra datos anotados."
   ]
  },
  {
   "cell_type": "code",
   "execution_count": null,
   "id": "20",
   "metadata": {},
   "outputs": [],
   "source": [
    "plt.figure(figsize=(6,6))\n",
    "\n",
    "for i,im_name in enumerate(im_list, start=1):   \n",
    "    im_bgr = cv2.imread(im_name)\n",
    "    im_rgb = cv2.cvtColor(im_bgr, cv2.COLOR_BGR2RGB)   # <= actualice su código si utiliza otro espacio de color\n",
    "\n",
    "    # algoritmo de segmentación bilateral\n",
    "    im_seg = bilateral_segmentation(im_rgb, lower_bound, upper_bound) # recuerde actualizar los argumentos\n",
    "    \n",
    "    plt.subplot(2,3,i) #hardcoded\n",
    "    plt.imshow(im_rgb)\n",
    "    plt.title(f\"Imagen {i}\")\n",
    "    plt.axis('off')\n",
    "\n",
    "    plt.subplot(2,3,i+3) #hardcoded\n",
    "    plt.imshow(im_seg, cmap='gray')\n",
    "    plt.title(f\"Seg {i}\")\n",
    "    plt.axis('off')\n",
    "\n",
    "    # save each image segmented\n",
    "    cv2.imwrite(f\"./images/leaf_{i}_segmented.jpg\", im_seg)\n"
   ]
  },
  {
   "cell_type": "markdown",
   "id": "21",
   "metadata": {},
   "source": [
    "## 5. Ajuste de parámetros"
   ]
  },
  {
   "cell_type": "markdown",
   "id": "22",
   "metadata": {},
   "source": [
    "Observe los resultados y ajuste los umbrales (parámetros) del algoritmo."
   ]
  },
  {
   "cell_type": "markdown",
   "id": "23",
   "metadata": {},
   "source": [
    "## 6. Resultados del algoritmo\n",
    "\n",
    "Almacene los resultados de su algoritmo."
   ]
  },
  {
   "cell_type": "code",
   "execution_count": null,
   "id": "24",
   "metadata": {},
   "outputs": [],
   "source": [
    "\n",
    "# Not neccesary\n",
    "seg_list = [im.replace('.JPG', '_seg.png') for im in im_list]\n",
    "\n",
    "for i,im_name in enumerate(im_list):\n",
    "    im_bgr = cv2.imread(im_name)\n",
    "    im_rgb = cv2.cvtColor(im_bgr, cv2.COLOR_BGR2RGB)   # <= actualice su código si utiliza otro espacio de color\n",
    "\n",
    "    # algoritmo de segmentación bilateral\n",
    "    im_seg = bilateral_segmentation(im_rgb, lower_bound, upper_bound) # recuerde actualizar los argumentos\n",
    "\n",
    "    cv2.imwrite(seg_list[i], im_seg)\n",
    "    print(seg_list[i])"
   ]
  },
  {
   "cell_type": "markdown",
   "id": "25",
   "metadata": {},
   "source": [
    "---\n",
    "<div class=\"alert alert-block alert-danger\">\n",
    "<b>Atención</b> con las linea de código hardcoded, las cuales fueron incluidas para reducir la complejidad del notebook.\n",
    "</div>"
   ]
  }
 ],
 "metadata": {
  "kernelspec": {
   "display_name": "venv",
   "language": "python",
   "name": "python3"
  },
  "language_info": {
   "codemirror_mode": {
    "name": "ipython",
    "version": 3
   },
   "file_extension": ".py",
   "mimetype": "text/x-python",
   "name": "python",
   "nbconvert_exporter": "python",
   "pygments_lexer": "ipython3",
   "version": "3.12.1"
  }
 },
 "nbformat": 4,
 "nbformat_minor": 5
}
