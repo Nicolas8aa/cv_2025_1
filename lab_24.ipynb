{
 "cells": [
  {
   "cell_type": "markdown",
   "id": "0",
   "metadata": {},
   "source": [
    "# Procesamiento de imágenes a través de morfología matemática \n",
    "\n",
    "<div class=\"alert alert-block alert-success\">\n",
    "<b>Resumen:</b> El código implementa operaciones de morfología matemática en imágenes binarias utilizando OpenCV, NumPy y Matplotlib en Python; crea elementos estructurantes personalizados (diamante, disco, octágono, línea) y utiliza predefinidos (rectángulo, cuadrado) para aplicar operaciones morfológicas básicas como dilatación y erosión, así como operaciones compuestas como apertura y cierre, demostrando sus efectos en diversas imágenes y aplicándolas en casos prácticos.\n",
    "</div>\n",
    "\n",
    "***\n",
    "\n",
    "## Índice de contenidos\n",
    "\n",
    "Preámbulo\n",
    "1. Elementos estructurantes 2D.\n",
    "2. Operación de dilatación.\n",
    "    - Aplicación en análisis de documentos.\n",
    "4. Erosión.\n",
    "5. Opening.\n",
    "6. Closing.\n",
    "7. Opening y closing.\n",
    "8. Aplicaciones.\n",
    "    - Mejora de una huella digital ruidosa.\n",
    "\n",
    "---"
   ]
  },
  {
   "cell_type": "markdown",
   "id": "1",
   "metadata": {},
   "source": [
    "# Preámbulo"
   ]
  },
  {
   "cell_type": "code",
   "execution_count": null,
   "id": "2",
   "metadata": {},
   "outputs": [],
   "source": [
    "# Limpieza del entorno y carga de librerías\n",
    "import cv2\n",
    "import numpy as np\n",
    "import matplotlib.pyplot as plt\n",
    "%matplotlib inline"
   ]
  },
  {
   "cell_type": "markdown",
   "id": "3",
   "metadata": {},
   "source": [
    "# 1. Elementos estructurantes 2D\n",
    "\n",
    "En esta sección, crearemos diversos elementos estructurantes que se utilizan en operaciones morfológicas."
   ]
  },
  {
   "cell_type": "code",
   "execution_count": null,
   "id": "4",
   "metadata": {},
   "outputs": [],
   "source": [
    "# Funciones para crear elementos estructurantes personalizados\n",
    "\n",
    "def diamond(r):\n",
    "    L = np.arange(-r, r+1)\n",
    "    X, Y = np.meshgrid(L, L)\n",
    "    mask = (np.abs(X) + np.abs(Y)) <= r\n",
    "    return mask.astype(np.uint8)\n",
    "\n",
    "def disk(r):\n",
    "    L = np.arange(-r, r+1)\n",
    "    X, Y = np.meshgrid(L, L)\n",
    "    mask = X**2 + Y**2 <= r**2\n",
    "    return mask.astype(np.uint8)\n",
    "\n",
    "def octagon(r):\n",
    "    size = 2*r + 1\n",
    "    mask = np.ones((size, size), dtype=np.uint8)\n",
    "    for i in range(size):\n",
    "        for j in range(size):\n",
    "            if (i < r - r//2 and j < r - r//2) or \\\n",
    "               (i < r - r//2 and j > r + r//2) or \\\n",
    "               (i > r + r//2 and j < r - r//2) or \\\n",
    "               (i > r + r//2 and j > r + r//2):\n",
    "                mask[i, j] = 0\n",
    "    return mask\n",
    "\n",
    "def line_element(length, angle):\n",
    "    angle_rad = np.deg2rad(angle)\n",
    "    x = int(length * np.cos(angle_rad))\n",
    "    y = int(length * np.sin(angle_rad))\n",
    "    size = max(abs(x), abs(y)) * 2 + 1\n",
    "    element = np.zeros((size, size), dtype=np.uint8)\n",
    "    cv2.line(element, (size//2 - x, size//2 - y), (size//2 + x, size//2 + y), 1, thickness=1)\n",
    "    return element"
   ]
  },
  {
   "cell_type": "markdown",
   "id": "5",
   "metadata": {},
   "source": [
    "Parámetros para los elementos estructurantes"
   ]
  },
  {
   "cell_type": "code",
   "execution_count": null,
   "id": "6",
   "metadata": {},
   "outputs": [],
   "source": [
    "r = 9\n",
    "m = 7\n",
    "n = 4\n",
    "w = 7\n",
    "length = 7\n",
    "angle = 45"
   ]
  },
  {
   "cell_type": "markdown",
   "id": "7",
   "metadata": {},
   "source": [
    "Creación de los elementos estructurantes"
   ]
  },
  {
   "cell_type": "code",
   "execution_count": null,
   "id": "8",
   "metadata": {},
   "outputs": [],
   "source": [
    "SE_1 = diamond(r)\n",
    "SE_2 = disk(r)\n",
    "SE_3 = octagon(r)\n",
    "SE_4 = line_element(length, angle)\n",
    "SE_5 = cv2.getStructuringElement(cv2.MORPH_RECT, (m, n))\n",
    "SE_6 = cv2.getStructuringElement(cv2.MORPH_RECT, (w, w))"
   ]
  },
  {
   "cell_type": "markdown",
   "id": "9",
   "metadata": {},
   "source": [
    "Visualización de los elementos estructurantes"
   ]
  },
  {
   "cell_type": "code",
   "execution_count": null,
   "id": "10",
   "metadata": {},
   "outputs": [],
   "source": [
    "plt.figure(figsize=(8, 8))\n",
    "\n",
    "plt.subplot(3, 2, 1)\n",
    "plt.imshow(SE_1, cmap='gray')\n",
    "plt.title('Diamante')\n",
    "\n",
    "plt.subplot(3, 2, 2)\n",
    "plt.imshow(SE_2, cmap='gray')\n",
    "plt.title('Disco')\n",
    "\n",
    "plt.subplot(3, 2, 3)\n",
    "plt.imshow(SE_3, cmap='gray')\n",
    "plt.title('Octágono')\n",
    "\n",
    "plt.subplot(3, 2, 4)\n",
    "plt.imshow(SE_4, cmap='gray')\n",
    "plt.title('Línea')\n",
    "\n",
    "plt.subplot(3, 2, 5)\n",
    "plt.imshow(SE_5, cmap='gray')\n",
    "plt.title('Rectángulo')\n",
    "\n",
    "plt.subplot(3, 2, 6)\n",
    "plt.imshow(SE_6, cmap='gray')\n",
    "plt.title('Cuadrado')\n",
    "\n",
    "plt.tight_layout()\n",
    "plt.show()"
   ]
  },
  {
   "cell_type": "markdown",
   "id": "11",
   "metadata": {},
   "source": [
    "## 2. Operación de dilatación\n",
    "### 2.1 Ejemplo\n",
    "\n",
    "Cargamos una imagen binaria y aplicamos una dilatación con un elemento estructurante."
   ]
  },
  {
   "cell_type": "code",
   "execution_count": null,
   "id": "12",
   "metadata": {},
   "outputs": [],
   "source": [
    "# Carga de la imagen binaria\n",
    "BW1 = cv2.imread('./images/U_bw.tif', cv2.IMREAD_GRAYSCALE)\n",
    "\n",
    "# Asegurarse de que la imagen es binaria\n",
    "_, BW1 = cv2.threshold(BW1, 127, 255, cv2.THRESH_BINARY)"
   ]
  },
  {
   "cell_type": "code",
   "execution_count": null,
   "id": "13",
   "metadata": {},
   "outputs": [],
   "source": [
    "# Aplicación de la dilatación\n",
    "BW1_dil_1 = cv2.dilate(BW1, SE_6, iterations=1)"
   ]
  },
  {
   "cell_type": "code",
   "execution_count": null,
   "id": "14",
   "metadata": {},
   "outputs": [],
   "source": [
    "# Visualización de los resultados\n",
    "plt.figure(figsize=(10, 5))\n",
    "\n",
    "plt.subplot(1, 2, 1)\n",
    "plt.imshow(BW1, cmap='gray')\n",
    "plt.title('Imagen Original')\n",
    "\n",
    "plt.subplot(1, 2, 2)\n",
    "plt.imshow(BW1_dil_1, cmap='gray')\n",
    "plt.title('Imagen Dilatada')\n",
    "\n",
    "plt.tight_layout()\n",
    "plt.show()"
   ]
  },
  {
   "cell_type": "markdown",
   "id": "15",
   "metadata": {},
   "source": [
    "### 2.2 Aplicación en análisis de documentos\n",
    "\n",
    "En este ejemplo, utilizamos un elemento estructurante en forma de cruz para dilatar una imagen de texto."
   ]
  },
  {
   "cell_type": "code",
   "execution_count": null,
   "id": "16",
   "metadata": {},
   "outputs": [],
   "source": [
    "# Carga de la imagen binaria\n",
    "BW2 = cv2.imread('./images/text_image.tif', cv2.IMREAD_GRAYSCALE)\n",
    "\n",
    "# Asegurarse de que la imagen es binaria\n",
    "_, BW2 = cv2.threshold(BW2, 127, 255, cv2.THRESH_BINARY)"
   ]
  },
  {
   "cell_type": "code",
   "execution_count": null,
   "id": "17",
   "metadata": {},
   "outputs": [],
   "source": [
    "# Creación del elemento estructurante en forma de cruz\n",
    "se_plus = np.array([[0, 1, 0],\n",
    "                 [1, 1, 1],\n",
    "                 [0, 1, 0]], dtype=np.uint8)"
   ]
  },
  {
   "cell_type": "code",
   "execution_count": null,
   "id": "18",
   "metadata": {},
   "outputs": [],
   "source": [
    "# Aplicación de la dilatación\n",
    "BW2_dil_1 = cv2.dilate(BW2, se_plus, iterations=2)"
   ]
  },
  {
   "cell_type": "code",
   "execution_count": null,
   "id": "19",
   "metadata": {},
   "outputs": [],
   "source": [
    "# Visualización de los resultados \n",
    "plt.figure(figsize=(10, 5))\n",
    "\n",
    "plt.subplot(1, 2, 1)\n",
    "plt.imshow(BW2, cmap='gray')\n",
    "plt.title('Imagen Original')\n",
    "\n",
    "plt.subplot(1, 2, 2)\n",
    "plt.imshow(BW2_dil_1, cmap='gray')\n",
    "plt.title('Imagen Dilatada')\n",
    "\n",
    "plt.tight_layout()\n",
    "plt.show()"
   ]
  },
  {
   "cell_type": "markdown",
   "id": "20",
   "metadata": {},
   "source": [
    "## 3. Erosión\n",
    "### 3.1 Ejemplo\n",
    "\n",
    "En esta sección, aplicaremos la operación de erosión a una imagen binaria utilizando elementos estructurantes en forma de disco de diferentes tamaños."
   ]
  },
  {
   "cell_type": "code",
   "execution_count": null,
   "id": "21",
   "metadata": {},
   "outputs": [],
   "source": [
    "# Carga de la imagen binaria\n",
    "BW3 = cv2.imread('./images/wirebond-mask.tif', cv2.IMREAD_GRAYSCALE)\n",
    "#BW3 = cv2.imread('circles.png', cv2.IMREAD_GRAYSCALE)\n",
    "\n",
    "# Asegurarse de que la imagen es binaria\n",
    "_, BW3 = cv2.threshold(BW3, 127, 255, cv2.THRESH_BINARY)"
   ]
  },
  {
   "cell_type": "code",
   "execution_count": null,
   "id": "22",
   "metadata": {},
   "outputs": [],
   "source": [
    "se_3 = disk(5)\n",
    "se_4 = disk(7)\n",
    "se_5 = disk(19)"
   ]
  },
  {
   "cell_type": "code",
   "execution_count": null,
   "id": "23",
   "metadata": {},
   "outputs": [],
   "source": [
    "# Aplicación de la erosión con los diferentes elementos estructurantes\n",
    "BW3_ero_1 = cv2.erode(BW3, se_3, iterations=1)\n",
    "BW3_ero_2 = cv2.erode(BW3, se_4, iterations=1)\n",
    "BW3_ero_3 = cv2.erode(BW3, se_5, iterations=1)"
   ]
  },
  {
   "cell_type": "code",
   "execution_count": null,
   "id": "24",
   "metadata": {},
   "outputs": [],
   "source": [
    "# Visualización de los resultados\n",
    "plt.figure(figsize=(15, 10))\n",
    "\n",
    "plt.subplot(2, 2, 1)\n",
    "plt.imshow(BW3, cmap='gray')\n",
    "plt.title('Imagen Original')\n",
    "\n",
    "plt.subplot(2, 2, 2)\n",
    "plt.imshow(BW3_ero_1, cmap='gray')\n",
    "plt.title('Erosión con disco de radio 5')\n",
    "\n",
    "plt.subplot(2, 2, 3)\n",
    "plt.imshow(BW3_ero_2, cmap='gray')\n",
    "plt.title('Erosión con disco de radio 7')\n",
    "\n",
    "plt.subplot(2, 2, 4)\n",
    "plt.imshow(BW3_ero_3, cmap='gray')\n",
    "plt.title('Erosión con disco de radio 19')\n",
    "\n",
    "plt.tight_layout()\n",
    "plt.show()"
   ]
  },
  {
   "cell_type": "markdown",
   "id": "25",
   "metadata": {},
   "source": [
    "## 4. Opening\n",
    "### 4.1 Ejemplo\n",
    "\n",
    "En esta sección, aplicaremos la operación morfológica de apertura (opening) a una imagen binaria utilizando un elemento estructurante en forma de cuadrado. La apertura es útil para eliminar pequeños objetos o detalles en la imagen mientras se preserva la forma y tamaño de los objetos más grandes."
   ]
  },
  {
   "cell_type": "code",
   "execution_count": null,
   "id": "26",
   "metadata": {},
   "outputs": [],
   "source": [
    "# Carga de la imagen binaria\n",
    "BW4 = cv2.imread('./images/shapes.tif', cv2.IMREAD_GRAYSCALE)\n",
    "\n",
    "# Asegurarse de que la imagen es binaria\n",
    "_, BW4 = cv2.threshold(BW4, 127, 255, cv2.THRESH_BINARY)"
   ]
  },
  {
   "cell_type": "code",
   "execution_count": null,
   "id": "27",
   "metadata": {},
   "outputs": [],
   "source": [
    "# Creación del elemento estructurante en forma de cuadrado de tamaño 20x20\n",
    "se_6 = cv2.getStructuringElement(cv2.MORPH_RECT, (20, 20))"
   ]
  },
  {
   "cell_type": "code",
   "execution_count": null,
   "id": "28",
   "metadata": {},
   "outputs": [],
   "source": [
    "# Aplicación de la operación de apertura (erosión seguida de dilatación)\n",
    "BW4_opening_1 = cv2.morphologyEx(BW4, cv2.MORPH_OPEN, se_6)"
   ]
  },
  {
   "cell_type": "code",
   "execution_count": null,
   "id": "29",
   "metadata": {},
   "outputs": [],
   "source": [
    "# Visualización de los resultados\n",
    "plt.figure(figsize=(10, 5))\n",
    "\n",
    "plt.subplot(1, 2, 1)\n",
    "plt.imshow(BW4, cmap='gray')\n",
    "plt.title('Imagen Original')\n",
    "plt.axis('off')\n",
    "\n",
    "plt.subplot(1, 2, 2)\n",
    "plt.imshow(BW4_opening_1, cmap='gray')\n",
    "plt.title('Imagen después de Opening')\n",
    "plt.axis('off')\n",
    "\n",
    "plt.tight_layout()\n",
    "plt.show()"
   ]
  },
  {
   "cell_type": "markdown",
   "id": "30",
   "metadata": {},
   "source": [
    "## 5. Closing\n",
    "### 5.1 Ejemplo\n",
    "\n",
    "En esta sección, aplicaremos la operación morfológica de cierre (closing) a la misma imagen binaria utilizando el mismo elemento estructurante en forma de cuadrado. El cierre es útil para rellenar pequeños agujeros en objetos y para conectar regiones adyacentes."
   ]
  },
  {
   "cell_type": "code",
   "execution_count": null,
   "id": "31",
   "metadata": {},
   "outputs": [],
   "source": [
    "# Aplicación de la operación de cierre (dilatación seguida de erosión)\n",
    "BW4_closing_1 = cv2.morphologyEx(BW4, cv2.MORPH_CLOSE, se_6)"
   ]
  },
  {
   "cell_type": "code",
   "execution_count": null,
   "id": "32",
   "metadata": {},
   "outputs": [],
   "source": [
    "# Visualización de los resultados\n",
    "plt.figure(figsize=(10, 5))\n",
    "\n",
    "plt.subplot(1, 2, 1)\n",
    "plt.imshow(BW4, cmap='gray')\n",
    "plt.title('Imagen Original')\n",
    "plt.axis('off')\n",
    "\n",
    "plt.subplot(1, 2, 2)\n",
    "plt.imshow(BW4_closing_1, cmap='gray')\n",
    "plt.title('Imagen después de Closing')\n",
    "plt.axis('off')\n",
    "\n",
    "plt.tight_layout()\n",
    "plt.show()"
   ]
  },
  {
   "cell_type": "markdown",
   "id": "33",
   "metadata": {},
   "source": [
    "## 6. Opening y closing\n",
    "\n",
    "En esta sección, aplicaremos una secuencia de operaciones morfológicas a la imagen: primero una apertura y luego un operación cierre, utilizando el mismo elemento estructurante en forma de cuadrado. Esta combinación es útil para eliminar pequeños objetos y suavizar contornos irregulares en una imagen binaria."
   ]
  },
  {
   "cell_type": "code",
   "execution_count": null,
   "id": "34",
   "metadata": {},
   "outputs": [],
   "source": [
    "# Aplicación de la operación de cierre sobre la imagen ya abierta\n",
    "BW4_closing_2 = cv2.morphologyEx(BW4_opening_1, cv2.MORPH_CLOSE, se_6)"
   ]
  },
  {
   "cell_type": "code",
   "execution_count": null,
   "id": "35",
   "metadata": {},
   "outputs": [],
   "source": [
    "# Visualización de los resultados\n",
    "plt.figure(figsize=(15, 5))\n",
    "\n",
    "plt.subplot(1, 3, 1)\n",
    "plt.imshow(BW4, cmap='gray')\n",
    "plt.title('Imagen Original')\n",
    "plt.axis('off')\n",
    "\n",
    "plt.subplot(1, 3, 2)\n",
    "plt.imshow(BW4_opening_1, cmap='gray')\n",
    "plt.title('Después de Opening')\n",
    "plt.axis('off')\n",
    "\n",
    "plt.subplot(1, 3, 3)\n",
    "plt.imshow(BW4_closing_2, cmap='gray')\n",
    "plt.title('Después de Opening y Closing')\n",
    "plt.axis('off')\n",
    "\n",
    "plt.tight_layout()\n",
    "plt.show()"
   ]
  },
  {
   "cell_type": "markdown",
   "id": "36",
   "metadata": {},
   "source": [
    "## 7. Aplicaciones\n",
    "### 7.1 Mejora de una huella digital ruidosa\n",
    "\n",
    "En esta sección, aplicaremos operaciones morfológicas para mejorar una imagen de huella digital que contiene ruido. Utilizaremos operaciones de apertura y cierre para eliminar el ruido y mejorar la continuidad de las líneas en la huella."
   ]
  },
  {
   "cell_type": "code",
   "execution_count": null,
   "id": "37",
   "metadata": {},
   "outputs": [],
   "source": [
    "# Carga de la imagen binaria\n",
    "BW5 = cv2.imread('./images/noisy_fingerprint.tif', cv2.IMREAD_GRAYSCALE)\n",
    "\n",
    "# Asegurarse de que la imagen es binaria\n",
    "_, BW5 = cv2.threshold(BW5, 127, 255, cv2.THRESH_BINARY_INV)"
   ]
  },
  {
   "cell_type": "code",
   "execution_count": null,
   "id": "38",
   "metadata": {},
   "outputs": [],
   "source": [
    "# Creación del elemento estructurante en forma de cuadrado de tamaño 3x3\n",
    "se_7 = cv2.getStructuringElement(cv2.MORPH_RECT, (3, 3))"
   ]
  },
  {
   "cell_type": "code",
   "execution_count": null,
   "id": "39",
   "metadata": {},
   "outputs": [],
   "source": [
    "# Aplicación de la operación de apertura para eliminar ruido\n",
    "BW5_opening_1 = cv2.morphologyEx(BW5, cv2.MORPH_OPEN, se_7)\n",
    "\n",
    "# Aplicación de la operación de cierre para cerrar pequeños huecos\n",
    "BW5_closing_1 = cv2.morphologyEx(BW5_opening_1, cv2.MORPH_CLOSE, se_7)"
   ]
  },
  {
   "cell_type": "code",
   "execution_count": null,
   "id": "40",
   "metadata": {},
   "outputs": [],
   "source": [
    "# Visualización de los resultados\n",
    "plt.figure(figsize=(15, 5))\n",
    "\n",
    "plt.subplot(1, 3, 1)\n",
    "plt.imshow(BW5, cmap='gray')\n",
    "plt.title('Imagen Original')\n",
    "plt.axis('off')\n",
    "\n",
    "plt.subplot(1, 3, 2)\n",
    "plt.imshow(BW5_opening_1, cmap='gray')\n",
    "plt.title('Después de Opening')\n",
    "plt.axis('off')\n",
    "\n",
    "plt.subplot(1, 3, 3)\n",
    "plt.imshow(BW5_closing_1, cmap='gray')\n",
    "plt.title('Después de Opening y Closing')\n",
    "plt.axis('off')\n",
    "\n",
    "plt.tight_layout()\n",
    "plt.show()"
   ]
  }
 ],
 "metadata": {
  "kernelspec": {
   "display_name": "venv",
   "language": "python",
   "name": "python3"
  },
  "language_info": {
   "codemirror_mode": {
    "name": "ipython",
    "version": 3
   },
   "file_extension": ".py",
   "mimetype": "text/x-python",
   "name": "python",
   "nbconvert_exporter": "python",
   "pygments_lexer": "ipython3",
   "version": "3.12.1"
  }
 },
 "nbformat": 4,
 "nbformat_minor": 5
}
