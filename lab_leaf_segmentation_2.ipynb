{
 "cells": [
  {
   "cell_type": "markdown",
   "id": "0",
   "metadata": {},
   "source": [
    "# Práctica. Segmentación de imagenes (caso binario)\n",
    "Grape leaf project\n",
    "\n",
    "<div class=\"alert alert-block alert-success\">\n",
    "<b>Resumen:</b> Este notebook tiene como objetivo explicar de manera técnica el Índice de Jaccard y el Coeficiente de Dice, dos métricas ampliamente utilizadas para evaluar la efectividad de algoritmos de segmentación de imágenes.\n",
    "</div>"
   ]
  },
  {
   "cell_type": "markdown",
   "id": "1",
   "metadata": {},
   "source": [
    "***"
   ]
  },
  {
   "cell_type": "code",
   "execution_count": null,
   "id": "2",
   "metadata": {},
   "outputs": [],
   "source": [
    "import cv2\n",
    "import numpy as np\n",
    "import matplotlib.pyplot as plt"
   ]
  },
  {
   "cell_type": "markdown",
   "id": "3",
   "metadata": {},
   "source": [
    "***\n",
    "\n",
    "## Imagenes de prueba"
   ]
  },
  {
   "cell_type": "code",
   "execution_count": null,
   "id": "4",
   "metadata": {},
   "outputs": [],
   "source": [
    "# Prueba con datos binarios de ejemplo\n",
    "y_true = np.array([[1, 1, 0, 0],\n",
    "                   [0, 1, 1, 0],\n",
    "                   [0, 0, 1, 0],\n",
    "                   [0, 0, 0, 0]], dtype=np.uint8)\n",
    "\n",
    "y_pred = np.array([[1, 1, 1, 0],\n",
    "                   [0, 1, 1, 0],\n",
    "                   [0, 0, 1, 0],\n",
    "                   [0, 0, 0, 0]], dtype=np.uint8)"
   ]
  },
  {
   "cell_type": "code",
   "execution_count": null,
   "id": "5",
   "metadata": {},
   "outputs": [],
   "source": [
    "plt.figure(figsize=(6,6))\n",
    "plt.subplot(1,2,1)\n",
    "plt.imshow(y_true, cmap=\"gray\")\n",
    "plt.title(\"Imagen de referencia\")\n",
    "plt.axis('off')\n",
    "\n",
    "plt.subplot(1,2,2)\n",
    "plt.imshow(y_pred, cmap=\"gray\")\n",
    "plt.title(\"Imagen segmentada\")\n",
    "plt.axis('off')"
   ]
  },
  {
   "cell_type": "markdown",
   "id": "6",
   "metadata": {},
   "source": [
    "***\n",
    "\n",
    "## 1. Índice de Jaccard (IoU - Intersection over Union)\n",
    "\n",
    "El Índice de Jaccard, también conocido como Intersection over Union (IoU), mide la superposición entre el área segmentada por el algoritmo y el área de referencia, conocida como \"ground truth\". Es una métrica que indica cuán similar es la segmentación automática con respecto a la referencia.\n",
    "\n",
    "La fórmula del Índice de Jaccard es la siguiente:\n",
    "\n",
    "$IoU = |A ∩ B| / |A ∪ B|$\n",
    "\n",
    "Donde:\n",
    "- A es el conjunto de píxeles en la segmentación automática.\n",
    "- B es el conjunto de píxeles en la segmentación de referencia.\n",
    "- ∩ indica la intersección entre ambos conjuntos.\n",
    "- ∪ indica la unión de ambos conjuntos.\n",
    "\n",
    "Un valor de IoU cercano a 1 indica una mejor precisión en la segmentación."
   ]
  },
  {
   "cell_type": "markdown",
   "id": "7",
   "metadata": {},
   "source": [
    "### 1.1. Función índice de Jaccard"
   ]
  },
  {
   "cell_type": "code",
   "execution_count": null,
   "id": "8",
   "metadata": {},
   "outputs": [],
   "source": [
    "def jaccard_index(y_true, y_pred):\n",
    "    intersection = cv2.bitwise_and(y_true, y_pred)\n",
    "    union = cv2.bitwise_or(y_true, y_pred)\n",
    "    iou = np.sum(intersection) / np.sum(union)\n",
    "    return iou"
   ]
  },
  {
   "cell_type": "markdown",
   "id": "9",
   "metadata": {},
   "source": [
    "### 1.2. Calculo IoJ"
   ]
  },
  {
   "cell_type": "code",
   "execution_count": null,
   "id": "10",
   "metadata": {},
   "outputs": [],
   "source": [
    "iou = jaccard_index(y_true, y_pred)\n",
    "print(f\"Índice de Jaccard (IoU): {iou:.2f}\")"
   ]
  },
  {
   "cell_type": "markdown",
   "id": "11",
   "metadata": {},
   "source": [
    "***\n",
    "\n",
    "## 2. Coeficiente de Dice (DSC - Dice Similarity Coefficient)\n",
    "\n",
    "El Coeficiente de Dice es una métrica similar al Índice de Jaccard, pero con mayor énfasis en la coincidencia entre la segmentación automática y la de referencia. Es especialmente útil en casos donde se busca maximizar la detección de coincidencias verdaderas.\n",
    "\n",
    "La fórmula del Coeficiente de Dice es la siguiente:\n",
    "\n",
    "$DSC = 2|A ∩ B| / (|A| + |B|)$\n",
    "\n",
    "Donde:\n",
    "- A es el conjunto de píxeles en la segmentación automática.\n",
    "- B es el conjunto de píxeles en la segmentación de referencia.\n",
    "- ∩ indica la intersección entre ambos conjuntos.\n",
    "\n",
    "Un valor de DSC cercano a 1 indica una mejor coincidencia entre las segmentaciones."
   ]
  },
  {
   "cell_type": "markdown",
   "id": "12",
   "metadata": {},
   "source": [
    "### 2.1. Función coeficiente de Dice"
   ]
  },
  {
   "cell_type": "code",
   "execution_count": null,
   "id": "13",
   "metadata": {},
   "outputs": [],
   "source": [
    "def dice_coefficient(y_true, y_pred):\n",
    "    intersection = cv2.bitwise_and(y_true, y_pred)\n",
    "    dice = 2 * np.sum(intersection) / (np.sum(y_true) + np.sum(y_pred))\n",
    "    return dice"
   ]
  },
  {
   "cell_type": "markdown",
   "id": "14",
   "metadata": {},
   "source": [
    "### 2.2. Calculo coeficiente Dice"
   ]
  },
  {
   "cell_type": "code",
   "execution_count": null,
   "id": "15",
   "metadata": {},
   "outputs": [],
   "source": [
    "# Prueba con los mismos datos binarios de ejemplo\n",
    "dsc = dice_coefficient(y_true, y_pred)\n",
    "print(f\"Coeficiente de Dice (DSC): {dsc:.2f}\")"
   ]
  },
  {
   "cell_type": "markdown",
   "id": "16",
   "metadata": {},
   "source": [
    "***\n",
    "## 3. Actividad\n",
    "### 3.1 Validación del algoritmo de segmentación\n",
    "\n",
    "\n",
    "Cada grupo debe tomar el resultado de su algoritmo de segmentación de hojas de uva, y validarlo utilizando las métricas estudiadas (Jaccard y DICE). Primero, almacene los resultados de su algoritmo utilizando el conjunto de imágenes proporcionadas, luego calcule los índices frente a las imágenes referencia. Finalmente, analicen sus resultados."
   ]
  },
  {
   "cell_type": "markdown",
   "id": "17",
   "metadata": {},
   "source": [
    "Lista de imagenes de referencia para la etiqueta grape_leave"
   ]
  },
  {
   "cell_type": "code",
   "execution_count": null,
   "id": "18",
   "metadata": {},
   "outputs": [],
   "source": [
    "\n",
    "# Add prefix './images'\n",
    "\n",
    "im_list = [\"leaf_1.JPG\", \"leaf_2.JPG\", \"leaf_3.JPG\"]\n",
    "gt_grape_leave_list = [\"leaf_1-tag-grape_leave-0.png\", \"leaf_2-tag-grape_leave-0.png\", \"leaf_3-tag-grape_leave-0.png\"]\n",
    "\n",
    "\n",
    "pred_seg_list = [\"leaf_1_segmented.jpg\", \"leaf_2_segmented.jpg\", \"leaf_3_segmented.jpg\"] # <-- mis resultados\n",
    "#pred_seg_list = gt_grape_leave_list # comente esta linea para evaluar sus resultados"
   ]
  },
  {
   "cell_type": "code",
   "execution_count": null,
   "id": "19",
   "metadata": {},
   "outputs": [],
   "source": [
    "plt.figure(figsize=(6,6))\n",
    "\n",
    "ious= []\n",
    "dscs = []\n",
    "for i, (im_gt_name, im_pred_seg) in enumerate(zip(gt_grape_leave_list, pred_seg_list), start=1):   \n",
    "    gt_bool = cv2.imread('./images/' +im_gt_name)\n",
    "    seg_bool = cv2.imread('./images/' +im_pred_seg)\n",
    "    \n",
    "    plt.subplot(2,3,i) #hardcoded\n",
    "    plt.imshow(gt_bool)\n",
    "    plt.title(f\"GT {i}\")\n",
    "    plt.axis('off')\n",
    "\n",
    "    plt.subplot(2,3,i+3) #hardcoded\n",
    "    plt.imshow(seg_bool)\n",
    "    plt.title(f\"Seg {i}\")\n",
    "    plt.axis('off')\n",
    "\n",
    "    print(\"---------------\")\n",
    "    print(f\"Imagen {i}\")\n",
    "    \n",
    "    iou = jaccard_index(gt_bool, seg_bool)\n",
    "    ious.append(iou)\n",
    "    print(f\"Índice de Jaccard (IoU): {iou:.2f}\")\n",
    "\n",
    "    dsc = dice_coefficient(gt_bool, seg_bool)\n",
    "    dscs.append(dsc)\n",
    "    print(f\"Coeficiente de Dice (DSC): {dsc:.2f}\")\n",
    "\n",
    "\n",
    "print(\"---------------\")\n",
    "print(\"Promedio\")\n",
    "print(f\"Índice de Jaccard (IoU): {np.mean(ious):.2f}\")\n",
    "print(f\"Coeficiente de Dice (DSC): {np.mean(dscs):.2f}\")"
   ]
  }
 ],
 "metadata": {
  "kernelspec": {
   "display_name": "venv",
   "language": "python",
   "name": "python3"
  },
  "language_info": {
   "codemirror_mode": {
    "name": "ipython",
    "version": 3
   },
   "file_extension": ".py",
   "mimetype": "text/x-python",
   "name": "python",
   "nbconvert_exporter": "python",
   "pygments_lexer": "ipython3",
   "version": "3.12.1"
  }
 },
 "nbformat": 4,
 "nbformat_minor": 5
}
