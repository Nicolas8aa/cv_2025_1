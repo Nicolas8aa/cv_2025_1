{
 "cells": [
  {
   "cell_type": "markdown",
   "id": "0",
   "metadata": {},
   "source": [
    "# Práctica 13. Filtrado de imágenes (Convolución)\n",
    "\n",
    "<div class=\"alert alert-block alert-success\">\n",
    "<b>Resumen:</b> El código demuestra cómo aplicar filtros de convolución a una imagen en escala de grises utilizando Python y OpenCV, y cómo diferentes métodos de tratamiento de bordes afectan el resultado del filtrado.\n",
    "</div>\n",
    "\n",
    "***"
   ]
  },
  {
   "cell_type": "markdown",
   "id": "1",
   "metadata": {},
   "source": [
    "### 1. Preámbulo"
   ]
  },
  {
   "cell_type": "code",
   "execution_count": null,
   "id": "2",
   "metadata": {},
   "outputs": [],
   "source": [
    "# Importar las bibliotecas\n",
    "import cv2\n",
    "import numpy as np\n",
    "import matplotlib.pyplot as plt"
   ]
  },
  {
   "cell_type": "markdown",
   "id": "3",
   "metadata": {},
   "source": [
    "### 2. Lectura de la imagen"
   ]
  },
  {
   "cell_type": "code",
   "execution_count": null,
   "id": "4",
   "metadata": {},
   "outputs": [],
   "source": [
    "# Lectura y visualización de la imagen\n",
    "im_gray_1 = cv2.imread('./images/chessboard_calibration_setup.tif', cv2.IMREAD_GRAYSCALE)\n",
    "\n",
    "# Mostrar la imagen original\n",
    "plt.figure()\n",
    "plt.imshow(im_gray_1, cmap='gray')\n",
    "plt.title('Imagen Original')\n",
    "plt.axis('off')\n",
    "plt.show()\n",
    "\n",
    "\n"
   ]
  },
  {
   "cell_type": "code",
   "execution_count": null,
   "id": "5",
   "metadata": {},
   "outputs": [],
   "source": [
    "def show_image_in_3d(im_gray):\n",
    "    \"\"\"\n",
    "    Displays a grayscale image in 3D with pixel intensity as the Z-axis.\n",
    "\n",
    "    :param im_gray: Path to the grayscale image file.\n",
    "    \"\"\"\n",
    "    # Read the image in grayscale\n",
    "    if im_gray is None:\n",
    "        raise ValueError(f\"Image could not be loaded.\")\n",
    "\n",
    "   \n",
    "    # Show the image in 3D (Z-axis as pixel intensity)\n",
    "    fig = plt.figure()\n",
    "    ax = fig.add_subplot(111, projection='3d')\n",
    "    ax.set_title('3D Z-Axis')\n",
    "    ax.set_xlabel('X-axis')\n",
    "    ax.set_ylabel('Y-axis')\n",
    "    ax.set_zlabel('Z-axis')\n",
    "    ax.set_xlim(0, im_gray.shape[1])\n",
    "    ax.set_ylim(0, im_gray.shape[0])\n",
    "    ax.set_zlim(0, 255)\n",
    "    ax.view_init(elev=30, azim=30)\n",
    "\n",
    "    # Create meshgrid for X, Y, and Z\n",
    "    X, Y = np.meshgrid(np.arange(im_gray.shape[1]), np.arange(im_gray.shape[0]))\n",
    "    Z = im_gray[Y, X]\n",
    "\n",
    "    # Plot the surface\n",
    "    ax.plot_surface(X, Y, Z, rstride=1, cstride=1, facecolors=plt.cm.gray(Z / 255), alpha=0.5)\n",
    "    plt.show()\n",
    "\n",
    "    return fig, ax"
   ]
  },
  {
   "cell_type": "markdown",
   "id": "6",
   "metadata": {},
   "source": [
    "### 3. Función `imfilter`( ... )"
   ]
  },
  {
   "cell_type": "markdown",
   "id": "7",
   "metadata": {},
   "source": [
    "Máscara del filtro"
   ]
  },
  {
   "cell_type": "code",
   "execution_count": null,
   "id": "8",
   "metadata": {},
   "outputs": [],
   "source": [
    "# Definir el tamaño de la máscara (filtro)\n",
    "w_size = 19\n",
    "w = np.ones((w_size, w_size), dtype=np.float32) / (w_size * w_size)\n",
    "# w = np.ones((w_size, w_size), dtype=np.float32) # With this mask, the result is similar to the original image, but missing information"
   ]
  },
  {
   "cell_type": "markdown",
   "id": "9",
   "metadata": {},
   "source": [
    "<b>Actividad.</b> Consulte la ayuda de la función `filter2D` y conteste las siguientes preguntas.\n",
    "- ¿Qué argumento controla la profundidad del resultado filtrado en la función `filter2D` y cuál es su propósito?\n",
    "- ¿Cómo se define el tipo de bordes que se utilizará al aplicar la convolución en la función `filter2D`? ¿Qué opciones existen para este parámetro?\n",
    "- ¿Qué sucede si el tamaño del núcleo (filtro) proporcionado a `filter2D` es par en alguna de sus dimensiones?"
   ]
  },
  {
   "cell_type": "code",
   "execution_count": null,
   "id": "10",
   "metadata": {},
   "outputs": [],
   "source": [
    "help(cv2.filter2D)"
   ]
  },
  {
   "cell_type": "code",
   "execution_count": null,
   "id": "11",
   "metadata": {},
   "outputs": [],
   "source": [
    "# Filtrar la imagen con la máscara (filtro de convolución)\n",
    "g_1 = cv2.filter2D(im_gray_1, -1, w, borderType=cv2.BORDER_REPLICATE)\n",
    "g_2 = cv2.filter2D(im_gray_1, -1, np.rot90(w, 2), borderType=cv2.BORDER_REPLICATE)"
   ]
  },
  {
   "cell_type": "code",
   "execution_count": null,
   "id": "12",
   "metadata": {},
   "outputs": [],
   "source": [
    "# Visualización de los resultados\n",
    "plt.figure()\n",
    "plt.subplot(1, 3, 1)\n",
    "plt.imshow(im_gray_1, cmap='gray')\n",
    "plt.title('Imagen Original')\n",
    "plt.axis('off')\n",
    "\n",
    "plt.subplot(1, 3, 2)\n",
    "plt.imshow(g_1, cmap='gray')\n",
    "plt.title('g_1 (Convolución)')\n",
    "plt.axis('off')\n",
    "\n",
    "plt.subplot(1, 3, 3)\n",
    "plt.imshow(g_2, cmap='gray')\n",
    "plt.title('g_2 (Convolución rotada)')\n",
    "plt.axis('off')\n",
    "plt.show()\n",
    "\n",
    "\n",
    "\n",
    "# fig_original = show_image_in_3d(im_gray_1)\n",
    "# fig_filtered = show_image_in_3d(g_2)\n"
   ]
  },
  {
   "cell_type": "markdown",
   "id": "13",
   "metadata": {},
   "source": [
    "### 4. Más opciones de filtrado de imágenes"
   ]
  },
  {
   "cell_type": "code",
   "execution_count": null,
   "id": "14",
   "metadata": {},
   "outputs": [],
   "source": [
    "g_3 = cv2.filter2D(im_gray_1, -1, w, borderType=cv2.BORDER_REPLICATE)\n",
    "g_4 = cv2.filter2D(im_gray_1, -1, w, borderType=cv2.BORDER_REFLECT)"
   ]
  },
  {
   "cell_type": "code",
   "execution_count": null,
   "id": "15",
   "metadata": {},
   "outputs": [],
   "source": [
    "# Visualización de los resultados\n",
    "plt.figure()\n",
    "plt.subplot(1, 3, 1)\n",
    "plt.imshow(im_gray_1, cmap='gray')\n",
    "plt.title('Imagen Original')\n",
    "plt.axis('off')\n",
    "\n",
    "plt.subplot(1, 3, 2)\n",
    "plt.imshow(g_3, cmap='gray')\n",
    "plt.title('g_3 (Replicate)')\n",
    "plt.axis('off')\n",
    "\n",
    "plt.subplot(1, 3, 3)\n",
    "plt.imshow(g_4, cmap='gray')\n",
    "plt.title('g_4 (Symmetric)')\n",
    "plt.axis('off')"
   ]
  },
  {
   "cell_type": "markdown",
   "id": "16",
   "metadata": {},
   "source": [
    "***\n",
    "\n",
    "<b>Actividad</b> Aplique un filtro promedio a la imagen `test_pattern_blurring_orig.tif`"
   ]
  },
  {
   "cell_type": "code",
   "execution_count": null,
   "id": "17",
   "metadata": {},
   "outputs": [],
   "source": [
    "# aquí su código\n",
    "\n",
    "img_2 = cv2.imread('./images/test_pattern_blurring_orig.tif', cv2.IMREAD_GRAYSCALE)\n",
    "\n",
    "g_5 = cv2.filter2D(img_2, -1, w, borderType=cv2.BORDER_REPLICATE)\n",
    "\n",
    "# Show the original and filtered images\n",
    "plt.figure(figsize=(10, 5))\n",
    "plt.subplot(1, 2, 1)\n",
    "plt.imshow(img_2, cmap='gray')\n",
    "plt.title('Imagen Original')\n",
    "plt.axis('off')\n",
    "\n",
    "plt.subplot(1, 2, 2)\n",
    "plt.imshow(g_5, cmap='gray')\n",
    "plt.title('Imagen Filtrada')\n",
    "plt.axis('off')\n",
    "plt.show()"
   ]
  }
 ],
 "metadata": {
  "kernelspec": {
   "display_name": "venv",
   "language": "python",
   "name": "python3"
  },
  "language_info": {
   "codemirror_mode": {
    "name": "ipython",
    "version": 3
   },
   "file_extension": ".py",
   "mimetype": "text/x-python",
   "name": "python",
   "nbconvert_exporter": "python",
   "pygments_lexer": "ipython3",
   "version": "3.12.1"
  }
 },
 "nbformat": 4,
 "nbformat_minor": 5
}
