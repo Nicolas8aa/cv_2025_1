{
 "cells": [
  {
   "cell_type": "markdown",
   "id": "0",
   "metadata": {},
   "source": [
    "# Práctica 10. Espacios de color\n",
    "\n",
    "<div class=\"alert alert-block alert-success\">\n",
    "<b>Resumen:</b> Este notebook explora diferentes espacios de color utilizados en procesamiento digital de imágenes, tales como RGB, HSV, LAB y escala de grises. Se presentan técnicas para la manipulación de imágenes en estos espacios, así como visualizaciones en 2D y 3D de los componentes de color. La práctica tiene como objetivo proporcionar una comprensión profunda de cómo se representan y transforman los colores en imágenes digitales.\n",
    "</div>\n",
    "\n",
    "***"
   ]
  },
  {
   "cell_type": "code",
   "execution_count": null,
   "id": "1",
   "metadata": {},
   "outputs": [],
   "source": [
    "# Importar las bibliotecas necesarias\n",
    "import cv2\n",
    "import numpy as np\n",
    "import matplotlib.pyplot as plt\n",
    "from mpl_toolkits.mplot3d import Axes3D"
   ]
  },
  {
   "cell_type": "markdown",
   "id": "2",
   "metadata": {},
   "source": [
    "<b>Cargar la imagen de prueba</b>\n",
    "\n",
    "Se carga la imagen de prueba coloredChips.png utilizando la función `cv2.imread`, que permite leer la imagen en su formato BGR, el cual es estándar en OpenCV."
   ]
  },
  {
   "cell_type": "code",
   "execution_count": null,
   "id": "3",
   "metadata": {},
   "outputs": [],
   "source": [
    "im_1 = cv2.imread('./images/coloredChips.png')"
   ]
  },
  {
   "cell_type": "markdown",
   "id": "4",
   "metadata": {},
   "source": [
    "## 1. Espacio de color RGB\n",
    "\n",
    "El espacio de color RGB (Red, Green, Blue) es un modelo aditivo donde los colores se crean combinando diferentes intensidades de los tres colores primarios: rojo, verde y azul. En OpenCV, el formato de imagen estándar es BGR (Blue, Green, Red), por lo que es común convertir imágenes a RGB para facilitar la visualización y manipulación en Python. Este espacio de color es ampliamente utilizado en procesamiento de imágenes debido a su simplicidad y a su correspondencia directa con la percepción humana del color.\n",
    "\n",
    "### 1.1. Conversión de formato BGR a RGB"
   ]
  },
  {
   "cell_type": "code",
   "execution_count": null,
   "id": "5",
   "metadata": {},
   "outputs": [],
   "source": [
    "im_1_rgb = cv2.cvtColor(im_1, cv2.COLOR_BGR2RGB)"
   ]
  },
  {
   "cell_type": "markdown",
   "id": "6",
   "metadata": {},
   "source": [
    "Separación de canales RGB"
   ]
  },
  {
   "cell_type": "code",
   "execution_count": null,
   "id": "7",
   "metadata": {},
   "outputs": [],
   "source": [
    "(im_1_B, im_1_G, im_1_R) = cv2.split(im_1)"
   ]
  },
  {
   "cell_type": "markdown",
   "id": "8",
   "metadata": {},
   "source": [
    "### 1.2. Visualización de los canales individuales"
   ]
  },
  {
   "cell_type": "code",
   "execution_count": null,
   "id": "9",
   "metadata": {},
   "outputs": [],
   "source": [
    "# show each channel individually\n",
    "plt.figure(figsize = (7, 4))\n",
    "plt.subplot(2, 2, 1)\n",
    "plt.imshow(im_1_R, cmap='gray')\n",
    "plt.title('Red')\n",
    "plt.axis('off')\n",
    "\n",
    "plt.subplot(2, 2, 2)\n",
    "plt.imshow(im_1_G, cmap='gray')\n",
    "plt.title('Green')\n",
    "plt.axis('off')\n",
    "\n",
    "plt.subplot(2, 2, 3)\n",
    "plt.imshow(im_1_B, cmap='gray')\n",
    "plt.title('Blue')\n",
    "plt.axis('off')\n",
    "\n",
    "plt.subplot(2, 2, 4)\n",
    "plt.imshow(im_1_rgb)\n",
    "plt.title('RGB')\n",
    "plt.axis('off')\n",
    "plt.show()"
   ]
  },
  {
   "cell_type": "markdown",
   "id": "10",
   "metadata": {},
   "source": [
    "<b>Combinación de colores Red, Green, y Blue</b>\n",
    "\n",
    "La figura muestra la combinación de los colores primarios (Rojo, Verde, Azul) en el espacio RGB y los distintos tonos generados.\n",
    "\n",
    "<img src=\"color_combining.jpg\" width=\"200\">"
   ]
  },
  {
   "cell_type": "markdown",
   "id": "11",
   "metadata": {},
   "source": [
    "Para unir los canales"
   ]
  },
  {
   "cell_type": "code",
   "execution_count": null,
   "id": "12",
   "metadata": {},
   "outputs": [],
   "source": [
    "im_1_merged = cv2.merge([im_1_B, im_1_G, im_1_R])"
   ]
  },
  {
   "cell_type": "markdown",
   "id": "13",
   "metadata": {},
   "source": [
    "### 1.3.  Gráfico tridimensional del espacio de color RGB\n",
    "\n",
    "Gráfico tridimensional de los píxeles de la imagen en el espacio RGB. Esta visualización permite observar la distribución de los tonos en un eje 3d."
   ]
  },
  {
   "cell_type": "code",
   "execution_count": null,
   "id": "14",
   "metadata": {},
   "outputs": [],
   "source": [
    "def plot_rgb_color_space(im_bgr):\n",
    "    # Convertir la imagen de BGR a RGB\n",
    "    imagen_rgb = cv2.cvtColor(im_bgr, cv2.COLOR_BGR2RGB)\n",
    "\n",
    "    # Separar los canales RGB utilizando cv2.split()\n",
    "    R, G, B = cv2.split(imagen_rgb)\n",
    "\n",
    "    # Aplanar los canales para obtener vectores unidimensionales\n",
    "    R = R.flatten()\n",
    "    G = G.flatten()\n",
    "    B = B.flatten()\n",
    "\n",
    "    # Crear una figura 3D\n",
    "    fig = plt.figure()\n",
    "    ax = fig.add_subplot(111, projection='3d')\n",
    "\n",
    "    # Graficar cada píxel en el espacio RGB\n",
    "    ax.scatter(R, G, B, c=imagen_rgb.reshape(-1, 3)/255, marker='.', s=1)\n",
    "\n",
    "    # Etiquetas de los ejes\n",
    "    ax.set_xlabel('Rojo (R)')\n",
    "    ax.set_ylabel('Verde (G)')\n",
    "    ax.set_zlabel('Azul (B)')\n",
    "\n",
    "    # Ajustar manualmente la vista\n",
    "    ax.view_init(elev=40, azim=15)  # Cambia estos valores para rotar el gráfico\n",
    "\n",
    "    # Mostrar el gráfico\n",
    "    plt.show()"
   ]
  },
  {
   "cell_type": "code",
   "execution_count": null,
   "id": "15",
   "metadata": {},
   "outputs": [],
   "source": [
    "plot_rgb_color_space(im_1)"
   ]
  },
  {
   "cell_type": "markdown",
   "id": "16",
   "metadata": {},
   "source": [
    "***\n",
    "\n",
    "## Actividad\n",
    "\n",
    "Genera un gráfico tridimensional del espacio de color RGB de una de las imágenes de color de la actividad anterior (hojas de uva)."
   ]
  },
  {
   "cell_type": "code",
   "execution_count": null,
   "id": "17",
   "metadata": {},
   "outputs": [],
   "source": [
    "# escriba aquí su código\n",
    "\n",
    "# im_1 = cv2.imread('./images/coloredChips.png')"
   ]
  },
  {
   "cell_type": "markdown",
   "id": "18",
   "metadata": {},
   "source": [
    "***\n",
    "\n",
    "## 2. Espacio de color HSV\n",
    "\n",
    "El espacio de color HSV (Hue, Saturation, Value) es un modelo de color que separa la información cromática (tono) de la intensidad y la pureza del color. En OpenCV, este espacio se utiliza frecuentemente para tareas de procesamiento de imágenes donde es importante manipular los colores de manera independiente a su iluminación. HSV facilita operaciones como la detección de colores específicos y segmentación, ya que permite una representación más intuitiva de los colores comparada con el modelo RGB."
   ]
  },
  {
   "cell_type": "markdown",
   "id": "19",
   "metadata": {},
   "source": [
    "<img src=\"HSV_colorspace.jpg\" width=\"350\">\n",
    "\n",
    "La imagen muestra una representación tridimensional del espacio de color HSV (Hue, Saturation, Value). El modelo se visualiza como un cilindro, donde:\n",
    "\n",
    "- Hue (Tono): Representado en el borde exterior del cilindro, indica el color, variando de 0 a 360 grados, donde 0 es rojo, 120 es verde y 240 es azul.\n",
    "- Saturation (Saturación): Representada en el eje radial, indica la pureza del color, con valores que van desde 0 (gris, sin color) en el centro hasta 1 (color más puro) en el borde exterior.\n",
    "- Value (Valor o Brillo): Representado en el eje vertical del cilindro, indica la luminosidad del color, con valores que van desde 0 (negro) en la parte inferior hasta 1 (color más brillante) en la parte superior.\n",
    "\n",
    "***"
   ]
  },
  {
   "cell_type": "markdown",
   "id": "20",
   "metadata": {},
   "source": [
    "<img src=\"HSV_plane.png\" width=\"350\">\n",
    "\n",
    "La imagen muestra una representación bidimensional de una sección del espacio de color HSV, donde se fija la saturación en su valor máximo $S_{HSV}=1$\n",
    "\n",
    "- Eje horizontal (H): Representa el tono (Hue) variando de 0° a 360°. Este eje muestra la transición continua de colores, comenzando desde el rojo (0°), pasando por verde (120°), azul (240°), y volviendo al rojo (360°).\n",
    "- Eje vertical (V): Representa el valor o brillo (Value), variando de 0 a 1. En la parte inferior del gráfico, donde V=0, todos los colores son negros, mientras que en la parte superior, donde V=1, los colores son más brillantes y saturados.\n",
    "\n",
    "***\n",
    "\n",
    "### 2.1. Conversión de formato BGR a HSV"
   ]
  },
  {
   "cell_type": "code",
   "execution_count": null,
   "id": "21",
   "metadata": {},
   "outputs": [],
   "source": [
    "im_1_HSV = cv2.cvtColor(im_1, cv2.COLOR_BGR2HSV)"
   ]
  },
  {
   "cell_type": "markdown",
   "id": "22",
   "metadata": {},
   "source": [
    "Separación de canales HSV"
   ]
  },
  {
   "cell_type": "code",
   "execution_count": null,
   "id": "23",
   "metadata": {},
   "outputs": [],
   "source": [
    "(im_1_H, im_1_S, im_1_V) = cv2.split(im_1_HSV)\n",
    "\n",
    "print(im_1_H)"
   ]
  },
  {
   "cell_type": "markdown",
   "id": "24",
   "metadata": {},
   "source": [
    "### 2.2. Visualización de los canales individuales"
   ]
  },
  {
   "cell_type": "code",
   "execution_count": null,
   "id": "25",
   "metadata": {},
   "outputs": [],
   "source": [
    "# show each channel individually\n",
    "plt.figure(figsize = (7, 4))\n",
    "plt.subplot(2, 2, 1)\n",
    "plt.imshow(im_1_H, cmap='gray')\n",
    "plt.title('Hue')\n",
    "plt.axis('off')\n",
    "\n",
    "plt.subplot(2, 2, 2)\n",
    "plt.imshow(im_1_S, cmap='gray')\n",
    "plt.title('Saturation')\n",
    "plt.axis('off')\n",
    "\n",
    "plt.subplot(2, 2, 3)\n",
    "plt.imshow(im_1_V, cmap='gray')\n",
    "plt.title('Value')\n",
    "plt.axis('off')\n",
    "\n",
    "plt.subplot(2, 2, 4)\n",
    "plt.imshow(im_1_HSV)\n",
    "plt.title('HSV')\n",
    "plt.axis('off')\n",
    "plt.show()"
   ]
  },
  {
   "cell_type": "markdown",
   "id": "26",
   "metadata": {},
   "source": [
    "### 2.3.  Gráfico tridimensional del espacio de color HSV\n",
    "\n",
    "Gráfico tridimensional de los píxeles de la imagen en el espacio HSV. Esta visualización permite observar la distribución de los tonos en un eje 3d."
   ]
  },
  {
   "cell_type": "code",
   "execution_count": null,
   "id": "27",
   "metadata": {},
   "outputs": [],
   "source": [
    "def plot_hsv_color_space(image_hsv):\n",
    "    # Separar los canales RGB utilizando cv2.split()\n",
    "    H, S, V = cv2.split(image_hsv)\n",
    "    \n",
    "    # Convertir los valores a un rango adecuado\n",
    "    H = np.deg2rad(H.flatten())*2 # Convertir H de grados a radianes\n",
    "    S = S.flatten() / 255.0  # Normalizar S a [0, 1]\n",
    "    V = V.flatten() / 255.0  # Normalizar V a [0, 1]\n",
    "\n",
    "    # Convertir coordenadas cilíndricas (H, S, V) a cartesianas (x, y, z)\n",
    "    x = S * np.cos(H)\n",
    "    y = S * np.sin(H)\n",
    "    z = V\n",
    "\n",
    "    # Crear figura 3D\n",
    "    fig = plt.figure()\n",
    "    ax = fig.add_subplot(111, projection='3d')\n",
    "    \n",
    "    # Graficar los puntos en el espacio 3D\n",
    "    # Escalar el color de los puntos utilizando el espacio HSV normalizado\n",
    "    colors = cv2.cvtColor(image_hsv, cv2.COLOR_HSV2RGB).reshape(-1, 3) / 255.0\n",
    "    ax.scatter(x, y, z, c = colors, marker='.', s=1)\n",
    "\n",
    "    # Etiquetas de los ejes\n",
    "    ax.set_xlabel('X (S * cos(H))')\n",
    "    ax.set_ylabel('Y (S * sin(H))')\n",
    "    ax.set_zlabel('V (Value)')\n",
    "\n",
    "    # Ajustar manualmente la vista\n",
    "    ax.view_init(elev=90, azim=270)  # Cambia estos valores para rotar el gráfico\n",
    "    \n",
    "    # Mostrar el gráfico\n",
    "    plt.show()"
   ]
  },
  {
   "cell_type": "code",
   "execution_count": null,
   "id": "28",
   "metadata": {},
   "outputs": [],
   "source": [
    "plot_hsv_color_space(im_1_HSV)"
   ]
  },
  {
   "cell_type": "markdown",
   "id": "29",
   "metadata": {},
   "source": [
    "***\n",
    "\n",
    "## Actividad\n",
    "\n",
    "Genera un gráfico tridimensional del espacio de color HSV de una de las imágenes de color de la actividad anterior."
   ]
  },
  {
   "cell_type": "code",
   "execution_count": null,
   "id": "30",
   "metadata": {},
   "outputs": [],
   "source": [
    "# escriba aquí su código"
   ]
  },
  {
   "cell_type": "markdown",
   "id": "31",
   "metadata": {},
   "source": [
    "***\n",
    "\n",
    "## 3. Espacio de color LAB\n",
    "\n",
    "El espacio de color LAB es un modelo de color perceptualmente uniforme, diseñado para aproximar la visión del color humano. En este espacio, el canal **L** representa la luminosidad, mientras que los canales **A** y **B** contienen la información cromática, indicando los colores en los ejes verde-rojo y azul-amarillo, respectivamente. LAB es ampliamente utilizado en aplicaciones donde la percepción del color es necesaria, como en la corrección de color y la comparación de imágenes. \n",
    "\n",
    "<img src=\"lab_sphere.png\" width=\"350\">"
   ]
  },
  {
   "cell_type": "markdown",
   "id": "32",
   "metadata": {},
   "source": [
    "### 3.1. Conversión de formato BGR a LAB"
   ]
  },
  {
   "cell_type": "code",
   "execution_count": null,
   "id": "33",
   "metadata": {},
   "outputs": [],
   "source": [
    "im_1_LAB = cv2.cvtColor(im_1, cv2.COLOR_BGR2LAB)"
   ]
  },
  {
   "cell_type": "markdown",
   "id": "34",
   "metadata": {},
   "source": [
    "Separación de canales Lab"
   ]
  },
  {
   "cell_type": "code",
   "execution_count": null,
   "id": "35",
   "metadata": {},
   "outputs": [],
   "source": [
    "(im_1_L, im_1_A, im_1_B) = cv2.split(im_1_LAB)"
   ]
  },
  {
   "cell_type": "markdown",
   "id": "36",
   "metadata": {},
   "source": [
    "### 3.2. Visualización de los canales individuales"
   ]
  },
  {
   "cell_type": "code",
   "execution_count": null,
   "id": "37",
   "metadata": {},
   "outputs": [],
   "source": [
    "# show each channel individually\n",
    "plt.figure(figsize = (7, 4))\n",
    "plt.subplot(2, 2, 1)\n",
    "plt.imshow(im_1_L, cmap='gray')\n",
    "plt.title('L')\n",
    "plt.axis('off')\n",
    "\n",
    "plt.subplot(2, 2, 2)\n",
    "plt.imshow(im_1_A, cmap='gray')\n",
    "plt.title('a')\n",
    "plt.axis('off')\n",
    "\n",
    "plt.subplot(2, 2, 3)\n",
    "plt.imshow(im_1_B, cmap='gray')\n",
    "plt.title('b')\n",
    "plt.axis('off')\n",
    "\n",
    "plt.subplot(2, 2, 4)\n",
    "plt.imshow(im_1_LAB)\n",
    "plt.title('LAB')\n",
    "plt.axis('off')\n",
    "plt.show()"
   ]
  },
  {
   "cell_type": "markdown",
   "id": "38",
   "metadata": {},
   "source": [
    "### 3.3.  Gráfico tridimensional del espacio de color LAB\n",
    "\n",
    "Gráfico tridimensional de los píxeles de la imagen en el espacio LAB. Esta visualización permite observar la distribución de los tonos en un eje 3d."
   ]
  },
  {
   "cell_type": "code",
   "execution_count": null,
   "id": "39",
   "metadata": {},
   "outputs": [],
   "source": [
    "def plot_lab_color_space(image_lab):\n",
    "    # Separar los canales L, A y B\n",
    "    L, A, B = cv2.split(image_lab)\n",
    "    \n",
    "    # Convertir A y B al rango [-128, 127]\n",
    "    L = L.flatten()\n",
    "    A = A.flatten()\n",
    "    B = B.flatten()\n",
    "\n",
    "    # Crear figura 3D\n",
    "    fig = plt.figure()\n",
    "    ax = fig.add_subplot(111, projection='3d')\n",
    "    \n",
    "    # Graficar los puntos en el espacio 3D\n",
    "    # Escalar el color de los puntos utilizando el espacio HSV normalizado\n",
    "    colors = cv2.cvtColor(image_lab, cv2.COLOR_LAB2RGB).reshape(-1, 3) / 255.0\n",
    "    ax.scatter(A, B, L, c = colors, marker='.', s=1)\n",
    "\n",
    "    # Etiquetas de los ejes\n",
    "    ax.set_xlabel('A')\n",
    "    ax.set_ylabel('B')\n",
    "    ax.set_zlabel('L')\n",
    "\n",
    "    # Ajustar manualmente la vista\n",
    "    ax.view_init(elev=45, azim=70)  # Cambia estos valores para rotar el gráfico\n",
    "    \n",
    "    # Mostrar el gráfico\n",
    "    plt.show()"
   ]
  },
  {
   "cell_type": "code",
   "execution_count": null,
   "id": "40",
   "metadata": {},
   "outputs": [],
   "source": [
    "plot_lab_color_space(im_1_LAB)"
   ]
  },
  {
   "cell_type": "markdown",
   "id": "41",
   "metadata": {},
   "source": [
    "***\n",
    "\n",
    "## 4. Espacio de color Grayscale\n",
    "\n",
    "El espacio de color Grayscale (escala de grises) es una representación en la que cada píxel de una imagen tiene un valor de luminancia, sin contener información cromática. Este valor varía desde el negro (0) hasta el blanco (255), pasando por diferentes tonos de gris. En OpenCV, la conversión de una imagen en color a escala de grises es una operación común, utilizada para simplificar el procesamiento de imágenes, como en la detección de bordes y el análisis de texturas. Trabajar en escala de grises reduce la complejidad computacional, permitiendo un análisis más eficiente en muchas aplicaciones de visión por computadora.\n",
    "\n",
    "Las fórmulas para convertir una imagen en color al espacio de color Grayscale (escala de grises) se basan en una combinación ponderada de los canales de color (Rojo, Verde y Azul). La fórmula comúnmente utilizada es:\n",
    "\n",
    "$$ gray = 0.299 \\times R + 0.587 \\times G + 0.114 \\times B $$\n",
    "\n",
    "\n",
    "Donde:\n",
    "\n",
    "- **R** es la intensidad del canal rojo.\n",
    "- **G** es la intensidad del canal verde.\n",
    "- **B** es la intensidad del canal azul.\n",
    "\n",
    "Estas ponderaciones se eligen porque reflejan la sensibilidad del ojo humano a los diferentes colores, siendo el verde el más perceptible, seguido del rojo y luego azul de la imagen original."
   ]
  },
  {
   "cell_type": "markdown",
   "id": "42",
   "metadata": {},
   "source": [
    "### 4.1. Conversión de formato BGR a LAB"
   ]
  },
  {
   "cell_type": "code",
   "execution_count": null,
   "id": "43",
   "metadata": {},
   "outputs": [],
   "source": [
    "im_1_gray = cv2.cvtColor(im_1, cv2.COLOR_BGR2GRAY)"
   ]
  },
  {
   "cell_type": "markdown",
   "id": "44",
   "metadata": {},
   "source": [
    "### 4.2. Visualización de los canales individuales"
   ]
  },
  {
   "cell_type": "code",
   "execution_count": null,
   "id": "45",
   "metadata": {},
   "outputs": [],
   "source": [
    "# show each channel individually\n",
    "plt.figure(figsize = (7, 4))\n",
    "plt.subplot(1, 2, 1)\n",
    "plt.imshow(im_1_rgb)\n",
    "plt.title('RGB')\n",
    "plt.axis('off')\n",
    "\n",
    "plt.subplot(1, 2, 2)\n",
    "plt.imshow(im_1_gray, cmap='gray')\n",
    "plt.title('Grayscale')\n",
    "plt.axis('off')\n",
    "plt.show()"
   ]
  },
  {
   "cell_type": "code",
   "execution_count": null,
   "id": "46",
   "metadata": {},
   "outputs": [],
   "source": []
  }
 ],
 "metadata": {
  "kernelspec": {
   "display_name": "cv2-kernel",
   "language": "python",
   "name": "cv2-kernel"
  },
  "language_info": {
   "codemirror_mode": {
    "name": "ipython",
    "version": 3
   },
   "file_extension": ".py",
   "mimetype": "text/x-python",
   "name": "python",
   "nbconvert_exporter": "python",
   "pygments_lexer": "ipython3",
   "version": "3.12.1"
  }
 },
 "nbformat": 4,
 "nbformat_minor": 5
}
