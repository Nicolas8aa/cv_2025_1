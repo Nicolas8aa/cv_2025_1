{
 "cells": [
  {
   "cell_type": "markdown",
   "id": "0",
   "metadata": {},
   "source": [
    "# Filtros clasicos de visión por computadora parte 1\n",
    "\n",
    "<div class=\"alert alert-block alert-success\">\n",
    "<b>Resumen:</b> Filtrado espacial.\n",
    "</div>\n",
    "\n",
    "***"
   ]
  },
  {
   "cell_type": "markdown",
   "id": "1",
   "metadata": {},
   "source": [
    "Importación de librerias"
   ]
  },
  {
   "cell_type": "code",
   "execution_count": null,
   "id": "2",
   "metadata": {},
   "outputs": [],
   "source": [
    "import cv2\n",
    "import numpy as np\n",
    "import matplotlib.pyplot as plt"
   ]
  },
  {
   "cell_type": "markdown",
   "id": "3",
   "metadata": {},
   "source": [
    "## 1. Lectura imagen de prueba"
   ]
  },
  {
   "cell_type": "code",
   "execution_count": null,
   "id": "4",
   "metadata": {},
   "outputs": [],
   "source": [
    "image = cv2.imread('./images/lena_gray.tif') # cambiar a lena_std/lena_gray\n",
    "\n",
    "# Verificación de que la imagen se haya cargado correctamente\n",
    "if image is None:\n",
    "    raise FileNotFoundError(\"La imagen no se encontró en la ruta especificada.\")\n",
    "\n",
    "# Convertir a RGB para mostrar con Matplotlib\n",
    "image_rgb = cv2.cvtColor(image, cv2.COLOR_BGR2RGB)  "
   ]
  },
  {
   "cell_type": "markdown",
   "id": "5",
   "metadata": {},
   "source": [
    "## 2. Filtros espaciales"
   ]
  },
  {
   "cell_type": "code",
   "execution_count": null,
   "id": "6",
   "metadata": {},
   "outputs": [],
   "source": [
    "mask_size = 5"
   ]
  },
  {
   "cell_type": "code",
   "execution_count": null,
   "id": "7",
   "metadata": {},
   "outputs": [],
   "source": [
    "# 1. Filtro Promedio (Average Filter)\n",
    "kernel_average = np.ones((mask_size, mask_size), np.float32) / (mask_size ** 2)\n",
    "image_average = cv2.filter2D(image_rgb, -1, kernel_average)"
   ]
  },
  {
   "cell_type": "code",
   "execution_count": null,
   "id": "8",
   "metadata": {},
   "outputs": [],
   "source": [
    "# 2. Filtro Gaussiano\n",
    "image_gaussian = cv2.GaussianBlur(image_rgb, (mask_size, mask_size), 0)"
   ]
  },
  {
   "cell_type": "code",
   "execution_count": null,
   "id": "9",
   "metadata": {},
   "outputs": [],
   "source": [
    "# 3. Filtro Mediana\n",
    "image_median = cv2.medianBlur(image_rgb, mask_size)"
   ]
  },
  {
   "cell_type": "code",
   "execution_count": null,
   "id": "10",
   "metadata": {},
   "outputs": [],
   "source": [
    "# 4. Filtro de Sobel (detección de bordes)\n",
    "sobelx = cv2.Sobel(image_rgb, cv2.CV_64F, 1, 0, ksize = mask_size)  # Sobel en dirección x\n",
    "sobely = cv2.Sobel(image_rgb, cv2.CV_64F, 0, 1, ksize = mask_size)  # Sobel en dirección y\n",
    "\n",
    "# Escalar los resultados del Sobel\n",
    "sobelx_scaled = cv2.convertScaleAbs(sobelx)\n",
    "sobely_scaled = cv2.convertScaleAbs(sobely)\n",
    "\n",
    "# Respuesta del filtro Sobel en x e y\n",
    "sobel_grad = cv2.addWeighted(sobelx_scaled, 0.5, sobely_scaled, 0.5, 0)"
   ]
  },
  {
   "cell_type": "code",
   "execution_count": null,
   "id": "11",
   "metadata": {},
   "outputs": [],
   "source": [
    "#5. Filtro Prewitt\n",
    "kernelx = np.array([[1,1,1],[0,0,0],[-1,-1,-1]])\n",
    "kernely = np.array([[-1,0,1],[-1,0,1],[-1,0,1]])\n",
    "\n",
    "img_prewittx = cv2.filter2D(image_rgb, -1, kernelx)\n",
    "img_prewitty = cv2.filter2D(image_rgb, -1, kernely)\n",
    "\n",
    "# Respuesta del filtro Prewitt en x e y\n",
    "prewitty_grad = cv2.addWeighted(img_prewittx, 0.5, img_prewitty, 0.5, 0)"
   ]
  },
  {
   "cell_type": "code",
   "execution_count": null,
   "id": "12",
   "metadata": {},
   "outputs": [],
   "source": [
    "# 6. Filtro de Laplaciano (detección de bordes)\n",
    "image_laplacian = cv2.Laplacian(image_rgb, cv2.CV_64F)\n",
    "\n",
    "# Escalar los resultados del Laplaciano\n",
    "image_laplacian_scaled = cv2.convertScaleAbs(image_laplacian)"
   ]
  },
  {
   "cell_type": "markdown",
   "id": "13",
   "metadata": {},
   "source": [
    "## 3. Resultados"
   ]
  },
  {
   "cell_type": "code",
   "execution_count": null,
   "id": "14",
   "metadata": {},
   "outputs": [],
   "source": [
    "titles = ['Original', 'Filtro Promedio', 'Filtro Gaussiano', 'Filtro Mediana', 'Sobel X', 'Sobel Y', \\\n",
    "          'SobelXY', 'Prewitt X', 'Prewitt Y', 'Prewitt XY', 'Laplaciano']\n",
    "images = [image_rgb, image_average, image_gaussian, image_median, sobelx_scaled, sobely_scaled, \\\n",
    "          sobel_grad, img_prewittx, img_prewitty, prewitty_grad, image_laplacian_scaled]\n",
    "\n",
    "plt.figure(figsize=(15, 10))\n",
    "for i in range(len(images)):\n",
    "    plt.subplot(3, 4, i+1)\n",
    "    plt.imshow(images[i], cmap='gray' if i >= 4 else None)\n",
    "    plt.title(titles[i])\n",
    "    plt.axis('off')\n",
    "\n",
    "plt.tight_layout()\n",
    "plt.show()"
   ]
  },
  {
   "cell_type": "markdown",
   "id": "15",
   "metadata": {},
   "source": [
    "<b>Explicación:</b>\n",
    "\n",
    "- <b>Filtro Promedio:</b> Suaviza la imagen mediante la media de un vecindario de píxeles.\n",
    "- <b>Filtro Gaussiano:</b> Suaviza la imagen usando un filtro gaussiano para reducir el ruido.\n",
    "- <b>Filtro Mediana:</b> Elimina el ruido sal y pimienta preservando los bordes.\n",
    "- <b>Filtro de Sobel:</b> Detecta bordes en las direcciones horizontal y vertical.\n",
    "- <b>Filtro de Laplaciano:</b> Detecta bordes basándose en la segunda derivada."
   ]
  }
 ],
 "metadata": {
  "kernelspec": {
   "display_name": "cv2-kernel",
   "language": "python",
   "name": "cv2-kernel"
  },
  "language_info": {
   "codemirror_mode": {
    "name": "ipython",
    "version": 3
   },
   "file_extension": ".py",
   "mimetype": "text/x-python",
   "name": "python",
   "nbconvert_exporter": "python",
   "pygments_lexer": "ipython3",
   "version": "3.8.18"
  }
 },
 "nbformat": 4,
 "nbformat_minor": 5
}
